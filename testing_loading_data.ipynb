{
 "cells": [
  {
   "cell_type": "code",
   "execution_count": 1,
   "id": "408e22de",
   "metadata": {},
   "outputs": [],
   "source": [
    "import glob"
   ]
  },
  {
   "cell_type": "code",
   "execution_count": 2,
   "id": "5e6db218",
   "metadata": {},
   "outputs": [],
   "source": [
    "list_files = glob.glob(\"/HFIR/CG1D/IPTS-33592/raw/ct_scans/2024_07_03_lam_circuit_small/*.tiff\")\n"
   ]
  },
  {
   "cell_type": "markdown",
   "id": "77d9e47a",
   "metadata": {},
   "source": [
    "# using tifffile "
   ]
  },
  {
   "cell_type": "code",
   "execution_count": 8,
   "id": "c6002af5",
   "metadata": {},
   "outputs": [],
   "source": [
    "import tifffile\n",
    "import tqdm"
   ]
  },
  {
   "cell_type": "code",
   "execution_count": 4,
   "id": "6ae884fb",
   "metadata": {},
   "outputs": [],
   "source": [
    "# data = []\n",
    "# for _file in list_files:\n",
    "#     data.append(tifffile.imread(_file))"
   ]
  },
  {
   "cell_type": "code",
   "execution_count": 5,
   "id": "d8779664",
   "metadata": {},
   "outputs": [
    {
     "name": "stdout",
     "output_type": "stream",
     "text": [
      "Done!\n"
     ]
    }
   ],
   "source": [
    "print(\"Done!\")"
   ]
  },
  {
   "cell_type": "code",
   "execution_count": null,
   "id": "b1158145",
   "metadata": {},
   "outputs": [],
   "source": []
  },
  {
   "cell_type": "markdown",
   "id": "70d2f47c",
   "metadata": {},
   "source": [
    "# using dxchange"
   ]
  },
  {
   "cell_type": "code",
   "execution_count": 6,
   "id": "db10d2aa",
   "metadata": {},
   "outputs": [
    {
     "name": "stderr",
     "output_type": "stream",
     "text": [
      "/SNS/users/j35/mambaforge/envs/tomoornl310/lib/python3.10/site-packages/scipy/__init__.py:155: UserWarning: A NumPy version >=1.18.5 and <1.26.0 is required for this version of SciPy (detected version 1.26.4\n",
      "  warnings.warn(f\"A NumPy version >={np_minversion} and <{np_maxversion}\"\n"
     ]
    }
   ],
   "source": [
    "import dxchange\n",
    "import re\n",
    "import numpy as np\n",
    "from pathlib import Path"
   ]
  },
  {
   "cell_type": "code",
   "execution_count": 7,
   "id": "a06b723a",
   "metadata": {},
   "outputs": [],
   "source": [
    "data = np.zeros((len(list_files), 6400, 6400))\n",
    "for _index, _file in enumerate(list_files):\n",
    "    data[_index] = dxchange.read_tiff(_file)\n",
    "\n",
    "data = [_data for _data in data if data is not None]"
   ]
  },
  {
   "cell_type": "code",
   "execution_count": 4,
   "id": "abec1bbd",
   "metadata": {},
   "outputs": [],
   "source": [
    "def _extract_rotation_angles(filelist, metadata_idx: int = 65039):\n",
    "\n",
    "    regex = r\"\\d{8}_\\S*_\\d{4}_(?P<deg>\\d{3})_(?P<dec>\\d{3})_\\d*\\.tiff\"\n",
    "    matches = [re.match(regex, Path(f).name) for f in filelist]\n",
    "    if all(matches):\n",
    "        logger.info(\"Using rotation angles from filenames.\")\n",
    "        rotation_angles = np.array([float(\".\".join(m.groups())) for m in matches])\n",
    "    else:\n",
    "        # extract rotation angles from metadata\n",
    "        file_ext = set([Path(f).suffix for f in filelist])\n",
    "        if file_ext != {\".tiff\"}:\n",
    "            logger.error(\"Only tiff files are supported.\")\n",
    "            raise ValueError(\"Rotation angle from metadata is only supported for Tiff.\")\n",
    "        # -- read metadata\n",
    "        # img = tifffile.TiffFile(\"test_with_metadata_0.tiff\")\n",
    "        # img.pages[0].tags[65039].value\n",
    "        # >> 'RotationActual:0.579840'\n",
    "        rotation_angles = np.array(\n",
    "            [float(tifffile.TiffFile(f).pages[0].tags[metadata_idx].value.split(\":\")[-1]) for f in filelist],\n",
    "            dtype=\"float\",\n",
    "        )\n",
    "    return rotation_angles"
   ]
  },
  {
   "cell_type": "code",
   "execution_count": 10,
   "id": "acf77ee5",
   "metadata": {},
   "outputs": [
    {
     "data": {
      "text/plain": [
       "array([216.92, 188.87, 341.7 , ..., 325.55, 321.13,  48.79])"
      ]
     },
     "execution_count": 10,
     "metadata": {},
     "output_type": "execute_result"
    }
   ],
   "source": [
    "_extract_rotation_angles(list_files)"
   ]
  },
  {
   "cell_type": "code",
   "execution_count": null,
   "id": "8c069526",
   "metadata": {},
   "outputs": [],
   "source": []
  }
 ],
 "metadata": {
  "kernelspec": {
   "display_name": "Python 3 (ipykernel)",
   "language": "python",
   "name": "python3"
  },
  "language_info": {
   "codemirror_mode": {
    "name": "ipython",
    "version": 3
   },
   "file_extension": ".py",
   "mimetype": "text/x-python",
   "name": "python",
   "nbconvert_exporter": "python",
   "pygments_lexer": "ipython3",
   "version": "3.10.6"
  }
 },
 "nbformat": 4,
 "nbformat_minor": 5
}
