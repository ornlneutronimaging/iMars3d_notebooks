{
 "cells": [
  {
   "cell_type": "code",
   "execution_count": 3,
   "id": "408e22de",
   "metadata": {},
   "outputs": [],
   "source": [
    "import glob"
   ]
  },
  {
   "cell_type": "code",
   "execution_count": 4,
   "id": "5e6db218",
   "metadata": {},
   "outputs": [],
   "source": [
    "list_files = glob.glob(\"/HFIR/CG1D/IPTS-33592/raw/ct_scans/2024_07_03_lam_circuit_small/*.tiff\")\n"
   ]
  },
  {
   "cell_type": "markdown",
   "id": "77d9e47a",
   "metadata": {},
   "source": [
    "# using tifffile "
   ]
  },
  {
   "cell_type": "code",
   "execution_count": null,
   "id": "c6002af5",
   "metadata": {},
   "outputs": [],
   "source": [
    "import tifffile"
   ]
  },
  {
   "cell_type": "code",
   "execution_count": null,
   "id": "6ae884fb",
   "metadata": {},
   "outputs": [],
   "source": [
    "data = []\n",
    "for _file in list_files:\n",
    "    data.append(tifffile.imread(_file))"
   ]
  },
  {
   "cell_type": "code",
   "execution_count": null,
   "id": "d8779664",
   "metadata": {},
   "outputs": [],
   "source": [
    "print(\"Done!\")"
   ]
  },
  {
   "cell_type": "code",
   "execution_count": null,
   "id": "b1158145",
   "metadata": {},
   "outputs": [],
   "source": []
  },
  {
   "cell_type": "markdown",
   "id": "70d2f47c",
   "metadata": {},
   "source": [
    "# using dxchange"
   ]
  },
  {
   "cell_type": "code",
   "execution_count": 9,
   "id": "db10d2aa",
   "metadata": {},
   "outputs": [],
   "source": [
    "import dxchange\n",
    "import numpy as np"
   ]
  },
  {
   "cell_type": "code",
   "execution_count": null,
   "id": "a06b723a",
   "metadata": {},
   "outputs": [],
   "source": [
    "data = np.zeros((len(list_files), 6400, 6400))\n",
    "for _index, _file in enumerate(list_files):\n",
    "    data[_index] = dxchange.read_tiff(_file)"
   ]
  },
  {
   "cell_type": "code",
   "execution_count": null,
   "id": "abec1bbd",
   "metadata": {},
   "outputs": [],
   "source": []
  }
 ],
 "metadata": {
  "kernelspec": {
   "display_name": "Python 3 (ipykernel)",
   "language": "python",
   "name": "python3"
  },
  "language_info": {
   "codemirror_mode": {
    "name": "ipython",
    "version": 3
   },
   "file_extension": ".py",
   "mimetype": "text/x-python",
   "name": "python",
   "nbconvert_exporter": "python",
   "pygments_lexer": "ipython3",
   "version": "3.10.6"
  }
 },
 "nbformat": 4,
 "nbformat_minor": 5
}
