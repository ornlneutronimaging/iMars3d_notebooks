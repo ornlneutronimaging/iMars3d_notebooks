{
 "cells": [
  {
   "cell_type": "code",
   "execution_count": 2,
   "id": "e004e489",
   "metadata": {},
   "outputs": [],
   "source": [
    "import glob\n",
    "from imars3d.backend.dataio.data import load_data\n",
    "import dxchange\n",
    "import tifffile\n",
    "from tqdm.auto import tqdm\n",
    "from PIL import Image"
   ]
  },
  {
   "cell_type": "code",
   "execution_count": 3,
   "id": "26ca8165",
   "metadata": {},
   "outputs": [],
   "source": [
    "list_raw = glob.glob(\"/HFIR/CG1D/IPTS-33592/raw/ct_scans/2024_07_03_lam_circuit_small/*.tiff\")\n",
    "list_ob = list_raw[0:10]\n",
    "list_dc = list_raw[0:5]"
   ]
  },
  {
   "cell_type": "code",
   "execution_count": 4,
   "id": "89415575",
   "metadata": {},
   "outputs": [
    {
     "data": {
      "application/vnd.jupyter.widget-view+json": {
       "model_id": "bd71182dba8546aebdb654f934e12bc5",
       "version_major": 2,
       "version_minor": 0
      },
      "text/plain": [
       "  0%|          | 0/2118 [00:00<?, ?it/s]"
      ]
     },
     "metadata": {},
     "output_type": "display_data"
    }
   ],
   "source": [
    "data = []\n",
    "for i in tqdm(range(0, len(list_raw))):\n",
    "    data.append(Image.open(list_raw[i]))"
   ]
  },
  {
   "cell_type": "code",
   "execution_count": null,
   "id": "a895e3ad",
   "metadata": {},
   "outputs": [],
   "source": [
    "data_imars = load_data(ct_files=list_raw,\n",
    "                      ob_files=list_ob,\n",
    "                      dc_files=list_dc,\n",
    "                      )"
   ]
  },
  {
   "cell_type": "code",
   "execution_count": null,
   "id": "ac084b7d",
   "metadata": {},
   "outputs": [],
   "source": []
  }
 ],
 "metadata": {
  "kernelspec": {
   "display_name": "Python 3 (ipykernel)",
   "language": "python",
   "name": "python3"
  },
  "language_info": {
   "codemirror_mode": {
    "name": "ipython",
    "version": 3
   },
   "file_extension": ".py",
   "mimetype": "text/x-python",
   "name": "python",
   "nbconvert_exporter": "python",
   "pygments_lexer": "ipython3",
   "version": "3.10.6"
  }
 },
 "nbformat": 4,
 "nbformat_minor": 5
}
