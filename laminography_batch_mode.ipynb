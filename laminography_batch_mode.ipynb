{
 "cells": [
  {
   "cell_type": "markdown",
   "id": "8a094585",
   "metadata": {},
   "source": [
    "[![Notebook Tutorial](__code/__all/notebook_tutorial.png)](https://neutronimaging.ornl.gov/ct-reconstruction/)\n",
    "\n",
    "<img src='__docs/notebook_rules.png' />"
   ]
  },
  {
   "cell_type": "code",
   "execution_count": 1,
   "id": "fd77f4b7",
   "metadata": {
    "scrolled": false
   },
   "outputs": [
    {
     "data": {
      "text/html": [
       "\n",
       "<style type=\"text/css\">\n",
       ".jupyter-widgets select option {font-family: \"Lucida Console\", Monaco, monospace;}\n",
       ".jupyter-widgets select {width: 98%;}\n",
       "div.output_subarea {padding: 0px;}\n",
       "div.output_subarea > div {margin: 0.4em;}\n",
       "</style>\n"
      ],
      "text/plain": [
       "<IPython.core.display.HTML object>"
      ]
     },
     "metadata": {},
     "output_type": "display_data"
    },
    {
     "data": {
      "text/html": [
       "\n",
       "<style type=\"text/css\">\n",
       ".jupyter-widgets select option {font-family: \"Lucida Console\", Monaco, monospace;}\n",
       "div.output_subarea {padding: 0px;}\n",
       "div.output_subarea > div {margin: 0.4em;}\n",
       "</style>\n"
      ],
      "text/plain": [
       "<IPython.core.display.HTML object>"
      ]
     },
     "metadata": {},
     "output_type": "display_data"
    },
    {
     "data": {
      "text/html": [
       "\n",
       "                   <style>\n",
       "                   .result_label {\n",
       "                      font-style: bold;\n",
       "                      color: red;\n",
       "                      font-size: 18px;\n",
       "                   }\n",
       "                   </style>\n",
       "                   "
      ],
      "text/plain": [
       "<IPython.core.display.HTML object>"
      ]
     },
     "metadata": {},
     "output_type": "display_data"
    },
    {
     "data": {
      "application/vnd.jupyter.widget-view+json": {
       "model_id": "6cfa71c468cb4821a3f364f1a1bc81a8",
       "version_major": 2,
       "version_minor": 0
      },
      "text/plain": [
       "VBox(children=(HBox(children=(Label(value='Select Instrument', layout=Layout(width='20%')), Select(layout=Layo…"
      ]
     },
     "metadata": {},
     "output_type": "display_data"
    }
   ],
   "source": [
    "import warnings\n",
    "warnings.filterwarnings('ignore')\n",
    "\n",
    "import matplotlib.pyplot as plt\n",
    "%matplotlib notebook\n",
    "\n",
    "import imars3d\n",
    "\n",
    "from __code.laminographyui_batch_mode import LaminographyUi\n",
    "\n",
    "from __code import system\n",
    "system.System.select_working_dir()\n",
    "from __code.__all import custom_style\n",
    "custom_style.style()\n",
    "\n",
    "%matplotlib notebook"
   ]
  },
  {
   "cell_type": "markdown",
   "id": "d1c84734",
   "metadata": {},
   "source": [
    "# Select input data "
   ]
  },
  {
   "cell_type": "markdown",
   "id": "1a9713ab",
   "metadata": {},
   "source": [
    "## raw data"
   ]
  },
  {
   "cell_type": "markdown",
   "id": "af72108a",
   "metadata": {},
   "source": [
    "# FOR DEBUGGING ONLY "
   ]
  },
  {
   "cell_type": "code",
   "execution_count": 2,
   "id": "2f98f6fd",
   "metadata": {},
   "outputs": [
    {
     "name": "stdout",
     "output_type": "stream",
     "text": [
      "raw folder selected: ['/HFIR/CG1D/IPTS-33592/raw/ct_scans/2024_07_03_lam_circuit_small'] with 2118 files)\n",
      "ob folder selected: ['/HFIR/CG1D/IPTS-33592/raw/ob/2024_07_03_lam_circuit_small'] with 5 files)\n",
      "dc folder selected: ['/HFIR/CG1D/IPTS-33592/raw/ob/2024_07_03_lam_circuit_small'] with 5 files)\n"
     ]
    }
   ],
   "source": [
    "o_imars3dui = LaminographyUi(working_dir=\"/HFIR/CG1D/IPTS-33592\")\n",
    "from __code import DataType\n",
    "from __code.workflow.load import Load\n",
    "import ipywidgets as widgets\n",
    "\n",
    "# raw\n",
    "o_load = Load(parent=o_imars3dui)\n",
    "o_imars3dui.current_data_type = DataType.raw\n",
    "o_load.data_selected('/HFIR/CG1D/IPTS-33592/raw/ct_scans/2024_07_03_lam_circuit_small')\n",
    "\n",
    "o_imars3dui.current_data_type = DataType.ob\n",
    "o_load.data_selected(['/HFIR/CG1D/IPTS-33592/raw/ob/2024_07_03_lam_circuit_small'])\n",
    "\n",
    "o_imars3dui.current_data_type = DataType.dc\n",
    "o_imars3dui.select_dc_flag = widgets.Checkbox(value=False)\n",
    "o_load.data_selected(['/HFIR/CG1D/IPTS-33592/raw/ob/2024_07_03_lam_circuit_small'])\n"
   ]
  },
  {
   "cell_type": "markdown",
   "id": "72802fdf",
   "metadata": {},
   "source": [
    "# END OF DEBUGGING "
   ]
  },
  {
   "cell_type": "code",
   "execution_count": 3,
   "id": "bf8e0048",
   "metadata": {},
   "outputs": [],
   "source": [
    "#o_imars3dui = LaminographyUi(working_dir=system.System.get_working_dir())\n",
    "#o_imars3dui.select_raw()"
   ]
  },
  {
   "cell_type": "markdown",
   "id": "883aaab9-dad2-4530-91c6-2fbf7c34483d",
   "metadata": {},
   "source": [
    "## ob "
   ]
  },
  {
   "cell_type": "code",
   "execution_count": 4,
   "id": "43d257da",
   "metadata": {},
   "outputs": [],
   "source": [
    "#o_imars3dui.select_ob()"
   ]
  },
  {
   "cell_type": "markdown",
   "id": "ba6b9bff",
   "metadata": {},
   "source": [
    "## dc "
   ]
  },
  {
   "cell_type": "code",
   "execution_count": 5,
   "id": "b15e85c0",
   "metadata": {},
   "outputs": [],
   "source": [
    "#o_imars3dui.select_dc_options()"
   ]
  },
  {
   "cell_type": "code",
   "execution_count": 6,
   "id": "a1abeac0",
   "metadata": {},
   "outputs": [],
   "source": [
    "#o_imars3dui.select_dc()"
   ]
  },
  {
   "cell_type": "markdown",
   "id": "1e53e769",
   "metadata": {},
   "source": [
    "# Define parameters"
   ]
  },
  {
   "cell_type": "markdown",
   "id": "03ae07d9",
   "metadata": {},
   "source": [
    "1. The program is going a small portion of your sample data\n",
    "\n",
    "then\n",
    "\n",
    "2. You will be able to define the various parameters of the reconstruction"
   ]
  },
  {
   "cell_type": "code",
   "execution_count": 7,
   "id": "b82edc23",
   "metadata": {},
   "outputs": [],
   "source": [
    "%matplotlib inline"
   ]
  },
  {
   "cell_type": "code",
   "execution_count": 8,
   "id": "b36991bb",
   "metadata": {
    "scrolled": false
   },
   "outputs": [
    {
     "data": {
      "application/vnd.jupyter.widget-view+json": {
       "model_id": "e065f15930d3461c903a53f47fd54120",
       "version_major": 2,
       "version_minor": 0
      },
      "text/plain": [
       "ct:   0%|          | 0/2 [00:00<?, ?it/s]"
      ]
     },
     "metadata": {},
     "output_type": "display_data"
    },
    {
     "data": {
      "application/vnd.jupyter.widget-view+json": {
       "model_id": "f98efaddb4a74d78b02203dd8601e874",
       "version_major": 2,
       "version_minor": 0
      },
      "text/plain": [
       "ob:   0%|          | 0/5 [00:00<?, ?it/s]"
      ]
     },
     "metadata": {},
     "output_type": "display_data"
    },
    {
     "data": {
      "application/vnd.jupyter.widget-view+json": {
       "model_id": "372cc2ba8e684171b659f103762a4b89",
       "version_major": 2,
       "version_minor": 0
      },
      "text/plain": [
       "dc:   0%|          | 0/5 [00:00<?, ?it/s]"
      ]
     },
     "metadata": {},
     "output_type": "display_data"
    },
    {
     "data": {
      "text/html": [
       "<hr style=height:5px; border:none; color:#333;background-color:#333><h1>Crop</h1>"
      ],
      "text/plain": [
       "<IPython.core.display.HTML object>"
      ]
     },
     "metadata": {},
     "output_type": "display_data"
    },
    {
     "data": {
      "application/vnd.jupyter.widget-view+json": {
       "model_id": "dd6ed8ce51a74a09b50c941415a77321",
       "version_major": 2,
       "version_minor": 0
      },
      "text/plain": [
       "interactive(children=(IntSlider(value=0, description='left', max=6399), IntSlider(value=6399, continuous_updat…"
      ]
     },
     "metadata": {},
     "output_type": "display_data"
    },
    {
     "data": {
      "text/html": [
       "<hr style=height:5px; border:none; color:#333;background-color:#333><h1>Filtering #1</h1>"
      ],
      "text/plain": [
       "<IPython.core.display.HTML object>"
      ]
     },
     "metadata": {},
     "output_type": "display_data"
    },
    {
     "data": {
      "application/vnd.jupyter.widget-view+json": {
       "model_id": "b732529c693b4a3ab92b61b570b7c77a",
       "version_major": 2,
       "version_minor": 0
      },
      "text/plain": [
       "Checkbox(value=False, description='Gamma filtering')"
      ]
     },
     "metadata": {},
     "output_type": "display_data"
    },
    {
     "data": {
      "text/html": [
       "<hr style=height:5px; border:none; color:#333;background-color:#333><h1>Beam fluctuation</h1>"
      ],
      "text/plain": [
       "<IPython.core.display.HTML object>"
      ]
     },
     "metadata": {},
     "output_type": "display_data"
    },
    {
     "data": {
      "application/vnd.jupyter.widget-view+json": {
       "model_id": "bfe56494e805434da68084d4ff1f470a",
       "version_major": 2,
       "version_minor": 0
      },
      "text/plain": [
       "Checkbox(value=False, description='Beam fluctuation correction')"
      ]
     },
     "metadata": {},
     "output_type": "display_data"
    },
    {
     "data": {
      "text/html": [
       "<hr style=height:5px; border:none; color:#333;background-color:#333><h1>Tilt calculation</h1>"
      ],
      "text/plain": [
       "<IPython.core.display.HTML object>"
      ]
     },
     "metadata": {},
     "output_type": "display_data"
    },
    {
     "data": {
      "application/vnd.jupyter.widget-view+json": {
       "model_id": "deb64efcb8d2473aaee210046ac9de55",
       "version_major": 2,
       "version_minor": 0
      },
      "text/plain": [
       "VBox(children=(Label(value='Tilt value (degrees)', layout=Layout(width='200px')), FloatSlider(value=0.0, max=9…"
      ]
     },
     "metadata": {},
     "output_type": "display_data"
    },
    {
     "data": {
      "text/html": [
       "<hr style=height:5px; border:none; color:#333;background-color:#333><h1>Filtering #2</h1>"
      ],
      "text/plain": [
       "<IPython.core.display.HTML object>"
      ]
     },
     "metadata": {},
     "output_type": "display_data"
    },
    {
     "data": {
      "application/vnd.jupyter.widget-view+json": {
       "model_id": "efcb988441274d7db1105a9be633b3fa",
       "version_major": 2,
       "version_minor": 0
      },
      "text/plain": [
       "Checkbox(value=False, description='Remove negative values')"
      ]
     },
     "metadata": {},
     "output_type": "display_data"
    },
    {
     "data": {
      "text/html": [
       "<hr style=height:5px; border:none; color:#333;background-color:#333><h1>Ring removal</h1>"
      ],
      "text/plain": [
       "<IPython.core.display.HTML object>"
      ]
     },
     "metadata": {},
     "output_type": "display_data"
    },
    {
     "data": {
      "application/vnd.jupyter.widget-view+json": {
       "model_id": "bc8ed50d68dc4315b9b5dddc0b5a6ac6",
       "version_major": 2,
       "version_minor": 0
      },
      "text/plain": [
       "VBox(children=(Checkbox(value=False, description='BM3D', disabled=True), Checkbox(value=False, description='To…"
      ]
     },
     "metadata": {},
     "output_type": "display_data"
    },
    {
     "data": {
      "text/html": [
       "<hr style=height:5px; border:none; color:#333;background-color:#333><h1>Range of slices to reconstruct</h1>"
      ],
      "text/plain": [
       "<IPython.core.display.HTML object>"
      ]
     },
     "metadata": {},
     "output_type": "display_data"
    },
    {
     "data": {
      "application/vnd.jupyter.widget-view+json": {
       "model_id": "066979773eff4844810bea5aa2086192",
       "version_major": 2,
       "version_minor": 0
      },
      "text/plain": [
       "interactive(children=(IntSlider(value=0, continuous_update=False, description='top', max=6399), IntSlider(valu…"
      ]
     },
     "metadata": {},
     "output_type": "display_data"
    },
    {
     "data": {
      "text/html": [
       "<hr style=height:5px; border:none; color:#333;background-color:#333><h1>Define laminography parameters</h1>"
      ],
      "text/plain": [
       "<IPython.core.display.HTML object>"
      ]
     },
     "metadata": {},
     "output_type": "display_data"
    },
    {
     "data": {
      "application/vnd.jupyter.widget-view+json": {
       "model_id": "94fd7305e81e412c9c445d1c1500348e",
       "version_major": 2,
       "version_minor": 0
      },
      "text/plain": [
       "Tab(children=(HBox(children=(FloatSlider(value=20.0, max=90.0, step=0.01), Label(value='°'))), VBox(children=(…"
      ]
     },
     "metadata": {},
     "output_type": "display_data"
    }
   ],
   "source": [
    "o_imars3dui.define_parameters()"
   ]
  },
  {
   "cell_type": "markdown",
   "id": "dd0b5a36",
   "metadata": {},
   "source": [
    "# Launch batch job "
   ]
  },
  {
   "cell_type": "code",
   "execution_count": null,
   "id": "94f225d3",
   "metadata": {},
   "outputs": [],
   "source": [
    "o_imars3dui.launch_batch_job()"
   ]
  },
  {
   "cell_type": "code",
   "execution_count": null,
   "id": "bc00b76e",
   "metadata": {},
   "outputs": [],
   "source": []
  },
  {
   "cell_type": "code",
   "execution_count": null,
   "id": "50a27c78",
   "metadata": {},
   "outputs": [],
   "source": []
  },
  {
   "cell_type": "markdown",
   "id": "85815b10",
   "metadata": {},
   "source": [
    "### Run laminography reconstruction "
   ]
  },
  {
   "cell_type": "code",
   "execution_count": null,
   "id": "889ff3cd",
   "metadata": {
    "scrolled": false
   },
   "outputs": [
    {
     "name": "stderr",
     "output_type": "stream",
     "text": [
      "INFO:imars3d.backend.morph.crop:Executing Filter: Crop\n",
      "INFO:imars3d.backend.morph.crop:FINISHED Executing Filter: Crop\n"
     ]
    }
   ],
   "source": [
    "o_imars3dui.run_laminography()"
   ]
  },
  {
   "cell_type": "markdown",
   "id": "d46d53ca",
   "metadata": {},
   "source": [
    "# Visualize reconstruction"
   ]
  },
  {
   "cell_type": "code",
   "execution_count": null,
   "id": "9b53a196",
   "metadata": {},
   "outputs": [],
   "source": [
    "o_imars3dui.visualize_reconstruction()"
   ]
  },
  {
   "cell_type": "markdown",
   "id": "58916e7d",
   "metadata": {},
   "source": [
    "# Export\n"
   ]
  },
  {
   "cell_type": "code",
   "execution_count": null,
   "id": "5d1647d9",
   "metadata": {},
   "outputs": [],
   "source": [
    "o_imars3dui.export()"
   ]
  },
  {
   "cell_type": "code",
   "execution_count": null,
   "id": "05f8c098-0728-4ba5-ba02-6bc22157b36d",
   "metadata": {},
   "outputs": [],
   "source": []
  }
 ],
 "metadata": {
  "kernelspec": {
   "display_name": "Python 3 (ipykernel)",
   "language": "python",
   "name": "python3"
  },
  "language_info": {
   "codemirror_mode": {
    "name": "ipython",
    "version": 3
   },
   "file_extension": ".py",
   "mimetype": "text/x-python",
   "name": "python",
   "nbconvert_exporter": "python",
   "pygments_lexer": "ipython3",
   "version": "3.10.6"
  }
 },
 "nbformat": 4,
 "nbformat_minor": 5
}
