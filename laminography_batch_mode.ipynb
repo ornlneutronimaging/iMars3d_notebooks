{
 "cells": [
  {
   "cell_type": "markdown",
   "id": "8a094585",
   "metadata": {},
   "source": [
    "[![Notebook Tutorial](__code/__all/notebook_tutorial.png)](https://neutronimaging.ornl.gov/ct-reconstruction/)\n",
    "\n",
    "<img src='__docs/notebook_rules.png' />"
   ]
  },
  {
   "cell_type": "code",
   "execution_count": 1,
   "id": "fd77f4b7",
   "metadata": {
    "scrolled": false
   },
   "outputs": [
    {
     "data": {
      "text/html": [
       "\n",
       "<style type=\"text/css\">\n",
       ".jupyter-widgets select option {font-family: \"Lucida Console\", Monaco, monospace;}\n",
       ".jupyter-widgets select {width: 98%;}\n",
       "div.output_subarea {padding: 0px;}\n",
       "div.output_subarea > div {margin: 0.4em;}\n",
       "</style>\n"
      ],
      "text/plain": [
       "<IPython.core.display.HTML object>"
      ]
     },
     "metadata": {},
     "output_type": "display_data"
    },
    {
     "data": {
      "text/html": [
       "\n",
       "<style type=\"text/css\">\n",
       ".jupyter-widgets select option {font-family: \"Lucida Console\", Monaco, monospace;}\n",
       "div.output_subarea {padding: 0px;}\n",
       "div.output_subarea > div {margin: 0.4em;}\n",
       "</style>\n"
      ],
      "text/plain": [
       "<IPython.core.display.HTML object>"
      ]
     },
     "metadata": {},
     "output_type": "display_data"
    },
    {
     "data": {
      "text/html": [
       "\n",
       "                   <style>\n",
       "                   .result_label {\n",
       "                      font-style: bold;\n",
       "                      color: red;\n",
       "                      font-size: 18px;\n",
       "                   }\n",
       "                   </style>\n",
       "                   "
      ],
      "text/plain": [
       "<IPython.core.display.HTML object>"
      ]
     },
     "metadata": {},
     "output_type": "display_data"
    },
    {
     "data": {
      "application/vnd.jupyter.widget-view+json": {
       "model_id": "85b41e3d79f14b8a93804a1c1a27acad",
       "version_major": 2,
       "version_minor": 0
      },
      "text/plain": [
       "VBox(children=(HBox(children=(Label(value='Select Instrument', layout=Layout(width='20%')), Select(layout=Layo…"
      ]
     },
     "metadata": {},
     "output_type": "display_data"
    }
   ],
   "source": [
    "import warnings\n",
    "warnings.filterwarnings('ignore')\n",
    "\n",
    "import matplotlib.pyplot as plt\n",
    "%matplotlib notebook\n",
    "\n",
    "import imars3d\n",
    "\n",
    "from __code.laminographyui_batch_mode import LaminographyUi\n",
    "\n",
    "from __code import system\n",
    "system.System.select_working_dir()\n",
    "from __code.__all import custom_style\n",
    "custom_style.style()\n",
    "\n",
    "%matplotlib notebook"
   ]
  },
  {
   "cell_type": "markdown",
   "id": "d1c84734",
   "metadata": {},
   "source": [
    "# Select input data "
   ]
  },
  {
   "cell_type": "markdown",
   "id": "1a9713ab",
   "metadata": {},
   "source": [
    "## raw data"
   ]
  },
  {
   "cell_type": "markdown",
   "id": "af72108a",
   "metadata": {},
   "source": [
    "# FOR DEBUGGING ONLY "
   ]
  },
  {
   "cell_type": "code",
   "execution_count": 2,
   "id": "2f98f6fd",
   "metadata": {},
   "outputs": [
    {
     "name": "stdout",
     "output_type": "stream",
     "text": [
      "raw folder selected: ['/HFIR/CG1D/IPTS-33592/raw/ct_scans/2024_07_03_lam_circuit_small'] with 2118 files)\n",
      "ob folder selected: ['/HFIR/CG1D/IPTS-33592/raw/ob/2024_07_03_lam_circuit_small'] with 5 files)\n",
      "dc folder selected: ['/HFIR/CG1D/IPTS-33592/raw/ob/2024_07_03_lam_circuit_small'] with 5 files)\n"
     ]
    }
   ],
   "source": [
    "o_imars3dui = LaminographyUi(working_dir=\"/HFIR/CG1D/IPTS-33592\")\n",
    "from __code import DataType\n",
    "from __code.workflow.load import Load\n",
    "import ipywidgets as widgets\n",
    "\n",
    "# raw\n",
    "o_load = Load(parent=o_imars3dui)\n",
    "o_imars3dui.current_data_type = DataType.raw\n",
    "o_load.data_selected('/HFIR/CG1D/IPTS-33592/raw/ct_scans/2024_07_03_lam_circuit_small')\n",
    "\n",
    "o_imars3dui.current_data_type = DataType.ob\n",
    "o_load.data_selected(['/HFIR/CG1D/IPTS-33592/raw/ob/2024_07_03_lam_circuit_small'])\n",
    "\n",
    "o_imars3dui.current_data_type = DataType.dc\n",
    "o_imars3dui.select_dc_flag = widgets.Checkbox(value=False)\n",
    "o_load.data_selected(['/HFIR/CG1D/IPTS-33592/raw/ob/2024_07_03_lam_circuit_small'])\n"
   ]
  },
  {
   "cell_type": "markdown",
   "id": "72802fdf",
   "metadata": {},
   "source": [
    "# END OF DEBUGGING "
   ]
  },
  {
   "cell_type": "code",
   "execution_count": 3,
   "id": "bf8e0048",
   "metadata": {},
   "outputs": [],
   "source": [
    "#o_imars3dui = LaminographyUi(working_dir=system.System.get_working_dir())\n",
    "#o_imars3dui.select_raw()"
   ]
  },
  {
   "cell_type": "markdown",
   "id": "883aaab9-dad2-4530-91c6-2fbf7c34483d",
   "metadata": {},
   "source": [
    "## ob "
   ]
  },
  {
   "cell_type": "code",
   "execution_count": 4,
   "id": "43d257da",
   "metadata": {},
   "outputs": [],
   "source": [
    "#o_imars3dui.select_ob()"
   ]
  },
  {
   "cell_type": "markdown",
   "id": "ba6b9bff",
   "metadata": {},
   "source": [
    "## dc "
   ]
  },
  {
   "cell_type": "code",
   "execution_count": 5,
   "id": "b15e85c0",
   "metadata": {},
   "outputs": [],
   "source": [
    "#o_imars3dui.select_dc_options()"
   ]
  },
  {
   "cell_type": "code",
   "execution_count": 6,
   "id": "a1abeac0",
   "metadata": {},
   "outputs": [],
   "source": [
    "#o_imars3dui.select_dc()"
   ]
  },
  {
   "cell_type": "markdown",
   "id": "1e53e769",
   "metadata": {},
   "source": [
    "# Define parameters"
   ]
  },
  {
   "cell_type": "markdown",
   "id": "03ae07d9",
   "metadata": {},
   "source": [
    "1. The program is going a small portion of your sample data\n",
    "\n",
    "then\n",
    "\n",
    "2. You will be able to define the various parameters of the reconstruction"
   ]
  },
  {
   "cell_type": "code",
   "execution_count": 7,
   "id": "b82edc23",
   "metadata": {},
   "outputs": [],
   "source": [
    "%matplotlib inline"
   ]
  },
  {
   "cell_type": "code",
   "execution_count": 8,
   "id": "b36991bb",
   "metadata": {
    "scrolled": false
   },
   "outputs": [
    {
     "name": "stdout",
     "output_type": "stream",
     "text": [
      "Before loading: total memory usage = 292.92MB\n"
     ]
    },
    {
     "data": {
      "application/vnd.jupyter.widget-view+json": {
       "model_id": "a54b0acf8f9f40a5baf5bf943e255e76",
       "version_major": 2,
       "version_minor": 0
      },
      "text/plain": [
       "ct:   0%|          | 0/2 [00:00<?, ?it/s]"
      ]
     },
     "metadata": {},
     "output_type": "display_data"
    },
    {
     "data": {
      "application/vnd.jupyter.widget-view+json": {
       "model_id": "c291e06fca9441118d9b6b5191b09ba0",
       "version_major": 2,
       "version_minor": 0
      },
      "text/plain": [
       "ob:   0%|          | 0/5 [00:00<?, ?it/s]"
      ]
     },
     "metadata": {},
     "output_type": "display_data"
    },
    {
     "data": {
      "application/vnd.jupyter.widget-view+json": {
       "model_id": "f8bb9b236be54a9cba80d315ba1e2d67",
       "version_major": 2,
       "version_minor": 0
      },
      "text/plain": [
       "dc:   0%|          | 0/5 [00:00<?, ?it/s]"
      ]
     },
     "metadata": {},
     "output_type": "display_data"
    },
    {
     "name": "stdout",
     "output_type": "stream",
     "text": [
      "After loading: total memory usage = 1.24GB\n"
     ]
    },
    {
     "data": {
      "text/html": [
       "<hr style=height:5px; border:none; color:#333;background-color:#333><h1>Crop</h1>"
      ],
      "text/plain": [
       "<IPython.core.display.HTML object>"
      ]
     },
     "metadata": {},
     "output_type": "display_data"
    },
    {
     "data": {
      "application/vnd.jupyter.widget-view+json": {
       "model_id": "3adca35ecdfc49a0afe2197211603f74",
       "version_major": 2,
       "version_minor": 0
      },
      "text/plain": [
       "interactive(children=(IntSlider(value=0, description='left', max=6399), IntSlider(value=6399, continuous_updat…"
      ]
     },
     "metadata": {},
     "output_type": "display_data"
    },
    {
     "data": {
      "text/html": [
       "<hr style=height:5px; border:none; color:#333;background-color:#333><h1>Filtering #1</h1>"
      ],
      "text/plain": [
       "<IPython.core.display.HTML object>"
      ]
     },
     "metadata": {},
     "output_type": "display_data"
    },
    {
     "data": {
      "application/vnd.jupyter.widget-view+json": {
       "model_id": "7ce60d0007954879bd2edfd192767dd4",
       "version_major": 2,
       "version_minor": 0
      },
      "text/plain": [
       "Checkbox(value=False, description='Gamma filtering')"
      ]
     },
     "metadata": {},
     "output_type": "display_data"
    },
    {
     "data": {
      "text/html": [
       "<hr style=height:5px; border:none; color:#333;background-color:#333><h1>Beam fluctuation</h1>"
      ],
      "text/plain": [
       "<IPython.core.display.HTML object>"
      ]
     },
     "metadata": {},
     "output_type": "display_data"
    },
    {
     "data": {
      "application/vnd.jupyter.widget-view+json": {
       "model_id": "bd84939b946840848277b221f7c24662",
       "version_major": 2,
       "version_minor": 0
      },
      "text/plain": [
       "Checkbox(value=False, description='Beam fluctuation correction')"
      ]
     },
     "metadata": {},
     "output_type": "display_data"
    },
    {
     "data": {
      "application/vnd.jupyter.widget-view+json": {
       "model_id": "4d20d14e418740199a490607531bd011",
       "version_major": 2,
       "version_minor": 0
      },
      "text/plain": [
       "interactive(children=(IntSlider(value=0, description='left', max=6399), IntSlider(value=6399, continuous_updat…"
      ]
     },
     "metadata": {},
     "output_type": "display_data"
    },
    {
     "data": {
      "text/html": [
       "<hr style=height:5px; border:none; color:#333;background-color:#333><h1>Tilt calculation</h1>"
      ],
      "text/plain": [
       "<IPython.core.display.HTML object>"
      ]
     },
     "metadata": {},
     "output_type": "display_data"
    },
    {
     "data": {
      "application/vnd.jupyter.widget-view+json": {
       "model_id": "e3020834c71d4aed9848c09ccada3e57",
       "version_major": 2,
       "version_minor": 0
      },
      "text/plain": [
       "VBox(children=(Label(value='Tilt value (degrees)', layout=Layout(width='200px')), FloatSlider(value=0.0, max=9…"
      ]
     },
     "metadata": {},
     "output_type": "display_data"
    },
    {
     "data": {
      "text/html": [
       "<hr style=height:5px; border:none; color:#333;background-color:#333><h1>Filtering #2</h1>"
      ],
      "text/plain": [
       "<IPython.core.display.HTML object>"
      ]
     },
     "metadata": {},
     "output_type": "display_data"
    },
    {
     "data": {
      "application/vnd.jupyter.widget-view+json": {
       "model_id": "5ae4cc6dd2a240309d3a94165b01d685",
       "version_major": 2,
       "version_minor": 0
      },
      "text/plain": [
       "Checkbox(value=False, description='Remove negative values')"
      ]
     },
     "metadata": {},
     "output_type": "display_data"
    },
    {
     "data": {
      "text/html": [
       "<hr style=height:5px; border:none; color:#333;background-color:#333><h1>Ring removal</h1>"
      ],
      "text/plain": [
       "<IPython.core.display.HTML object>"
      ]
     },
     "metadata": {},
     "output_type": "display_data"
    },
    {
     "data": {
      "application/vnd.jupyter.widget-view+json": {
       "model_id": "957d1fbbee96421b99c716c145c10bbd",
       "version_major": 2,
       "version_minor": 0
      },
      "text/plain": [
       "VBox(children=(Checkbox(value=False, description='BM3D', disabled=True), Checkbox(value=False, description='To…"
      ]
     },
     "metadata": {},
     "output_type": "display_data"
    },
    {
     "data": {
      "text/html": [
       "<hr style=height:5px; border:none; color:#333;background-color:#333><h1>Range of slices to reconstruct</h1>"
      ],
      "text/plain": [
       "<IPython.core.display.HTML object>"
      ]
     },
     "metadata": {},
     "output_type": "display_data"
    },
    {
     "data": {
      "application/vnd.jupyter.widget-view+json": {
       "model_id": "dcb6938b84ca434aa20f61d752194bc0",
       "version_major": 2,
       "version_minor": 0
      },
      "text/plain": [
       "interactive(children=(IntSlider(value=0, continuous_update=False, description='top', max=6399), IntSlider(valu…"
      ]
     },
     "metadata": {},
     "output_type": "display_data"
    },
    {
     "data": {
      "text/html": [
       "<hr style=height:5px; border:none; color:#333;background-color:#333><h1>Define laminography parameters</h1>"
      ],
      "text/plain": [
       "<IPython.core.display.HTML object>"
      ]
     },
     "metadata": {},
     "output_type": "display_data"
    },
    {
     "data": {
      "application/vnd.jupyter.widget-view+json": {
       "model_id": "e1a852298d75472eaf4fca4bcd088172",
       "version_major": 2,
       "version_minor": 0
      },
      "text/plain": [
       "Tab(children=(HBox(children=(FloatSlider(value=20.0, max=90.0, step=0.01), Label(value='°'))), VBox(children=(…"
      ]
     },
     "metadata": {},
     "output_type": "display_data"
    },
    {
     "data": {
      "text/html": [
       "<hr style=height:5px; border:none; color:#333;background-color:#333><h1>Output folder</h1>"
      ],
      "text/plain": [
       "<IPython.core.display.HTML object>"
      ]
     },
     "metadata": {},
     "output_type": "display_data"
    },
    {
     "data": {
      "application/vnd.jupyter.widget-view+json": {
       "model_id": "b92c85105e474fe881679b2e93de786b",
       "version_major": 2,
       "version_minor": 0
      },
      "text/plain": [
       "HBox(children=(Button(button_style='success', description='Jump to IPTS-33592 Shared Folder', layout=Layout(bo…"
      ]
     },
     "metadata": {},
     "output_type": "display_data"
    },
    {
     "data": {
      "application/vnd.jupyter.widget-view+json": {
       "model_id": "573a02d17ef742c0bb5a9919bb735d48",
       "version_major": 2,
       "version_minor": 0
      },
      "text/plain": [
       "VBox(children=(Label(value='Select Output Folder', layout=Layout(width='250px')), VBox(children=(HBox(children…"
      ]
     },
     "metadata": {},
     "output_type": "display_data"
    }
   ],
   "source": [
    "o_imars3dui.define_parameters()"
   ]
  },
  {
   "cell_type": "markdown",
   "id": "23a7907e",
   "metadata": {},
   "source": [
    "# Launch batch job "
   ]
  },
  {
   "cell_type": "code",
   "execution_count": 9,
   "id": "94f225d3",
   "metadata": {
    "scrolled": false
   },
   "outputs": [
    {
     "data": {
      "text/html": [
       "<h2>JSON created</h2>: /SNS/users/j35/laminography_None_08m_06d_2024y_10h_25mn.json"
      ],
      "text/plain": [
       "<IPython.core.display.HTML object>"
      ]
     },
     "metadata": {},
     "output_type": "display_data"
    },
    {
     "data": {
      "text/html": [
       "<h2>LOG file:</h2>: /SNS/users/j35/laminography_None_08m_06d_2024y_10h_25mn.log"
      ],
      "text/plain": [
       "<IPython.core.display.HTML object>"
      ]
     },
     "metadata": {},
     "output_type": "display_data"
    }
   ],
   "source": [
    "o_imars3dui.launch_batch_job()"
   ]
  },
  {
   "cell_type": "code",
   "execution_count": null,
   "id": "bc00b76e",
   "metadata": {},
   "outputs": [],
   "source": []
  },
  {
   "cell_type": "code",
   "execution_count": null,
   "id": "50a27c78",
   "metadata": {},
   "outputs": [],
   "source": []
  },
  {
   "cell_type": "code",
   "execution_count": null,
   "id": "f36db9fc",
   "metadata": {},
   "outputs": [],
   "source": []
  }
 ],
 "metadata": {
  "kernelspec": {
   "display_name": "Python 3 (ipykernel)",
   "language": "python",
   "name": "python3"
  },
  "language_info": {
   "codemirror_mode": {
    "name": "ipython",
    "version": 3
   },
   "file_extension": ".py",
   "mimetype": "text/x-python",
   "name": "python",
   "nbconvert_exporter": "python",
   "pygments_lexer": "ipython3",
   "version": "3.10.6"
  }
 },
 "nbformat": 4,
 "nbformat_minor": 5
}
