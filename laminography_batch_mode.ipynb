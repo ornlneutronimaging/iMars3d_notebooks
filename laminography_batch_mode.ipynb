{
 "cells": [
  {
   "cell_type": "markdown",
   "id": "8a094585",
   "metadata": {},
   "source": [
    "[![Notebook Tutorial](__code/__all/notebook_tutorial.png)](https://neutronimaging.ornl.gov/ct-reconstruction/)\n",
    "\n",
    "<img src='__docs/notebook_rules.png' />"
   ]
  },
  {
   "cell_type": "code",
   "execution_count": 1,
   "id": "fd77f4b7",
   "metadata": {
    "scrolled": false
   },
   "outputs": [
    {
     "data": {
      "text/html": [
       "\n",
       "<style type=\"text/css\">\n",
       ".jupyter-widgets select option {font-family: \"Lucida Console\", Monaco, monospace;}\n",
       ".jupyter-widgets select {width: 98%;}\n",
       "div.output_subarea {padding: 0px;}\n",
       "div.output_subarea > div {margin: 0.4em;}\n",
       "</style>\n"
      ],
      "text/plain": [
       "<IPython.core.display.HTML object>"
      ]
     },
     "metadata": {},
     "output_type": "display_data"
    },
    {
     "data": {
      "text/html": [
       "\n",
       "<style type=\"text/css\">\n",
       ".jupyter-widgets select option {font-family: \"Lucida Console\", Monaco, monospace;}\n",
       "div.output_subarea {padding: 0px;}\n",
       "div.output_subarea > div {margin: 0.4em;}\n",
       "</style>\n"
      ],
      "text/plain": [
       "<IPython.core.display.HTML object>"
      ]
     },
     "metadata": {},
     "output_type": "display_data"
    },
    {
     "data": {
      "text/html": [
       "\n",
       "                   <style>\n",
       "                   .result_label {\n",
       "                      font-style: bold;\n",
       "                      color: red;\n",
       "                      font-size: 18px;\n",
       "                   }\n",
       "                   </style>\n",
       "                   "
      ],
      "text/plain": [
       "<IPython.core.display.HTML object>"
      ]
     },
     "metadata": {},
     "output_type": "display_data"
    },
    {
     "data": {
      "application/vnd.jupyter.widget-view+json": {
       "model_id": "1f446846073b43f9a7e36ac84dbeb977",
       "version_major": 2,
       "version_minor": 0
      },
      "text/plain": [
       "VBox(children=(HBox(children=(Label(value='Select Instrument', layout=Layout(width='20%')), Select(layout=Layo…"
      ]
     },
     "metadata": {},
     "output_type": "display_data"
    }
   ],
   "source": [
    "import warnings\n",
    "warnings.filterwarnings('ignore')\n",
    "\n",
    "import matplotlib.pyplot as plt\n",
    "%matplotlib notebook\n",
    "\n",
    "import imars3d\n",
    "\n",
    "from __code.laminographyui_batch_mode import LaminographyUi\n",
    "\n",
    "from __code import system\n",
    "system.System.select_working_dir()\n",
    "from __code.__all import custom_style\n",
    "custom_style.style()\n",
    "\n",
    "%matplotlib notebook"
   ]
  },
  {
   "cell_type": "markdown",
   "id": "d1c84734",
   "metadata": {},
   "source": [
    "# Select input data "
   ]
  },
  {
   "cell_type": "markdown",
   "id": "1a9713ab",
   "metadata": {},
   "source": [
    "## raw data"
   ]
  },
  {
   "cell_type": "markdown",
   "id": "af72108a",
   "metadata": {},
   "source": [
    "# FOR DEBUGGING ONLY "
   ]
  },
  {
   "cell_type": "code",
   "execution_count": 2,
   "id": "2f98f6fd",
   "metadata": {},
   "outputs": [
    {
     "name": "stdout",
     "output_type": "stream",
     "text": [
      "raw folder selected: ['/HFIR/CG1D/IPTS-33592/raw/ct_scans/2024_07_03_lam_circuit_small'] with 2118 files)\n",
      "ob folder selected: ['/HFIR/CG1D/IPTS-33592/raw/ob/2024_07_03_lam_circuit_small'] with 5 files)\n",
      "dc folder selected: ['/HFIR/CG1D/IPTS-33592/raw/ob/2024_07_03_lam_circuit_small'] with 5 files)\n"
     ]
    }
   ],
   "source": [
    "o_imars3dui = LaminographyUi(working_dir=\"/HFIR/CG1D/IPTS-33592\")\n",
    "from __code import DataType\n",
    "from __code.workflow.load import Load\n",
    "import ipywidgets as widgets\n",
    "\n",
    "# raw\n",
    "o_load = Load(parent=o_imars3dui)\n",
    "o_imars3dui.current_data_type = DataType.raw\n",
    "o_load.data_selected('/HFIR/CG1D/IPTS-33592/raw/ct_scans/2024_07_03_lam_circuit_small')\n",
    "\n",
    "o_imars3dui.current_data_type = DataType.ob\n",
    "o_load.data_selected(['/HFIR/CG1D/IPTS-33592/raw/ob/2024_07_03_lam_circuit_small'])\n",
    "\n",
    "o_imars3dui.current_data_type = DataType.dc\n",
    "o_imars3dui.select_dc_flag = widgets.Checkbox(value=False)\n",
    "o_load.data_selected(['/HFIR/CG1D/IPTS-33592/raw/ob/2024_07_03_lam_circuit_small'])\n"
   ]
  },
  {
   "cell_type": "markdown",
   "id": "72802fdf",
   "metadata": {},
   "source": [
    "# END OF DEBUGGING "
   ]
  },
  {
   "cell_type": "code",
   "execution_count": 3,
   "id": "bf8e0048",
   "metadata": {},
   "outputs": [],
   "source": [
    "#o_imars3dui = LaminographyUi(working_dir=system.System.get_working_dir())\n",
    "#o_imars3dui.select_raw()"
   ]
  },
  {
   "cell_type": "markdown",
   "id": "883aaab9-dad2-4530-91c6-2fbf7c34483d",
   "metadata": {},
   "source": [
    "## ob "
   ]
  },
  {
   "cell_type": "code",
   "execution_count": 4,
   "id": "43d257da",
   "metadata": {},
   "outputs": [],
   "source": [
    "#o_imars3dui.select_ob()"
   ]
  },
  {
   "cell_type": "markdown",
   "id": "ba6b9bff",
   "metadata": {},
   "source": [
    "## dc "
   ]
  },
  {
   "cell_type": "code",
   "execution_count": 5,
   "id": "b15e85c0",
   "metadata": {},
   "outputs": [],
   "source": [
    "#o_imars3dui.select_dc_options()"
   ]
  },
  {
   "cell_type": "code",
   "execution_count": 6,
   "id": "a1abeac0",
   "metadata": {},
   "outputs": [],
   "source": [
    "#o_imars3dui.select_dc()"
   ]
  },
  {
   "cell_type": "markdown",
   "id": "1e53e769",
   "metadata": {},
   "source": [
    "# Define parameters"
   ]
  },
  {
   "cell_type": "markdown",
   "id": "03ae07d9",
   "metadata": {},
   "source": [
    "1. The program is going a small portion of your sample data\n",
    "\n",
    "then\n",
    "\n",
    "2. You will be able to define the various parameters of the reconstruction"
   ]
  },
  {
   "cell_type": "code",
   "execution_count": 7,
   "id": "b82edc23",
   "metadata": {},
   "outputs": [],
   "source": [
    "%matplotlib inline"
   ]
  },
  {
   "cell_type": "code",
   "execution_count": 8,
   "id": "b36991bb",
   "metadata": {
    "scrolled": false
   },
   "outputs": [
    {
     "data": {
      "application/vnd.jupyter.widget-view+json": {
       "model_id": "6f89cb02d2c447d3a769afdfbab307f8",
       "version_major": 2,
       "version_minor": 0
      },
      "text/plain": [
       "ct:   0%|          | 0/2 [00:00<?, ?it/s]"
      ]
     },
     "metadata": {},
     "output_type": "display_data"
    },
    {
     "data": {
      "application/vnd.jupyter.widget-view+json": {
       "model_id": "b331ffcd07db4b8bbec02a6947bccd2e",
       "version_major": 2,
       "version_minor": 0
      },
      "text/plain": [
       "ob:   0%|          | 0/5 [00:00<?, ?it/s]"
      ]
     },
     "metadata": {},
     "output_type": "display_data"
    },
    {
     "data": {
      "application/vnd.jupyter.widget-view+json": {
       "model_id": "9c5101d7c13c4714b22306c4f49c6914",
       "version_major": 2,
       "version_minor": 0
      },
      "text/plain": [
       "dc:   0%|          | 0/5 [00:00<?, ?it/s]"
      ]
     },
     "metadata": {},
     "output_type": "display_data"
    },
    {
     "data": {
      "text/html": [
       "<hr style=height:5px; border:none; color:#333;background-color:#333><h1>Crop</h1>"
      ],
      "text/plain": [
       "<IPython.core.display.HTML object>"
      ]
     },
     "metadata": {},
     "output_type": "display_data"
    },
    {
     "data": {
      "application/vnd.jupyter.widget-view+json": {
       "model_id": "8e67934313e64e96b4bff8eddc792436",
       "version_major": 2,
       "version_minor": 0
      },
      "text/plain": [
       "interactive(children=(IntSlider(value=0, description='left', max=6399), IntSlider(value=6399, continuous_updat…"
      ]
     },
     "metadata": {},
     "output_type": "display_data"
    },
    {
     "data": {
      "text/html": [
       "<hr style=height:5px; border:none; color:#333;background-color:#333><h1>Filtering #1</h1>"
      ],
      "text/plain": [
       "<IPython.core.display.HTML object>"
      ]
     },
     "metadata": {},
     "output_type": "display_data"
    },
    {
     "data": {
      "application/vnd.jupyter.widget-view+json": {
       "model_id": "a4cdfb314b0c4530ba49aefe3cfdb8f2",
       "version_major": 2,
       "version_minor": 0
      },
      "text/plain": [
       "Checkbox(value=False, description='Gamma filtering')"
      ]
     },
     "metadata": {},
     "output_type": "display_data"
    },
    {
     "data": {
      "text/html": [
       "<hr style=height:5px; border:none; color:#333;background-color:#333><h1>Beam fluctuation</h1>"
      ],
      "text/plain": [
       "<IPython.core.display.HTML object>"
      ]
     },
     "metadata": {},
     "output_type": "display_data"
    },
    {
     "data": {
      "application/vnd.jupyter.widget-view+json": {
       "model_id": "2f961d08caf7475a8ec9ebc486ed40ea",
       "version_major": 2,
       "version_minor": 0
      },
      "text/plain": [
       "Checkbox(value=False, description='Beam fluctuation correction')"
      ]
     },
     "metadata": {},
     "output_type": "display_data"
    },
    {
     "data": {
      "text/html": [
       "<hr style=height:5px; border:none; color:#333;background-color:#333><h1>Tilt calculation</h1>"
      ],
      "text/plain": [
       "<IPython.core.display.HTML object>"
      ]
     },
     "metadata": {},
     "output_type": "display_data"
    },
    {
     "data": {
      "application/vnd.jupyter.widget-view+json": {
       "model_id": "7cae08afaae845daaf313dda29251706",
       "version_major": 2,
       "version_minor": 0
      },
      "text/plain": [
       "VBox(children=(Label(value='Tilt value (degrees)', layout=Layout(width='200px')), FloatSlider(value=0.0, max=9…"
      ]
     },
     "metadata": {},
     "output_type": "display_data"
    },
    {
     "data": {
      "text/html": [
       "<hr style=height:5px; border:none; color:#333;background-color:#333><h1>Filtering #2</h1>"
      ],
      "text/plain": [
       "<IPython.core.display.HTML object>"
      ]
     },
     "metadata": {},
     "output_type": "display_data"
    },
    {
     "data": {
      "application/vnd.jupyter.widget-view+json": {
       "model_id": "45fe996e96ee48c49f4ac274a709b76f",
       "version_major": 2,
       "version_minor": 0
      },
      "text/plain": [
       "Checkbox(value=False, description='Remove negative values')"
      ]
     },
     "metadata": {},
     "output_type": "display_data"
    },
    {
     "data": {
      "text/html": [
       "<hr style=height:5px; border:none; color:#333;background-color:#333><h1>Ring removal</h1>"
      ],
      "text/plain": [
       "<IPython.core.display.HTML object>"
      ]
     },
     "metadata": {},
     "output_type": "display_data"
    },
    {
     "data": {
      "application/vnd.jupyter.widget-view+json": {
       "model_id": "4bce8e306e554aff90b199765112f89c",
       "version_major": 2,
       "version_minor": 0
      },
      "text/plain": [
       "VBox(children=(Checkbox(value=False, description='BM3D', disabled=True), Checkbox(value=False, description='To…"
      ]
     },
     "metadata": {},
     "output_type": "display_data"
    },
    {
     "data": {
      "text/html": [
       "<hr style=height:5px; border:none; color:#333;background-color:#333><h1>Range of slices to reconstruct</h1>"
      ],
      "text/plain": [
       "<IPython.core.display.HTML object>"
      ]
     },
     "metadata": {},
     "output_type": "display_data"
    },
    {
     "data": {
      "application/vnd.jupyter.widget-view+json": {
       "model_id": "547686c7258c40ddbc10b79a53bd0ce5",
       "version_major": 2,
       "version_minor": 0
      },
      "text/plain": [
       "interactive(children=(IntSlider(value=0, continuous_update=False, description='top', max=6399), IntSlider(valu…"
      ]
     },
     "metadata": {},
     "output_type": "display_data"
    },
    {
     "data": {
      "text/html": [
       "<hr style=height:5px; border:none; color:#333;background-color:#333><h1>Define laminography parameters</h1>"
      ],
      "text/plain": [
       "<IPython.core.display.HTML object>"
      ]
     },
     "metadata": {},
     "output_type": "display_data"
    },
    {
     "ename": "AttributeError",
     "evalue": "'LaminographyUi' object has no attribute 'proj_mlog'",
     "output_type": "error",
     "traceback": [
      "\u001b[0;31m---------------------------------------------------------------------------\u001b[0m",
      "\u001b[0;31mAttributeError\u001b[0m                            Traceback (most recent call last)",
      "Cell \u001b[0;32mIn [8], line 1\u001b[0m\n\u001b[0;32m----> 1\u001b[0m \u001b[43mo_imars3dui\u001b[49m\u001b[38;5;241;43m.\u001b[39;49m\u001b[43mdefine_parameters\u001b[49m\u001b[43m(\u001b[49m\u001b[43m)\u001b[49m\n",
      "File \u001b[0;32m~/git/iMars3d_notebooks/__code/laminographyui_batch_mode.py:182\u001b[0m, in \u001b[0;36mLaminographyUi.define_parameters\u001b[0;34m(self)\u001b[0m\n\u001b[1;32m    179\u001b[0m \u001b[38;5;28mself\u001b[39m\u001b[38;5;241m.\u001b[39mselect_range_of_slices(batch_mode\u001b[38;5;241m=\u001b[39m\u001b[38;5;28;01mTrue\u001b[39;00m)\n\u001b[1;32m    181\u001b[0m \u001b[38;5;28mself\u001b[39m\u001b[38;5;241m.\u001b[39mdisplay_section_title(name\u001b[38;5;241m=\u001b[39m\u001b[38;5;124m\"\u001b[39m\u001b[38;5;124mDefine laminography parameters\u001b[39m\u001b[38;5;124m\"\u001b[39m)\n\u001b[0;32m--> 182\u001b[0m \u001b[38;5;28;43mself\u001b[39;49m\u001b[38;5;241;43m.\u001b[39;49m\u001b[43mlaminography_settings\u001b[49m\u001b[43m(\u001b[49m\u001b[43m)\u001b[49m\n",
      "File \u001b[0;32m~/git/iMars3d_notebooks/__code/laminographyui_batch_mode.py:426\u001b[0m, in \u001b[0;36mLaminographyUi.laminography_settings\u001b[0;34m(self)\u001b[0m\n\u001b[1;32m    425\u001b[0m \u001b[38;5;28;01mdef\u001b[39;00m \u001b[38;5;21mlaminography_settings\u001b[39m(\u001b[38;5;28mself\u001b[39m):\n\u001b[0;32m--> 426\u001b[0m     \u001b[38;5;28mself\u001b[39m\u001b[38;5;241m.\u001b[39mo_event_laminography_settings \u001b[38;5;241m=\u001b[39m \u001b[43mLaminographyEventHandler\u001b[49m\u001b[43m(\u001b[49m\u001b[43mparent\u001b[49m\u001b[38;5;241;43m=\u001b[39;49m\u001b[38;5;28;43mself\u001b[39;49m\u001b[43m)\u001b[49m\n\u001b[1;32m    427\u001b[0m     \u001b[38;5;28mself\u001b[39m\u001b[38;5;241m.\u001b[39mo_event_laminography_settings\u001b[38;5;241m.\u001b[39mset_settings()\n",
      "File \u001b[0;32m~/git/iMars3d_notebooks/__code/laminography_event_handler.py:49\u001b[0m, in \u001b[0;36mLaminographyEventHandler.__init__\u001b[0;34m(self, parent)\u001b[0m\n\u001b[1;32m     46\u001b[0m \u001b[38;5;28mself\u001b[39m\u001b[38;5;241m.\u001b[39mparent \u001b[38;5;241m=\u001b[39m parent\n\u001b[1;32m     48\u001b[0m \u001b[38;5;28mself\u001b[39m\u001b[38;5;241m.\u001b[39mz_top, \u001b[38;5;28mself\u001b[39m\u001b[38;5;241m.\u001b[39mz_bottom \u001b[38;5;241m=\u001b[39m \u001b[38;5;28mlist\u001b[39m(\u001b[38;5;28mself\u001b[39m\u001b[38;5;241m.\u001b[39mparent\u001b[38;5;241m.\u001b[39mz_range_selection\u001b[38;5;241m.\u001b[39mresult)\n\u001b[0;32m---> 49\u001b[0m \u001b[38;5;28mself\u001b[39m\u001b[38;5;241m.\u001b[39m_proj_mlog \u001b[38;5;241m=\u001b[39m \u001b[38;5;28;43mself\u001b[39;49m\u001b[38;5;241;43m.\u001b[39;49m\u001b[43mparent\u001b[49m\u001b[38;5;241;43m.\u001b[39;49m\u001b[43mproj_mlog\u001b[49m[\u001b[38;5;28mself\u001b[39m\u001b[38;5;241m.\u001b[39mz_top: \u001b[38;5;28mself\u001b[39m\u001b[38;5;241m.\u001b[39mz_bottom, :, :]\n\u001b[1;32m     50\u001b[0m [\u001b[38;5;28mself\u001b[39m\u001b[38;5;241m.\u001b[39mnbr_angles, \u001b[38;5;28mself\u001b[39m\u001b[38;5;241m.\u001b[39mnbr_row, \u001b[38;5;28mself\u001b[39m\u001b[38;5;241m.\u001b[39mnbr_col] \u001b[38;5;241m=\u001b[39m np\u001b[38;5;241m.\u001b[39mshape(\u001b[38;5;28mself\u001b[39m\u001b[38;5;241m.\u001b[39m_proj_mlog)\n",
      "\u001b[0;31mAttributeError\u001b[0m: 'LaminographyUi' object has no attribute 'proj_mlog'"
     ]
    }
   ],
   "source": [
    "o_imars3dui.define_parameters()"
   ]
  },
  {
   "cell_type": "code",
   "execution_count": null,
   "id": "1890dd75",
   "metadata": {},
   "outputs": [],
   "source": []
  },
  {
   "cell_type": "code",
   "execution_count": null,
   "id": "94f225d3",
   "metadata": {},
   "outputs": [],
   "source": []
  },
  {
   "cell_type": "code",
   "execution_count": null,
   "id": "bc00b76e",
   "metadata": {},
   "outputs": [],
   "source": []
  },
  {
   "cell_type": "code",
   "execution_count": null,
   "id": "50a27c78",
   "metadata": {},
   "outputs": [],
   "source": []
  },
  {
   "cell_type": "markdown",
   "id": "a866d81d",
   "metadata": {},
   "source": [
    "### Set up paremeters "
   ]
  },
  {
   "cell_type": "code",
   "execution_count": 30,
   "id": "3b881150",
   "metadata": {},
   "outputs": [
    {
     "data": {
      "application/vnd.jupyter.widget-view+json": {
       "model_id": "f48c868ec027446997d07f95db245f21",
       "version_major": 2,
       "version_minor": 0
      },
      "text/plain": [
       "Tab(children=(HBox(children=(FloatSlider(value=20.0, max=90.0, step=0.01), Label(value='°'))), VBox(children=(…"
      ]
     },
     "metadata": {},
     "output_type": "display_data"
    }
   ],
   "source": [
    "o_imars3dui.laminography_settings()"
   ]
  },
  {
   "cell_type": "markdown",
   "id": "85815b10",
   "metadata": {},
   "source": [
    "### Run laminography reconstruction "
   ]
  },
  {
   "cell_type": "code",
   "execution_count": null,
   "id": "889ff3cd",
   "metadata": {
    "scrolled": false
   },
   "outputs": [
    {
     "name": "stderr",
     "output_type": "stream",
     "text": [
      "INFO:imars3d.backend.morph.crop:Executing Filter: Crop\n",
      "INFO:imars3d.backend.morph.crop:FINISHED Executing Filter: Crop\n"
     ]
    }
   ],
   "source": [
    "o_imars3dui.run_laminography()"
   ]
  },
  {
   "cell_type": "markdown",
   "id": "d46d53ca",
   "metadata": {},
   "source": [
    "# Visualize reconstruction"
   ]
  },
  {
   "cell_type": "code",
   "execution_count": null,
   "id": "9b53a196",
   "metadata": {},
   "outputs": [],
   "source": [
    "o_imars3dui.visualize_reconstruction()"
   ]
  },
  {
   "cell_type": "markdown",
   "id": "58916e7d",
   "metadata": {},
   "source": [
    "# Export\n"
   ]
  },
  {
   "cell_type": "code",
   "execution_count": null,
   "id": "5d1647d9",
   "metadata": {},
   "outputs": [],
   "source": [
    "o_imars3dui.export()"
   ]
  },
  {
   "cell_type": "code",
   "execution_count": null,
   "id": "05f8c098-0728-4ba5-ba02-6bc22157b36d",
   "metadata": {},
   "outputs": [],
   "source": []
  }
 ],
 "metadata": {
  "kernelspec": {
   "display_name": "Python 3 (ipykernel)",
   "language": "python",
   "name": "python3"
  },
  "language_info": {
   "codemirror_mode": {
    "name": "ipython",
    "version": 3
   },
   "file_extension": ".py",
   "mimetype": "text/x-python",
   "name": "python",
   "nbconvert_exporter": "python",
   "pygments_lexer": "ipython3",
   "version": "3.10.6"
  }
 },
 "nbformat": 4,
 "nbformat_minor": 5
}
