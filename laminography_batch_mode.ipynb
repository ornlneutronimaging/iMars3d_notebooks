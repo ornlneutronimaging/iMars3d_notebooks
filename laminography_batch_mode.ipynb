{
 "cells": [
  {
   "cell_type": "markdown",
   "id": "8a094585",
   "metadata": {},
   "source": [
    "[![Notebook Tutorial](__code/__all/notebook_tutorial.png)](https://neutronimaging.ornl.gov/ct-reconstruction/)\n",
    "\n",
    "<img src='__docs/notebook_rules.png' />"
   ]
  },
  {
   "cell_type": "code",
   "execution_count": 1,
   "id": "fd77f4b7",
   "metadata": {},
   "outputs": [
    {
     "data": {
      "text/html": [
       "\n",
       "<style type=\"text/css\">\n",
       ".jupyter-widgets select option {font-family: \"Lucida Console\", Monaco, monospace;}\n",
       ".jupyter-widgets select {width: 98%;}\n",
       "div.output_subarea {padding: 0px;}\n",
       "div.output_subarea > div {margin: 0.4em;}\n",
       "</style>\n"
      ],
      "text/plain": [
       "<IPython.core.display.HTML object>"
      ]
     },
     "metadata": {},
     "output_type": "display_data"
    },
    {
     "data": {
      "text/html": [
       "\n",
       "<style type=\"text/css\">\n",
       ".jupyter-widgets select option {font-family: \"Lucida Console\", Monaco, monospace;}\n",
       "div.output_subarea {padding: 0px;}\n",
       "div.output_subarea > div {margin: 0.4em;}\n",
       "</style>\n"
      ],
      "text/plain": [
       "<IPython.core.display.HTML object>"
      ]
     },
     "metadata": {},
     "output_type": "display_data"
    },
    {
     "ename": "ModuleNotFoundError",
     "evalue": "No module named 'tomoORNL'",
     "output_type": "error",
     "traceback": [
      "\u001b[0;31m---------------------------------------------------------------------------\u001b[0m",
      "\u001b[0;31mModuleNotFoundError\u001b[0m                       Traceback (most recent call last)",
      "Cell \u001b[0;32mIn[1], line 9\u001b[0m\n\u001b[1;32m      5\u001b[0m get_ipython()\u001b[38;5;241m.\u001b[39mrun_line_magic(\u001b[38;5;124m'\u001b[39m\u001b[38;5;124mmatplotlib\u001b[39m\u001b[38;5;124m'\u001b[39m, \u001b[38;5;124m'\u001b[39m\u001b[38;5;124mnotebook\u001b[39m\u001b[38;5;124m'\u001b[39m)\n\u001b[1;32m      7\u001b[0m \u001b[38;5;28;01mimport\u001b[39;00m \u001b[38;5;21;01mimars3d\u001b[39;00m\n\u001b[0;32m----> 9\u001b[0m \u001b[38;5;28;01mfrom\u001b[39;00m \u001b[38;5;21;01m__code\u001b[39;00m\u001b[38;5;21;01m.\u001b[39;00m\u001b[38;5;21;01mlaminographyui_batch_mode\u001b[39;00m \u001b[38;5;28;01mimport\u001b[39;00m LaminographyUi\n\u001b[1;32m     11\u001b[0m \u001b[38;5;28;01mfrom\u001b[39;00m \u001b[38;5;21;01m__code\u001b[39;00m \u001b[38;5;28;01mimport\u001b[39;00m system\n\u001b[1;32m     12\u001b[0m system\u001b[38;5;241m.\u001b[39mSystem\u001b[38;5;241m.\u001b[39mselect_working_dir()\n",
      "File \u001b[0;32m~/git/iMars3d_notebooks/__code/laminographyui_batch_mode.py:48\u001b[0m\n\u001b[1;32m     46\u001b[0m \u001b[38;5;28;01mfrom\u001b[39;00m \u001b[38;5;21;01m__code\u001b[39;00m\u001b[38;5;21;01m.\u001b[39;00m\u001b[38;5;21;01mworkflow\u001b[39;00m\u001b[38;5;21;01m.\u001b[39;00m\u001b[38;5;21;01msinogram\u001b[39;00m \u001b[38;5;28;01mimport\u001b[39;00m Sinogram\n\u001b[1;32m     47\u001b[0m \u001b[38;5;28;01mfrom\u001b[39;00m \u001b[38;5;21;01m__code\u001b[39;00m\u001b[38;5;21;01m.\u001b[39;00m\u001b[38;5;21;01mworkflow\u001b[39;00m\u001b[38;5;21;01m.\u001b[39;00m\u001b[38;5;21;01mselect_z_range\u001b[39;00m \u001b[38;5;28;01mimport\u001b[39;00m SelectZRange\n\u001b[0;32m---> 48\u001b[0m \u001b[38;5;28;01mfrom\u001b[39;00m \u001b[38;5;21;01m__code\u001b[39;00m\u001b[38;5;21;01m.\u001b[39;00m\u001b[38;5;21;01mlaminography_event_handler\u001b[39;00m \u001b[38;5;28;01mimport\u001b[39;00m LaminographyEventHandler\n\u001b[1;32m     50\u001b[0m \u001b[38;5;28;01mfrom\u001b[39;00m \u001b[38;5;21;01m__code\u001b[39;00m\u001b[38;5;21;01m.\u001b[39;00m\u001b[38;5;21;01mfile_folder_browser\u001b[39;00m \u001b[38;5;28;01mimport\u001b[39;00m FileFolderBrowser\n\u001b[1;32m     51\u001b[0m \u001b[38;5;28;01mfrom\u001b[39;00m \u001b[38;5;21;01m__code\u001b[39;00m\u001b[38;5;21;01m.\u001b[39;00m\u001b[38;5;21;01mdisplay\u001b[39;00m \u001b[38;5;28;01mimport\u001b[39;00m Display\n",
      "File \u001b[0;32m~/git/iMars3d_notebooks/__code/laminography_event_handler.py:8\u001b[0m\n\u001b[1;32m      5\u001b[0m \u001b[38;5;28;01mimport\u001b[39;00m \u001b[38;5;21;01mmatplotlib\u001b[39;00m\u001b[38;5;21;01m.\u001b[39;00m\u001b[38;5;21;01mpyplot\u001b[39;00m \u001b[38;5;28;01mas\u001b[39;00m \u001b[38;5;21;01mplt\u001b[39;00m\n\u001b[1;32m      6\u001b[0m \u001b[38;5;28;01mimport\u001b[39;00m \u001b[38;5;21;01mtime\u001b[39;00m\n\u001b[0;32m----> 8\u001b[0m \u001b[38;5;28;01mfrom\u001b[39;00m \u001b[38;5;21;01mtomoORNL\u001b[39;00m\u001b[38;5;21;01m.\u001b[39;00m\u001b[38;5;21;01mreconEngine\u001b[39;00m \u001b[38;5;28;01mimport\u001b[39;00m MBIR\n\u001b[1;32m      9\u001b[0m \u001b[38;5;28;01mfrom\u001b[39;00m \u001b[38;5;21;01mimars3d\u001b[39;00m\u001b[38;5;21;01m.\u001b[39;00m\u001b[38;5;21;01mbackend\u001b[39;00m\u001b[38;5;21;01m.\u001b[39;00m\u001b[38;5;21;01mmorph\u001b[39;00m\u001b[38;5;21;01m.\u001b[39;00m\u001b[38;5;21;01mcrop\u001b[39;00m \u001b[38;5;28;01mimport\u001b[39;00m crop\n\u001b[1;32m     10\u001b[0m \u001b[38;5;28;01mfrom\u001b[39;00m \u001b[38;5;21;01mimars3d\u001b[39;00m\u001b[38;5;21;01m.\u001b[39;00m\u001b[38;5;21;01mbackend\u001b[39;00m\u001b[38;5;21;01m.\u001b[39;00m\u001b[38;5;21;01mdataio\u001b[39;00m\u001b[38;5;21;01m.\u001b[39;00m\u001b[38;5;21;01mdata\u001b[39;00m \u001b[38;5;28;01mimport\u001b[39;00m save_data\n",
      "\u001b[0;31mModuleNotFoundError\u001b[0m: No module named 'tomoORNL'"
     ]
    }
   ],
   "source": [
    "import warnings\n",
    "warnings.filterwarnings('ignore')\n",
    "\n",
    "import matplotlib.pyplot as plt\n",
    "%matplotlib notebook\n",
    "\n",
    "import imars3d\n",
    "\n",
    "from __code.laminographyui_batch_mode import LaminographyUi\n",
    "\n",
    "from __code import system\n",
    "system.System.select_working_dir()\n",
    "from __code.__all import custom_style\n",
    "custom_style.style()\n",
    "\n",
    "%matplotlib notebook"
   ]
  },
  {
   "cell_type": "markdown",
   "id": "d1c84734",
   "metadata": {},
   "source": [
    "# Select input data "
   ]
  },
  {
   "cell_type": "markdown",
   "id": "1a9713ab",
   "metadata": {},
   "source": [
    "## raw data"
   ]
  },
  {
   "cell_type": "markdown",
   "id": "af72108a",
   "metadata": {},
   "source": [
    "# FOR DEBUGGING ONLY "
   ]
  },
  {
   "cell_type": "code",
   "execution_count": 2,
   "id": "2f98f6fd",
   "metadata": {},
   "outputs": [
    {
     "name": "stdout",
     "output_type": "stream",
     "text": [
      "raw folder selected: ['/HFIR/CG1D/IPTS-33592/raw/ct_scans/2024_07_03_lam_circuit_small'] with 2118 files)\n",
      "ob folder selected: ['/HFIR/CG1D/IPTS-33592/raw/ob/2024_07_03_lam_circuit_small'] with 5 files)\n",
      "dc folder selected: ['/HFIR/CG1D/IPTS-33592/raw/ob/2024_07_03_lam_circuit_small'] with 5 files)\n"
     ]
    }
   ],
   "source": [
    "o_imars3dui = LaminographyUi(working_dir=\"/HFIR/CG1D/IPTS-33592\")\n",
    "from __code import DataType\n",
    "from __code.workflow.load import Load\n",
    "import ipywidgets as widgets\n",
    "\n",
    "# raw\n",
    "o_load = Load(parent=o_imars3dui)\n",
    "o_imars3dui.current_data_type = DataType.raw\n",
    "o_load.data_selected('/HFIR/CG1D/IPTS-33592/raw/ct_scans/2024_07_03_lam_circuit_small')\n",
    "\n",
    "o_imars3dui.current_data_type = DataType.ob\n",
    "o_load.data_selected(['/HFIR/CG1D/IPTS-33592/raw/ob/2024_07_03_lam_circuit_small'])\n",
    "\n",
    "o_imars3dui.current_data_type = DataType.dc\n",
    "o_imars3dui.select_dc_flag = widgets.Checkbox(value=False)\n",
    "o_load.data_selected(['/HFIR/CG1D/IPTS-33592/raw/ob/2024_07_03_lam_circuit_small'])\n"
   ]
  },
  {
   "cell_type": "markdown",
   "id": "72802fdf",
   "metadata": {},
   "source": [
    "# END OF DEBUGGING "
   ]
  },
  {
   "cell_type": "code",
   "execution_count": 3,
   "id": "bf8e0048",
   "metadata": {},
   "outputs": [],
   "source": [
    "#o_imars3dui = LaminographyUi(working_dir=system.System.get_working_dir())\n",
    "#o_imars3dui.select_raw()"
   ]
  },
  {
   "cell_type": "markdown",
   "id": "883aaab9-dad2-4530-91c6-2fbf7c34483d",
   "metadata": {},
   "source": [
    "## ob "
   ]
  },
  {
   "cell_type": "code",
   "execution_count": 4,
   "id": "43d257da",
   "metadata": {},
   "outputs": [],
   "source": [
    "#o_imars3dui.select_ob()"
   ]
  },
  {
   "cell_type": "markdown",
   "id": "ba6b9bff",
   "metadata": {},
   "source": [
    "## dc "
   ]
  },
  {
   "cell_type": "code",
   "execution_count": 5,
   "id": "b15e85c0",
   "metadata": {},
   "outputs": [],
   "source": [
    "#o_imars3dui.select_dc_options()"
   ]
  },
  {
   "cell_type": "code",
   "execution_count": 6,
   "id": "a1abeac0",
   "metadata": {},
   "outputs": [],
   "source": [
    "#o_imars3dui.select_dc()"
   ]
  },
  {
   "cell_type": "markdown",
   "id": "1e53e769",
   "metadata": {},
   "source": [
    "# Define parameters"
   ]
  },
  {
   "cell_type": "markdown",
   "id": "03ae07d9",
   "metadata": {},
   "source": [
    "1. The program is going a small portion of your sample data\n",
    "\n",
    "then\n",
    "\n",
    "2. You will be able to define the various parameters of the reconstruction"
   ]
  },
  {
   "cell_type": "code",
   "execution_count": 7,
   "id": "b82edc23",
   "metadata": {},
   "outputs": [],
   "source": [
    "%matplotlib inline"
   ]
  },
  {
   "cell_type": "code",
   "execution_count": 8,
   "id": "b36991bb",
   "metadata": {
    "scrolled": false
   },
   "outputs": [
    {
     "data": {
      "application/vnd.jupyter.widget-view+json": {
       "model_id": "7df2e37096834186865bab5a3b6d98b1",
       "version_major": 2,
       "version_minor": 0
      },
      "text/plain": [
       "ct:   0%|          | 0/2 [00:00<?, ?it/s]"
      ]
     },
     "metadata": {},
     "output_type": "display_data"
    },
    {
     "data": {
      "application/vnd.jupyter.widget-view+json": {
       "model_id": "dc81970eddaf4b6daa94bb67fa6021fc",
       "version_major": 2,
       "version_minor": 0
      },
      "text/plain": [
       "ob:   0%|          | 0/5 [00:00<?, ?it/s]"
      ]
     },
     "metadata": {},
     "output_type": "display_data"
    },
    {
     "data": {
      "application/vnd.jupyter.widget-view+json": {
       "model_id": "0e2dc2673f3147a586cb6b1c59d38436",
       "version_major": 2,
       "version_minor": 0
      },
      "text/plain": [
       "dc:   0%|          | 0/5 [00:00<?, ?it/s]"
      ]
     },
     "metadata": {},
     "output_type": "display_data"
    },
    {
     "data": {
      "text/html": [
       "<hr style=height:5px; border:none; color:#333;background-color:#333><h1>Crop</h1>"
      ],
      "text/plain": [
       "<IPython.core.display.HTML object>"
      ]
     },
     "metadata": {},
     "output_type": "display_data"
    },
    {
     "data": {
      "application/vnd.jupyter.widget-view+json": {
       "model_id": "f80223476edd4a7fa083acfc3c91ea6b",
       "version_major": 2,
       "version_minor": 0
      },
      "text/plain": [
       "interactive(children=(IntSlider(value=0, description='left', max=6399), IntSlider(value=6399, continuous_updat…"
      ]
     },
     "metadata": {},
     "output_type": "display_data"
    },
    {
     "data": {
      "text/html": [
       "<hr style=height:5px; border:none; color:#333;background-color:#333><h1>Filtering</h1>"
      ],
      "text/plain": [
       "<IPython.core.display.HTML object>"
      ]
     },
     "metadata": {},
     "output_type": "display_data"
    },
    {
     "data": {
      "application/vnd.jupyter.widget-view+json": {
       "model_id": "03ad405560d04c3a867288f80f94d565",
       "version_major": 2,
       "version_minor": 0
      },
      "text/plain": [
       "Checkbox(value=False, description='Gamma filtering')"
      ]
     },
     "metadata": {},
     "output_type": "display_data"
    },
    {
     "data": {
      "text/html": [
       "<hr style=height:5px; border:none; color:#333;background-color:#333><h1>Beam fluctuation</h1>"
      ],
      "text/plain": [
       "<IPython.core.display.HTML object>"
      ]
     },
     "metadata": {},
     "output_type": "display_data"
    },
    {
     "data": {
      "application/vnd.jupyter.widget-view+json": {
       "model_id": "ce81f62976e14a299a1cb9728f21c145",
       "version_major": 2,
       "version_minor": 0
      },
      "text/plain": [
       "Checkbox(value=False, description='Beam fluctuation correction')"
      ]
     },
     "metadata": {},
     "output_type": "display_data"
    },
    {
     "data": {
      "application/vnd.jupyter.widget-view+json": {
       "model_id": "e8cde1fbb6054f30849ca681cb60f479",
       "version_major": 2,
       "version_minor": 0
      },
      "text/plain": [
       "interactive(children=(IntSlider(value=0, description='left', max=6399), IntSlider(value=6399, continuous_updat…"
      ]
     },
     "metadata": {},
     "output_type": "display_data"
    },
    {
     "data": {
      "text/html": [
       "<hr style=height:5px; border:none; color:#333;background-color:#333><h1>Tilt calculation</h1>"
      ],
      "text/plain": [
       "<IPython.core.display.HTML object>"
      ]
     },
     "metadata": {},
     "output_type": "display_data"
    },
    {
     "data": {
      "application/vnd.jupyter.widget-view+json": {
       "model_id": "cf6782d9dae04dec909b6029e1649bf3",
       "version_major": 2,
       "version_minor": 0
      },
      "text/plain": [
       "VBox(children=(Label(value='Tilt value (degrees)', layout=Layout(width='200px')), FloatSlider(value=0.0, max=9…"
      ]
     },
     "metadata": {},
     "output_type": "display_data"
    }
   ],
   "source": [
    "o_imars3dui.define_parameters()"
   ]
  },
  {
   "cell_type": "code",
   "execution_count": null,
   "id": "1890dd75",
   "metadata": {},
   "outputs": [],
   "source": []
  },
  {
   "cell_type": "code",
   "execution_count": null,
   "id": "94f225d3",
   "metadata": {},
   "outputs": [],
   "source": []
  },
  {
   "cell_type": "code",
   "execution_count": null,
   "id": "bc00b76e",
   "metadata": {},
   "outputs": [],
   "source": []
  },
  {
   "cell_type": "code",
   "execution_count": null,
   "id": "50a27c78",
   "metadata": {},
   "outputs": [],
   "source": []
  },
  {
   "cell_type": "markdown",
   "id": "8ce3dd95",
   "metadata": {},
   "source": [
    "# Filtering\n",
    "\n",
    "* remove negative values"
   ]
  },
  {
   "cell_type": "code",
   "execution_count": 24,
   "id": "5fec8ce5",
   "metadata": {},
   "outputs": [
    {
     "data": {
      "application/vnd.jupyter.widget-view+json": {
       "model_id": "9a4121788cc54818b3fae2743d7daaf9",
       "version_major": 2,
       "version_minor": 0
      },
      "text/plain": [
       "Checkbox(value=False, description='Remove negative values')"
      ]
     },
     "metadata": {},
     "output_type": "display_data"
    }
   ],
   "source": [
    "o_imars3dui.filter_options()"
   ]
  },
  {
   "cell_type": "code",
   "execution_count": 25,
   "id": "58221008",
   "metadata": {},
   "outputs": [
    {
     "name": "stdout",
     "output_type": "stream",
     "text": [
      " Skipped remove negative values!\n"
     ]
    }
   ],
   "source": [
    "o_imars3dui.apply_filter_options()"
   ]
  },
  {
   "cell_type": "markdown",
   "id": "e7abf1c8",
   "metadata": {},
   "source": [
    "# Display sinogram "
   ]
  },
  {
   "cell_type": "code",
   "execution_count": 26,
   "id": "36465235",
   "metadata": {},
   "outputs": [
    {
     "data": {
      "application/vnd.jupyter.widget-view+json": {
       "model_id": "78688992233341b4823f73d837d589ca",
       "version_major": 2,
       "version_minor": 0
      },
      "text/plain": [
       "interactive(children=(IntSlider(value=0, description='index', max=6400), Output()), _dom_classes=('widget-inte…"
      ]
     },
     "metadata": {},
     "output_type": "display_data"
    }
   ],
   "source": [
    "o_imars3dui.create_and_display_sinogram()"
   ]
  },
  {
   "cell_type": "markdown",
   "id": "a38e23d2",
   "metadata": {},
   "source": [
    "# Ring removal "
   ]
  },
  {
   "cell_type": "markdown",
   "id": "ff174714",
   "metadata": {},
   "source": [
    "## Select "
   ]
  },
  {
   "cell_type": "code",
   "execution_count": 27,
   "id": "db9f047d",
   "metadata": {},
   "outputs": [
    {
     "data": {
      "application/vnd.jupyter.widget-view+json": {
       "model_id": "54e98107a2b941d69f93f6b34e986ae9",
       "version_major": 2,
       "version_minor": 0
      },
      "text/plain": [
       "VBox(children=(Checkbox(value=False, description='BM3D', disabled=True), Checkbox(value=False, description='To…"
      ]
     },
     "metadata": {},
     "output_type": "display_data"
    }
   ],
   "source": [
    "o_imars3dui.ring_removal_options()"
   ]
  },
  {
   "cell_type": "code",
   "execution_count": 28,
   "id": "f99c9b73",
   "metadata": {},
   "outputs": [
    {
     "name": "stdout",
     "output_type": "stream",
     "text": [
      "No strikes removal using BM3D\n",
      "No strikes removal using Vo\n",
      "No strikes removal using Ketcham\n"
     ]
    }
   ],
   "source": [
    "o_imars3dui.apply_ring_removal_options()"
   ]
  },
  {
   "cell_type": "markdown",
   "id": "e39c3bd2",
   "metadata": {},
   "source": [
    "# Reconstruction "
   ]
  },
  {
   "cell_type": "markdown",
   "id": "b5e41832",
   "metadata": {},
   "source": [
    "### Set up range of slices to reconstruct "
   ]
  },
  {
   "cell_type": "code",
   "execution_count": 29,
   "id": "59a6c27e",
   "metadata": {},
   "outputs": [
    {
     "data": {
      "application/vnd.jupyter.widget-view+json": {
       "model_id": "01277572cce4434ca98e653afa2ed148",
       "version_major": 2,
       "version_minor": 0
      },
      "text/plain": [
       "interactive(children=(IntSlider(value=0, continuous_update=False, description='top', max=6399), IntSlider(valu…"
      ]
     },
     "metadata": {},
     "output_type": "display_data"
    }
   ],
   "source": [
    "o_imars3dui.select_range_of_slices()"
   ]
  },
  {
   "cell_type": "markdown",
   "id": "a866d81d",
   "metadata": {},
   "source": [
    "### Set up paremeters "
   ]
  },
  {
   "cell_type": "code",
   "execution_count": 30,
   "id": "3b881150",
   "metadata": {},
   "outputs": [
    {
     "data": {
      "application/vnd.jupyter.widget-view+json": {
       "model_id": "f48c868ec027446997d07f95db245f21",
       "version_major": 2,
       "version_minor": 0
      },
      "text/plain": [
       "Tab(children=(HBox(children=(FloatSlider(value=20.0, max=90.0, step=0.01), Label(value='°'))), VBox(children=(…"
      ]
     },
     "metadata": {},
     "output_type": "display_data"
    }
   ],
   "source": [
    "o_imars3dui.laminography_settings()"
   ]
  },
  {
   "cell_type": "markdown",
   "id": "85815b10",
   "metadata": {},
   "source": [
    "### Run laminography reconstruction "
   ]
  },
  {
   "cell_type": "code",
   "execution_count": null,
   "id": "889ff3cd",
   "metadata": {
    "scrolled": false
   },
   "outputs": [
    {
     "name": "stderr",
     "output_type": "stream",
     "text": [
      "INFO:imars3d.backend.morph.crop:Executing Filter: Crop\n",
      "INFO:imars3d.backend.morph.crop:FINISHED Executing Filter: Crop\n"
     ]
    }
   ],
   "source": [
    "o_imars3dui.run_laminography()"
   ]
  },
  {
   "cell_type": "markdown",
   "id": "d46d53ca",
   "metadata": {},
   "source": [
    "# Visualize reconstruction"
   ]
  },
  {
   "cell_type": "code",
   "execution_count": null,
   "id": "9b53a196",
   "metadata": {},
   "outputs": [],
   "source": [
    "o_imars3dui.visualize_reconstruction()"
   ]
  },
  {
   "cell_type": "markdown",
   "id": "58916e7d",
   "metadata": {},
   "source": [
    "# Export\n"
   ]
  },
  {
   "cell_type": "code",
   "execution_count": null,
   "id": "5d1647d9",
   "metadata": {},
   "outputs": [],
   "source": [
    "o_imars3dui.export()"
   ]
  },
  {
   "cell_type": "code",
   "execution_count": null,
   "id": "05f8c098-0728-4ba5-ba02-6bc22157b36d",
   "metadata": {},
   "outputs": [],
   "source": []
  }
 ],
 "metadata": {
  "kernelspec": {
   "display_name": "Python 3 (ipykernel)",
   "language": "python",
   "name": "python3"
  },
  "language_info": {
   "codemirror_mode": {
    "name": "ipython",
    "version": 3
   },
   "file_extension": ".py",
   "mimetype": "text/x-python",
   "name": "python",
   "nbconvert_exporter": "python",
   "pygments_lexer": "ipython3",
   "version": "3.10.8"
  }
 },
 "nbformat": 4,
 "nbformat_minor": 5
}
