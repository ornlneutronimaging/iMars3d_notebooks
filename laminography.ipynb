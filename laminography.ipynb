{
 "cells": [
  {
   "cell_type": "markdown",
   "id": "8a094585",
   "metadata": {},
   "source": [
    "[![Notebook Tutorial](__code/__all/notebook_tutorial.png)](https://neutronimaging.ornl.gov/ct-reconstruction/)\n",
    "\n",
    "<img src='__docs/notebook_rules.png' />"
   ]
  },
  {
   "cell_type": "code",
   "execution_count": 2,
   "id": "fd77f4b7",
   "metadata": {},
   "outputs": [
    {
     "data": {
      "text/html": [
       "\n",
       "                   <style>\n",
       "                   .result_label {\n",
       "                      font-style: bold;\n",
       "                      color: red;\n",
       "                      font-size: 18px;\n",
       "                   }\n",
       "                   </style>\n",
       "                   "
      ],
      "text/plain": [
       "<IPython.core.display.HTML object>"
      ]
     },
     "metadata": {},
     "output_type": "display_data"
    },
    {
     "data": {
      "application/vnd.jupyter.widget-view+json": {
       "model_id": "fed1473af8f5473ebf8c6d94b5001073",
       "version_major": 2,
       "version_minor": 0
      },
      "text/plain": [
       "VBox(children=(HBox(children=(Label(value='Select Instrument', layout=Layout(width='20%')), Select(layout=Layo…"
      ]
     },
     "metadata": {},
     "output_type": "display_data"
    }
   ],
   "source": [
    "import warnings\n",
    "warnings.filterwarnings('ignore')\n",
    "\n",
    "import matplotlib.pyplot as plt\n",
    "%matplotlib notebook\n",
    "\n",
    "import imars3d\n",
    "# print(f\"Using imarsd version {imars3d.__version__}\")\n",
    "\n",
    "from __code.laminographyui import LaminographyUi\n",
    "#from __code.roi_selection_ui import Interface\n",
    "\n",
    "from __code import system\n",
    "system.System.select_working_dir()\n",
    "from __code.__all import custom_style\n",
    "custom_style.style()\n",
    "\n",
    "%matplotlib notebook"
   ]
  },
  {
   "cell_type": "markdown",
   "id": "d1c84734",
   "metadata": {},
   "source": [
    "# Select input data "
   ]
  },
  {
   "cell_type": "markdown",
   "id": "1a9713ab",
   "metadata": {},
   "source": [
    "## raw data"
   ]
  },
  {
   "cell_type": "code",
   "execution_count": 3,
   "id": "bf8e0048",
   "metadata": {},
   "outputs": [
    {
     "name": "stdout",
     "output_type": "stream",
     "text": [
      "version 08-01-2024\n"
     ]
    },
    {
     "data": {
      "application/vnd.jupyter.widget-view+json": {
       "model_id": "",
       "version_major": 2,
       "version_minor": 0
      },
      "text/plain": [
       "VBox(children=(Label(value='Select Folder of raw', layout=Layout(width='250px')), VBox(children=(HBox(children…"
      ]
     },
     "metadata": {},
     "output_type": "display_data"
    },
    {
     "name": "stdout",
     "output_type": "stream",
     "text": [
      "raw folder selected: ['/HFIR/CG1D/IPTS-33592/raw/ct_scans/2024_07_03_lam_circuit_small'] with 2118 files)\n"
     ]
    }
   ],
   "source": [
    "o_imars3dui = LaminographyUi(working_dir=system.System.get_working_dir())\n",
    "o_imars3dui.select_raw()"
   ]
  },
  {
   "cell_type": "markdown",
   "id": "a931025f",
   "metadata": {},
   "source": []
  },
  {
   "cell_type": "markdown",
   "id": "883aaab9-dad2-4530-91c6-2fbf7c34483d",
   "metadata": {},
   "source": [
    "## ob "
   ]
  },
  {
   "cell_type": "code",
   "execution_count": 4,
   "id": "43d257da",
   "metadata": {},
   "outputs": [
    {
     "data": {
      "application/vnd.jupyter.widget-view+json": {
       "model_id": "",
       "version_major": 2,
       "version_minor": 0
      },
      "text/plain": [
       "VBox(children=(Label(value='Select Folder of ob', layout=Layout(width='250px')), VBox(children=(HBox(children=…"
      ]
     },
     "metadata": {},
     "output_type": "display_data"
    },
    {
     "name": "stdout",
     "output_type": "stream",
     "text": [
      "ob folder selected: ['/HFIR/CG1D/IPTS-33592/raw/ob/2024_07_03_lam_circuit_small'] with 5 files)\n"
     ]
    }
   ],
   "source": [
    "o_imars3dui.select_ob()"
   ]
  },
  {
   "cell_type": "markdown",
   "id": "ba6b9bff",
   "metadata": {},
   "source": [
    "## dc "
   ]
  },
  {
   "cell_type": "code",
   "execution_count": 5,
   "id": "b15e85c0",
   "metadata": {},
   "outputs": [
    {
     "data": {
      "application/vnd.jupyter.widget-view+json": {
       "model_id": "e48860a0c6c9461e81147179c0e3a678",
       "version_major": 2,
       "version_minor": 0
      },
      "text/plain": [
       "Checkbox(value=True, description='Use dark current')"
      ]
     },
     "metadata": {},
     "output_type": "display_data"
    }
   ],
   "source": [
    "o_imars3dui.select_dc_options()"
   ]
  },
  {
   "cell_type": "code",
   "execution_count": 6,
   "id": "a1abeac0",
   "metadata": {},
   "outputs": [
    {
     "name": "stdout",
     "output_type": "stream",
     "text": [
      "Not using any DC!\n"
     ]
    }
   ],
   "source": [
    "o_imars3dui.select_dc()"
   ]
  },
  {
   "cell_type": "markdown",
   "id": "1e53e769",
   "metadata": {},
   "source": [
    "# Load"
   ]
  },
  {
   "cell_type": "code",
   "execution_count": 7,
   "id": "b82edc23",
   "metadata": {},
   "outputs": [],
   "source": [
    "%matplotlib inline"
   ]
  },
  {
   "cell_type": "code",
   "execution_count": 8,
   "id": "c924c701",
   "metadata": {
    "scrolled": false
   },
   "outputs": [
    {
     "name": "stdout",
     "output_type": "stream",
     "text": [
      "Before loading: total memory usage = 299.37MB\n"
     ]
    },
    {
     "data": {
      "application/vnd.jupyter.widget-view+json": {
       "model_id": "63283be7cfff41aca0b5b7983b26bdd9",
       "version_major": 2,
       "version_minor": 0
      },
      "text/plain": [
       "ct:   0%|          | 0/2118 [00:00<?, ?it/s]"
      ]
     },
     "metadata": {},
     "output_type": "display_data"
    },
    {
     "data": {
      "application/vnd.jupyter.widget-view+json": {
       "model_id": "72e3ccf9bbaf4a07b7e475f9f77e283c",
       "version_major": 2,
       "version_minor": 0
      },
      "text/plain": [
       "ob:   0%|          | 0/5 [00:00<?, ?it/s]"
      ]
     },
     "metadata": {},
     "output_type": "display_data"
    },
    {
     "data": {
      "application/vnd.jupyter.widget-view+json": {
       "model_id": "52822862955f49dbaee3dd455be1cce1",
       "version_major": 2,
       "version_minor": 0
      },
      "text/plain": [
       "dc:   0%|          | 0/1 [00:00<?, ?it/s]"
      ]
     },
     "metadata": {},
     "output_type": "display_data"
    },
    {
     "name": "stdout",
     "output_type": "stream",
     "text": [
      "np.shape(self.parent.proj_raw) =(2118, 6400, 6400)\n",
      "np.shape(self.parent.proj_raw[0]) =(6400, 6400)\n",
      "After loading: total memory usage = 332.11GB\n"
     ]
    },
    {
     "data": {
      "image/png": "[encoded data removed]",
      "text/plain": [
       "<Figure size 500x900 with 6 Axes>"
      ]
     },
     "metadata": {},
     "output_type": "display_data"
    }
   ],
   "source": [
    "o_imars3dui.load_and_display_data()"
   ]
  },
  {
   "cell_type": "markdown",
   "id": "6432fedf",
   "metadata": {},
   "source": [
    "### Advanced visualization of loaded data "
   ]
  },
  {
   "cell_type": "code",
   "execution_count": 8,
   "id": "36ba7175",
   "metadata": {
    "scrolled": true
   },
   "outputs": [
    {
     "data": {
      "application/vnd.jupyter.widget-view+json": {
       "model_id": "0171896de10542aaaf86ae330e37b777",
       "version_major": 2,
       "version_minor": 0
      },
      "text/plain": [
       "Checkbox(value=False, description='Investigate data')"
      ]
     },
     "metadata": {},
     "output_type": "display_data"
    }
   ],
   "source": [
    "o_imars3dui.investigate_loaded_data_flag()"
   ]
  },
  {
   "cell_type": "code",
   "execution_count": 9,
   "id": "bff99a07",
   "metadata": {},
   "outputs": [
    {
     "name": "stdout",
     "output_type": "stream",
     "text": [
      "No advanced visualization of loaded data requested!\n"
     ]
    }
   ],
   "source": [
    "o_imars3dui.investigate_loaded_data()"
   ]
  },
  {
   "cell_type": "markdown",
   "id": "e4f52458",
   "metadata": {},
   "source": [
    "# Crop"
   ]
  },
  {
   "cell_type": "markdown",
   "id": "e28ccb6c",
   "metadata": {},
   "source": [
    "### select crop region"
   ]
  },
  {
   "cell_type": "code",
   "execution_count": 10,
   "id": "e09834e8",
   "metadata": {
    "scrolled": false
   },
   "outputs": [
    {
     "data": {
      "application/vnd.jupyter.widget-view+json": {
       "model_id": "1a9d7b601b7f470590e66c26a5f8e080",
       "version_major": 2,
       "version_minor": 0
      },
      "text/plain": [
       "interactive(children=(IntSlider(value=0, description='left', max=6399), IntSlider(value=6399, continuous_updat…"
      ]
     },
     "metadata": {},
     "output_type": "display_data"
    }
   ],
   "source": [
    "o_imars3dui.crop_embedded()"
   ]
  },
  {
   "cell_type": "markdown",
   "id": "c6e11b8e",
   "metadata": {},
   "source": [
    "### perform cropping "
   ]
  },
  {
   "cell_type": "code",
   "execution_count": 11,
   "id": "53eef6a0",
   "metadata": {
    "scrolled": false
   },
   "outputs": [
    {
     "name": "stdout",
     "output_type": "stream",
     "text": [
      "Before: total memory usage = 332.29GB\n",
      "Running crop ...\n",
      "cropping done!\n",
      "After: total memory usage = 497.91GB\n"
     ]
    }
   ],
   "source": [
    "o_imars3dui.perform_embedded_cropping()"
   ]
  },
  {
   "cell_type": "markdown",
   "id": "6df4b3ab",
   "metadata": {},
   "source": [
    "# Gamma filtering  (<font size=5 type=\"bold\">Z</font><font size=4 type=\"bold\">Z</font><font size=3 type=\"bold\">Z</font>)"
   ]
  },
  {
   "cell_type": "code",
   "execution_count": 12,
   "id": "f2213be1",
   "metadata": {},
   "outputs": [
    {
     "data": {
      "application/vnd.jupyter.widget-view+json": {
       "model_id": "64e924f1385c49d68192d7b9fc680dea",
       "version_major": 2,
       "version_minor": 0
      },
      "text/plain": [
       "Checkbox(value=False, description='Gamma filtering')"
      ]
     },
     "metadata": {},
     "output_type": "display_data"
    }
   ],
   "source": [
    "o_imars3dui.gamma_filtering_options()"
   ]
  },
  {
   "cell_type": "code",
   "execution_count": 13,
   "id": "5169f048",
   "metadata": {
    "scrolled": true
   },
   "outputs": [
    {
     "name": "stdout",
     "output_type": "stream",
     "text": [
      "Gamma filtering skipped!\n",
      "Deleting proj_crop and releasing memory ...\n"
     ]
    }
   ],
   "source": [
    "o_imars3dui.gamma_filtering()"
   ]
  },
  {
   "cell_type": "markdown",
   "id": "7ad2184f",
   "metadata": {},
   "source": [
    "# Normalization (<font size=5 type=\"bold\">Z</font><font size=4 type=\"bold\">Z</font><font size=3 type=\"bold\">Z</font>)"
   ]
  },
  {
   "cell_type": "code",
   "execution_count": 14,
   "id": "23e67dd6",
   "metadata": {},
   "outputs": [
    {
     "name": "stdout",
     "output_type": "stream",
     "text": [
      "Before: total memory usage = 497.91GB\n",
      "Running normalization ...\n"
     ]
    },
    {
     "data": {
      "application/vnd.jupyter.widget-view+json": {
       "model_id": "3c86f57e74394c34b7ede1b329006f95",
       "version_major": 2,
       "version_minor": 0
      },
      "text/plain": [
       "  0%|          | 0/22 [00:00<?, ?it/s]"
      ]
     },
     "metadata": {},
     "output_type": "display_data"
    },
    {
     "name": "stdout",
     "output_type": "stream",
     "text": [
      "normalization done in 214.60s\n",
      "After: total memory usage = 498.69GB\n"
     ]
    },
    {
     "data": {
      "image/png": "[encoded data removed]",
      "text/plain": [
       "<Figure size 640x480 with 2 Axes>"
      ]
     },
     "metadata": {},
     "output_type": "display_data"
    }
   ],
   "source": [
    "o_imars3dui.normalization_and_display()"
   ]
  },
  {
   "cell_type": "markdown",
   "id": "24f2000a",
   "metadata": {},
   "source": [
    "# Beam fluctuation correction"
   ]
  },
  {
   "cell_type": "markdown",
   "id": "a83ee7f4",
   "metadata": {},
   "source": [
    "### Select a region that does not contain the sample to improve the normalization"
   ]
  },
  {
   "cell_type": "code",
   "execution_count": 15,
   "id": "41840a44",
   "metadata": {},
   "outputs": [
    {
     "data": {
      "application/vnd.jupyter.widget-view+json": {
       "model_id": "a3dd94fd13884ca288121c112506e470",
       "version_major": 2,
       "version_minor": 0
      },
      "text/plain": [
       "Checkbox(value=False, description='Beam fluctuation correction')"
      ]
     },
     "metadata": {},
     "output_type": "display_data"
    }
   ],
   "source": [
    "o_imars3dui.beam_fluctuation_correction_option()"
   ]
  },
  {
   "cell_type": "markdown",
   "id": "ba64f736",
   "metadata": {},
   "source": [
    "### define beam fluctuation settings (if requested) "
   ]
  },
  {
   "cell_type": "code",
   "execution_count": 16,
   "id": "4975cf57",
   "metadata": {},
   "outputs": [],
   "source": [
    "o_imars3dui.define_beam_fluctuation_settings()"
   ]
  },
  {
   "cell_type": "markdown",
   "id": "410ee68b",
   "metadata": {},
   "source": [
    "### perform beam fluctuation correction (if requested)"
   ]
  },
  {
   "cell_type": "code",
   "execution_count": 17,
   "id": "4d779c50",
   "metadata": {},
   "outputs": [],
   "source": [
    "o_imars3dui.run_beam_fluctuation_correction()"
   ]
  },
  {
   "cell_type": "markdown",
   "id": "85987b79",
   "metadata": {},
   "source": [
    "# Transmission to attenuation"
   ]
  },
  {
   "cell_type": "code",
   "execution_count": 18,
   "id": "df3d6315",
   "metadata": {},
   "outputs": [
    {
     "name": "stdout",
     "output_type": "stream",
     "text": [
      "Before transmission to attenuation: total memory usage = 498.07GB\n"
     ]
    },
    {
     "data": {
      "application/vnd.jupyter.widget-view+json": {
       "model_id": "0364fb1022534efa9f4afc219a61ebf5",
       "version_major": 2,
       "version_minor": 0
      },
      "text/plain": [
       "  0%|          | 0/22 [00:00<?, ?it/s]"
      ]
     },
     "metadata": {},
     "output_type": "display_data"
    },
    {
     "name": "stdout",
     "output_type": "stream",
     "text": [
      "After transmission to attenuation: total memory usage = 498.07GB\n"
     ]
    },
    {
     "data": {
      "image/png": "[encoded data removed]",
      "text/plain": [
       "<Figure size 640x480 with 2 Axes>"
      ]
     },
     "metadata": {},
     "output_type": "display_data"
    }
   ],
   "source": [
    "o_imars3dui.minus_log_and_display()"
   ]
  },
  {
   "cell_type": "markdown",
   "id": "0805106f",
   "metadata": {},
   "source": [
    "# Tilt calculation (<font size=5 type=\"bold\">Z</font><font size=4 type=\"bold\">Z</font><font size=3 type=\"bold\">Z</font>)\n",
    "\n",
    "The tilt will be calculated and tested on the data set, but only applied during the reconstruction phase!"
   ]
  },
  {
   "cell_type": "markdown",
   "id": "c8524d78",
   "metadata": {},
   "source": [
    "## find 0 and 180 degrees files"
   ]
  },
  {
   "cell_type": "code",
   "execution_count": 19,
   "id": "0ddccf5e",
   "metadata": {},
   "outputs": [
    {
     "data": {
      "application/vnd.jupyter.widget-view+json": {
       "model_id": "3d2d18e5d8db4eab98cd7ee62b539733",
       "version_major": 2,
       "version_minor": 0
      },
      "text/plain": [
       "HBox(children=(VBox(children=(Label(value='0 degree file'), Select(layout=Layout(height='400px', width='500px'…"
      ]
     },
     "metadata": {},
     "output_type": "display_data"
    }
   ],
   "source": [
    "o_imars3dui.find_0_180_degrees_files()"
   ]
  },
  {
   "cell_type": "markdown",
   "id": "7e60f73f",
   "metadata": {},
   "source": [
    "## calculate tilt "
   ]
  },
  {
   "cell_type": "code",
   "execution_count": 20,
   "id": "50412e6c",
   "metadata": {},
   "outputs": [
    {
     "data": {
      "text/html": [
       "<span style=\"font-size: 15px; color:blue\">Select the tilt value you want to evaluate:</span>"
      ],
      "text/plain": [
       "<IPython.core.display.HTML object>"
      ]
     },
     "metadata": {},
     "output_type": "display_data"
    },
    {
     "data": {
      "application/vnd.jupyter.widget-view+json": {
       "model_id": "fe1d8684698440149047233c2e70ccf1",
       "version_major": 2,
       "version_minor": 0
      },
      "text/plain": [
       "VBox(children=(HBox(children=(Checkbox(value=True, description='Direct minimization'), Label(value='N/A', layo…"
      ]
     },
     "metadata": {},
     "output_type": "display_data"
    }
   ],
   "source": [
    "o_imars3dui.calculate_tilt()"
   ]
  },
  {
   "cell_type": "markdown",
   "id": "910ef3c0",
   "metadata": {},
   "source": [
    "## Slices to use to test tilt calculation "
   ]
  },
  {
   "cell_type": "code",
   "execution_count": 21,
   "id": "45f70c22",
   "metadata": {},
   "outputs": [
    {
     "data": {
      "application/vnd.jupyter.widget-view+json": {
       "model_id": "1e39542eab5b444d9cea703532339593",
       "version_major": 2,
       "version_minor": 0
      },
      "text/plain": [
       "interactive(children=(IntSlider(value=50, description='slice1', max=6399), IntSlider(value=6350, description='…"
      ]
     },
     "metadata": {},
     "output_type": "display_data"
    }
   ],
   "source": [
    "o_imars3dui.test_tilt_slices_selection()"
   ]
  },
  {
   "cell_type": "markdown",
   "id": "ed3c676a",
   "metadata": {},
   "source": [
    "## testing tilt on selected algorithms (Zzz) "
   ]
  },
  {
   "cell_type": "code",
   "execution_count": 22,
   "id": "6995b248",
   "metadata": {},
   "outputs": [
    {
     "data": {
      "application/vnd.jupyter.widget-view+json": {
       "model_id": "bbd4c6361c744e33900187192db2315b",
       "version_major": 2,
       "version_minor": 0
      },
      "text/plain": [
       "IntProgress(value=0, description='Progress:', max=5)"
      ]
     },
     "metadata": {},
     "output_type": "display_data"
    },
    {
     "name": "stderr",
     "output_type": "stream",
     "text": [
      "INFO:imars3d.backend.diagnostics.tilt:Executing Filter: Tilt correction\n",
      "INFO:imars3d.backend.diagnostics.tilt:3D array detected, applying tilt correction with tilt = 0.000 deg\n"
     ]
    },
    {
     "name": "stdout",
     "output_type": "stream",
     "text": [
      "Running user ... "
     ]
    },
    {
     "data": {
      "application/vnd.jupyter.widget-view+json": {
       "model_id": "b325484b339640c292586a8332a4361b",
       "version_major": 2,
       "version_minor": 0
      },
      "text/plain": [
       "Applying tilt corr:   0%|          | 0/2118 [00:00<?, ?it/s]"
      ]
     },
     "metadata": {},
     "output_type": "display_data"
    }
   ],
   "source": [
    "o_imars3dui.testing_tilt_on_selected_algorithms()"
   ]
  },
  {
   "cell_type": "markdown",
   "id": "32ca168e",
   "metadata": {},
   "source": [
    "## Display data with tilt corrected "
   ]
  },
  {
   "cell_type": "code",
   "execution_count": null,
   "id": "7478491b",
   "metadata": {},
   "outputs": [],
   "source": [
    "o_imars3dui.display_with_tilt()"
   ]
  },
  {
   "cell_type": "markdown",
   "id": "8ce3dd95",
   "metadata": {},
   "source": [
    "# Filtering\n",
    "\n",
    "* remove negative values"
   ]
  },
  {
   "cell_type": "code",
   "execution_count": null,
   "id": "5fec8ce5",
   "metadata": {},
   "outputs": [],
   "source": [
    "o_imars3dui.filter_options()"
   ]
  },
  {
   "cell_type": "code",
   "execution_count": null,
   "id": "58221008",
   "metadata": {},
   "outputs": [],
   "source": [
    "o_imars3dui.apply_filter_options()"
   ]
  },
  {
   "cell_type": "markdown",
   "id": "e7abf1c8",
   "metadata": {},
   "source": [
    "# Display sinogram "
   ]
  },
  {
   "cell_type": "code",
   "execution_count": null,
   "id": "36465235",
   "metadata": {},
   "outputs": [],
   "source": [
    "o_imars3dui.create_and_display_sinogram()"
   ]
  },
  {
   "cell_type": "markdown",
   "id": "a38e23d2",
   "metadata": {},
   "source": [
    "# Ring removal "
   ]
  },
  {
   "cell_type": "markdown",
   "id": "ff174714",
   "metadata": {},
   "source": [
    "## Select "
   ]
  },
  {
   "cell_type": "code",
   "execution_count": null,
   "id": "db9f047d",
   "metadata": {},
   "outputs": [],
   "source": [
    "o_imars3dui.ring_removal_options()"
   ]
  },
  {
   "cell_type": "code",
   "execution_count": null,
   "id": "f99c9b73",
   "metadata": {},
   "outputs": [],
   "source": [
    "o_imars3dui.apply_ring_removal_options()"
   ]
  },
  {
   "cell_type": "markdown",
   "id": "e39c3bd2",
   "metadata": {},
   "source": [
    "# Reconstruction "
   ]
  },
  {
   "cell_type": "markdown",
   "id": "b5e41832",
   "metadata": {},
   "source": [
    "### Set up range of slices to reconstruct "
   ]
  },
  {
   "cell_type": "code",
   "execution_count": null,
   "id": "59a6c27e",
   "metadata": {},
   "outputs": [],
   "source": [
    "o_imars3dui.select_range_of_slices()"
   ]
  },
  {
   "cell_type": "markdown",
   "id": "a866d81d",
   "metadata": {},
   "source": [
    "### Set up paremeters "
   ]
  },
  {
   "cell_type": "code",
   "execution_count": null,
   "id": "3b881150",
   "metadata": {},
   "outputs": [],
   "source": [
    "o_imars3dui.laminography_settings()"
   ]
  },
  {
   "cell_type": "markdown",
   "id": "85815b10",
   "metadata": {},
   "source": [
    "### Run laminography reconstruction "
   ]
  },
  {
   "cell_type": "code",
   "execution_count": null,
   "id": "889ff3cd",
   "metadata": {
    "scrolled": false
   },
   "outputs": [],
   "source": [
    "o_imars3dui.run_laminography()"
   ]
  },
  {
   "cell_type": "markdown",
   "id": "d46d53ca",
   "metadata": {},
   "source": [
    "# Visualize reconstruction"
   ]
  },
  {
   "cell_type": "code",
   "execution_count": null,
   "id": "9b53a196",
   "metadata": {},
   "outputs": [],
   "source": [
    "o_imars3dui.visualize_reconstruction()"
   ]
  },
  {
   "cell_type": "markdown",
   "id": "58916e7d",
   "metadata": {},
   "source": [
    "# Export\n"
   ]
  },
  {
   "cell_type": "code",
   "execution_count": null,
   "id": "5d1647d9",
   "metadata": {},
   "outputs": [],
   "source": [
    "o_imars3dui.export()"
   ]
  },
  {
   "cell_type": "code",
   "execution_count": null,
   "id": "05f8c098-0728-4ba5-ba02-6bc22157b36d",
   "metadata": {},
   "outputs": [],
   "source": []
  }
 ],
 "metadata": {
  "kernelspec": {
   "display_name": "Python 3 (ipykernel)",
   "language": "python",
   "name": "python3"
  },
  "language_info": {
   "codemirror_mode": {
    "name": "ipython",
    "version": 3
   },
   "file_extension": ".py",
   "mimetype": "text/x-python",
   "name": "python",
   "nbconvert_exporter": "python",
   "pygments_lexer": "ipython3",
   "version": "3.10.6"
  }
 },
 "nbformat": 4,
 "nbformat_minor": 5
}
