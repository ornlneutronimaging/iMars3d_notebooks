{
 "cells": [
  {
   "cell_type": "markdown",
   "id": "8a094585",
   "metadata": {},
   "source": [
    "[![Notebook Tutorial](__code/__all/notebook_tutorial.png)](https://neutronimaging.ornl.gov/ct-reconstruction/)\n",
    "\n",
    "<img src='__docs/notebook_rules.png' />"
   ]
  },
  {
   "cell_type": "code",
   "execution_count": null,
   "id": "fd77f4b7",
   "metadata": {},
   "outputs": [],
   "source": [
    "import warnings\n",
    "warnings.filterwarnings('ignore')\n",
    "\n",
    "import matplotlib.pyplot as plt\n",
    "%matplotlib notebook\n",
    "\n",
    "import imars3d\n",
    "# print(f\"Using imarsd version {imars3d.__version__}\")\n",
    "\n",
    "from __code.laminographyui import LaminographyUi\n",
    "#from __code.roi_selection_ui import Interface\n",
    "\n",
    "from __code import system\n",
    "system.System.select_working_dir()\n",
    "from __code.__all import custom_style\n",
    "custom_style.style()\n",
    "\n",
    "%matplotlib notebook"
   ]
  },
  {
   "cell_type": "markdown",
   "id": "d1c84734",
   "metadata": {},
   "source": [
    "# Select input data "
   ]
  },
  {
   "cell_type": "markdown",
   "id": "1a9713ab",
   "metadata": {},
   "source": [
    "## raw data"
   ]
  },
  {
   "cell_type": "code",
   "execution_count": null,
   "id": "bf8e0048",
   "metadata": {},
   "outputs": [],
   "source": [
    "o_imars3dui = LaminographyUi(working_dir=system.System.get_working_dir())\n",
    "o_imars3dui.select_raw()"
   ]
  },
  {
   "cell_type": "markdown",
   "id": "be010800",
   "metadata": {},
   "source": [
    "## ob "
   ]
  },
  {
   "cell_type": "code",
   "execution_count": null,
   "id": "43d257da",
   "metadata": {},
   "outputs": [],
   "source": [
    "o_imars3dui.select_ob()"
   ]
  },
  {
   "cell_type": "markdown",
   "id": "ba6b9bff",
   "metadata": {},
   "source": [
    "## dc "
   ]
  },
  {
   "cell_type": "code",
   "execution_count": null,
   "id": "a1abeac0",
   "metadata": {},
   "outputs": [],
   "source": [
    "o_imars3dui.select_dc()"
   ]
  },
  {
   "cell_type": "markdown",
   "id": "1e53e769",
   "metadata": {},
   "source": [
    "# Load"
   ]
  },
  {
   "cell_type": "code",
   "execution_count": null,
   "id": "c924c701",
   "metadata": {},
   "outputs": [],
   "source": [
    "o_imars3dui.load_and_display_data()"
   ]
  },
  {
   "cell_type": "markdown",
   "id": "e4f52458",
   "metadata": {},
   "source": [
    "# Crop"
   ]
  },
  {
   "cell_type": "code",
   "execution_count": null,
   "id": "b82edc23",
   "metadata": {},
   "outputs": [],
   "source": [
    "%matplotlib inline"
   ]
  },
  {
   "cell_type": "markdown",
   "id": "e28ccb6c",
   "metadata": {},
   "source": [
    "### select crop region"
   ]
  },
  {
   "cell_type": "code",
   "execution_count": null,
   "id": "e09834e8",
   "metadata": {},
   "outputs": [],
   "source": [
    "o_imars3dui.crop_embedded()"
   ]
  },
  {
   "cell_type": "markdown",
   "id": "c6e11b8e",
   "metadata": {},
   "source": [
    "### perform cropping "
   ]
  },
  {
   "cell_type": "code",
   "execution_count": null,
   "id": "53eef6a0",
   "metadata": {},
   "outputs": [],
   "source": [
    "o_imars3dui.perform_embedded_cropping()"
   ]
  },
  {
   "cell_type": "markdown",
   "id": "6df4b3ab",
   "metadata": {},
   "source": [
    "# Gamma filtering  (<font size=5 type=\"bold\">Z</font><font size=4 type=\"bold\">Z</font><font size=3 type=\"bold\">Z</font>)"
   ]
  },
  {
   "cell_type": "code",
   "execution_count": null,
   "id": "f2213be1",
   "metadata": {},
   "outputs": [],
   "source": [
    "o_imars3dui.gamma_filtering_options()"
   ]
  },
  {
   "cell_type": "code",
   "execution_count": null,
   "id": "5169f048",
   "metadata": {},
   "outputs": [],
   "source": [
    "o_imars3dui.gamma_filtering()"
   ]
  },
  {
   "cell_type": "markdown",
   "id": "7ad2184f",
   "metadata": {},
   "source": [
    "# Normalization (<font size=5 type=\"bold\">Z</font><font size=4 type=\"bold\">Z</font><font size=3 type=\"bold\">Z</font>)"
   ]
  },
  {
   "cell_type": "code",
   "execution_count": null,
   "id": "23e67dd6",
   "metadata": {},
   "outputs": [],
   "source": [
    "o_imars3dui.normalization_and_display()"
   ]
  },
  {
   "cell_type": "markdown",
   "id": "24f2000a",
   "metadata": {},
   "source": [
    "# Beam fluctuation correction"
   ]
  },
  {
   "cell_type": "markdown",
   "id": "a83ee7f4",
   "metadata": {},
   "source": [
    "### Select a region that does not contain the sample to improve the normalization"
   ]
  },
  {
   "cell_type": "code",
   "execution_count": null,
   "id": "41840a44",
   "metadata": {},
   "outputs": [],
   "source": [
    "o_imars3dui.beam_fluctuation_correction_option()"
   ]
  },
  {
   "cell_type": "markdown",
   "id": "ba64f736",
   "metadata": {},
   "source": [
    "### define beam fluctuation settings (if requested) "
   ]
  },
  {
   "cell_type": "code",
   "execution_count": null,
   "id": "4975cf57",
   "metadata": {},
   "outputs": [],
   "source": [
    "o_imars3dui.define_beam_fluctuation_settings()"
   ]
  },
  {
   "cell_type": "markdown",
   "id": "410ee68b",
   "metadata": {},
   "source": [
    "### perform beam fluctuation correction (if requested)"
   ]
  },
  {
   "cell_type": "code",
   "execution_count": null,
   "id": "4d779c50",
   "metadata": {},
   "outputs": [],
   "source": [
    "o_imars3dui.run_beam_fluctuation_correction()"
   ]
  },
  {
   "cell_type": "markdown",
   "id": "85987b79",
   "metadata": {},
   "source": [
    "# Transmission to attenuation"
   ]
  },
  {
   "cell_type": "code",
   "execution_count": null,
   "id": "df3d6315",
   "metadata": {},
   "outputs": [],
   "source": [
    "o_imars3dui.minus_log_and_display()"
   ]
  },
  {
   "cell_type": "markdown",
   "id": "0805106f",
   "metadata": {},
   "source": [
    "# Tilt calculation (<font size=5 type=\"bold\">Z</font><font size=4 type=\"bold\">Z</font><font size=3 type=\"bold\">Z</font>)\n",
    "\n",
    "The tilt will be calculated and tested on the data set, but only applied during the reconstruction phase!"
   ]
  },
  {
   "cell_type": "markdown",
   "id": "c8524d78",
   "metadata": {},
   "source": [
    "## find 0 and 180 degrees files"
   ]
  },
  {
   "cell_type": "code",
   "execution_count": null,
   "id": "0ddccf5e",
   "metadata": {},
   "outputs": [],
   "source": [
    "o_imars3dui.find_0_180_degrees_files()"
   ]
  },
  {
   "cell_type": "markdown",
   "id": "7e60f73f",
   "metadata": {},
   "source": [
    "## calculate tilt "
   ]
  },
  {
   "cell_type": "code",
   "execution_count": null,
   "id": "50412e6c",
   "metadata": {},
   "outputs": [],
   "source": [
    "o_imars3dui.calculate_tilt()"
   ]
  },
  {
   "cell_type": "markdown",
   "id": "910ef3c0",
   "metadata": {},
   "source": [
    "## Slices to use to test tilt calculation "
   ]
  },
  {
   "cell_type": "code",
   "execution_count": null,
   "id": "45f70c22",
   "metadata": {},
   "outputs": [],
   "source": [
    "o_imars3dui.test_tilt_slices_selection()"
   ]
  },
  {
   "cell_type": "markdown",
   "id": "ed3c676a",
   "metadata": {},
   "source": [
    "## testing tilt on selected algorithms (Zzz) "
   ]
  },
  {
   "cell_type": "code",
   "execution_count": null,
   "id": "6995b248",
   "metadata": {},
   "outputs": [],
   "source": [
    "o_imars3dui.testing_tilt_on_selected_algorithms()"
   ]
  },
  {
   "cell_type": "markdown",
   "id": "32ca168e",
   "metadata": {},
   "source": [
    "## Display data with tilt corrected "
   ]
  },
  {
   "cell_type": "code",
   "execution_count": null,
   "id": "7478491b",
   "metadata": {},
   "outputs": [],
   "source": [
    "o_imars3dui.display_with_tilt()"
   ]
  },
  {
   "cell_type": "markdown",
   "id": "8ce3dd95",
   "metadata": {},
   "source": [
    "# Filtering\n",
    "\n",
    "* remove negative values"
   ]
  },
  {
   "cell_type": "code",
   "execution_count": null,
   "id": "5fec8ce5",
   "metadata": {},
   "outputs": [],
   "source": [
    "o_imars3dui.filter_options()"
   ]
  },
  {
   "cell_type": "code",
   "execution_count": null,
   "id": "58221008",
   "metadata": {},
   "outputs": [],
   "source": [
    "o_imars3dui.apply_filter_options()"
   ]
  },
  {
   "cell_type": "markdown",
   "id": "e7abf1c8",
   "metadata": {},
   "source": [
    "# Display sinogram "
   ]
  },
  {
   "cell_type": "code",
   "execution_count": null,
   "id": "36465235",
   "metadata": {},
   "outputs": [],
   "source": [
    "o_imars3dui.create_and_display_sinogram()"
   ]
  },
  {
   "cell_type": "markdown",
   "id": "a38e23d2",
   "metadata": {},
   "source": [
    "# Ring removal "
   ]
  },
  {
   "cell_type": "markdown",
   "id": "ff174714",
   "metadata": {},
   "source": [
    "## Select "
   ]
  },
  {
   "cell_type": "code",
   "execution_count": null,
   "id": "db9f047d",
   "metadata": {},
   "outputs": [],
   "source": [
    "o_imars3dui.ring_removal_options()"
   ]
  },
  {
   "cell_type": "code",
   "execution_count": null,
   "id": "f99c9b73",
   "metadata": {},
   "outputs": [],
   "source": [
    "o_imars3dui.apply_filter_options()"
   ]
  },
  {
   "cell_type": "markdown",
   "id": "e39c3bd2",
   "metadata": {},
   "source": [
    "# Reconstruction "
   ]
  },
  {
   "cell_type": "markdown",
   "id": "a866d81d",
   "metadata": {},
   "source": [
    "### Set up paremeters "
   ]
  },
  {
   "cell_type": "code",
   "execution_count": null,
   "id": "3b881150",
   "metadata": {},
   "outputs": [],
   "source": [
    "o_imars3dui.laminography_settings()"
   ]
  },
  {
   "cell_type": "markdown",
   "id": "85815b10",
   "metadata": {},
   "source": [
    "### Run laminography reconstruction "
   ]
  },
  {
   "cell_type": "code",
   "execution_count": null,
   "id": "889ff3cd",
   "metadata": {},
   "outputs": [],
   "source": [
    "o_imars3dui.run_laminography()"
   ]
  },
  {
   "cell_type": "markdown",
   "id": "d46d53ca",
   "metadata": {},
   "source": [
    "# Visualize reconstruction"
   ]
  },
  {
   "cell_type": "code",
   "execution_count": null,
   "id": "9b53a196",
   "metadata": {},
   "outputs": [],
   "source": [
    "o_imars3dui.visualize_reconstruction()"
   ]
  },
  {
   "cell_type": "markdown",
   "id": "58916e7d",
   "metadata": {},
   "source": [
    "# Export\n"
   ]
  },
  {
   "cell_type": "code",
   "execution_count": null,
   "id": "5d1647d9",
   "metadata": {},
   "outputs": [],
   "source": [
    "o_imars3dui.export()"
   ]
  }
 ],
 "metadata": {
  "kernelspec": {
   "display_name": "Python 3 (ipykernel)",
   "language": "python",
   "name": "python3"
  },
  "language_info": {
   "codemirror_mode": {
    "name": "ipython",
    "version": 3
   },
   "file_extension": ".py",
   "mimetype": "text/x-python",
   "name": "python",
   "nbconvert_exporter": "python",
   "pygments_lexer": "ipython3",
   "version": "3.10.6"
  }
 },
 "nbformat": 4,
 "nbformat_minor": 5
}
