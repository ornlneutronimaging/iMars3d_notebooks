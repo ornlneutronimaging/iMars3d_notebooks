{
 "cells": [
  {
   "cell_type": "markdown",
   "id": "8a094585",
   "metadata": {},
   "source": [
    "[![Notebook Tutorial](__code/__all/notebook_tutorial.png)](https://neutronimaging.ornl.gov/ct-reconstruction/)\n",
    "\n",
    "<img src='__docs/notebook_rules.png' />"
   ]
  },
  {
   "cell_type": "code",
   "execution_count": null,
   "id": "fd77f4b7",
   "metadata": {},
   "outputs": [],
   "source": [
    "import warnings\n",
    "warnings.filterwarnings('ignore')\n",
    "\n",
    "import matplotlib.pyplot as plt\n",
    "%matplotlib notebook\n",
    "\n",
    "import imars3d\n",
    "print(f\"Using imarsd version {imars3d.__version__}\")\n",
    "\n",
    "from __code.imars3dui_skipped_algorithms import Imars3dui\n",
    "from __code.roi_selection_ui import Interface\n",
    "\n",
    "from __code import system\n",
    "system.System.select_working_dir()\n",
    "from __code.__all import custom_style\n",
    "custom_style.style()"
   ]
  },
  {
   "cell_type": "code",
   "execution_count": null,
   "id": "9d37e23e",
   "metadata": {},
   "outputs": [],
   "source": [
    "%gui qt"
   ]
  },
  {
   "cell_type": "markdown",
   "id": "d1c84734",
   "metadata": {},
   "source": [
    "# Select input data - MANDATORY"
   ]
  },
  {
   "cell_type": "markdown",
   "id": "1a9713ab",
   "metadata": {},
   "source": [
    "## raw data"
   ]
  },
  {
   "cell_type": "code",
   "execution_count": null,
   "id": "bf8e0048",
   "metadata": {},
   "outputs": [],
   "source": [
    "o_imars3dui = Imars3dui(working_dir=system.System.get_working_dir())\n",
    "o_imars3dui.select_raw()"
   ]
  },
  {
   "cell_type": "markdown",
   "id": "be010800",
   "metadata": {},
   "source": [
    "## ob "
   ]
  },
  {
   "cell_type": "code",
   "execution_count": null,
   "id": "43d257da",
   "metadata": {},
   "outputs": [],
   "source": [
    "o_imars3dui.select_ob()"
   ]
  },
  {
   "cell_type": "markdown",
   "id": "ba6b9bff",
   "metadata": {},
   "source": [
    "## dc "
   ]
  },
  {
   "cell_type": "code",
   "execution_count": null,
   "id": "a1abeac0",
   "metadata": {},
   "outputs": [],
   "source": [
    "o_imars3dui.select_dc()"
   ]
  },
  {
   "cell_type": "markdown",
   "id": "1e53e769",
   "metadata": {},
   "source": [
    "## Load"
   ]
  },
  {
   "cell_type": "code",
   "execution_count": null,
   "id": "c924c701",
   "metadata": {},
   "outputs": [],
   "source": [
    "o_imars3dui.load_and_display_data()"
   ]
  },
  {
   "cell_type": "markdown",
   "id": "e4f52458",
   "metadata": {},
   "source": [
    "# Crop - OPTIONAL"
   ]
  },
  {
   "cell_type": "markdown",
   "id": "e28ccb6c",
   "metadata": {},
   "source": [
    "### select crop region (Zzz)"
   ]
  },
  {
   "cell_type": "code",
   "execution_count": null,
   "id": "c051231d",
   "metadata": {},
   "outputs": [],
   "source": [
    "o_gui = Interface(o_imars3dui=o_imars3dui,\n",
    "                  mode='crop',\n",
    "                  callback=o_imars3dui.saving_crop_region)\n",
    "o_gui.show()"
   ]
  },
  {
   "cell_type": "markdown",
   "id": "c6e11b8e",
   "metadata": {},
   "source": [
    "### perform cropping "
   ]
  },
  {
   "cell_type": "code",
   "execution_count": null,
   "id": "53eef6a0",
   "metadata": {},
   "outputs": [],
   "source": [
    "o_imars3dui.perform_cropping()"
   ]
  },
  {
   "cell_type": "markdown",
   "id": "6df4b3ab",
   "metadata": {},
   "source": [
    "# Gamma filtering  (<font size=5 type=\"bold\">Z</font><font size=4 type=\"bold\">Z</font><font size=3 type=\"bold\">Z</font>) - OPTIONAL"
   ]
  },
  {
   "cell_type": "code",
   "execution_count": null,
   "id": "5169f048",
   "metadata": {},
   "outputs": [],
   "source": [
    "o_imars3dui.gamma_filtering()"
   ]
  },
  {
   "cell_type": "markdown",
   "id": "7ad2184f",
   "metadata": {},
   "source": [
    "# Normalization (<font size=5 type=\"bold\">Z</font><font size=4 type=\"bold\">Z</font><font size=3 type=\"bold\">Z</font>) - MANDATORY"
   ]
  },
  {
   "cell_type": "code",
   "execution_count": null,
   "id": "23e67dd6",
   "metadata": {},
   "outputs": [],
   "source": [
    "o_imars3dui.normalization_and_display()"
   ]
  },
  {
   "cell_type": "markdown",
   "id": "f3b6615d",
   "metadata": {},
   "source": [
    "# Export data (Optional cell) "
   ]
  },
  {
   "cell_type": "code",
   "execution_count": null,
   "id": "0acbbcf2",
   "metadata": {},
   "outputs": [],
   "source": [
    "o_imars3dui.export_normalization()"
   ]
  },
  {
   "cell_type": "markdown",
   "id": "24f2000a",
   "metadata": {},
   "source": [
    "# Beam fluctuation correction - OPTIONAL"
   ]
  },
  {
   "cell_type": "markdown",
   "id": "a83ee7f4",
   "metadata": {},
   "source": [
    "### Select a region that does not contain the sample to improve the normalization"
   ]
  },
  {
   "cell_type": "code",
   "execution_count": null,
   "id": "4436e53f",
   "metadata": {},
   "outputs": [],
   "source": [
    "o_gui = Interface(o_imars3dui=o_imars3dui,\n",
    "                  mode='background',\n",
    "                  callback=o_imars3dui.saving_beam_fluctuation_correction)\n",
    "o_gui.show()"
   ]
  },
  {
   "cell_type": "markdown",
   "id": "410ee68b",
   "metadata": {},
   "source": [
    "### perform beam fluctuation correction"
   ]
  },
  {
   "cell_type": "code",
   "execution_count": null,
   "id": "4d779c50",
   "metadata": {},
   "outputs": [],
   "source": [
    "o_imars3dui.beam_fluctuation_correction()"
   ]
  },
  {
   "cell_type": "markdown",
   "id": "85987b79",
   "metadata": {},
   "source": [
    "# Transmission to attenuation - MANDATORY"
   ]
  },
  {
   "cell_type": "code",
   "execution_count": null,
   "id": "df3d6315",
   "metadata": {},
   "outputs": [],
   "source": [
    "o_imars3dui.minus_log_and_display()"
   ]
  },
  {
   "cell_type": "markdown",
   "id": "0805106f",
   "metadata": {},
   "source": [
    "# Tilt correction (<font size=5 type=\"bold\">Z</font><font size=4 type=\"bold\">Z</font><font size=3 type=\"bold\">Z</font>) - OPTIONAL"
   ]
  },
  {
   "cell_type": "markdown",
   "id": "c8524d78",
   "metadata": {},
   "source": [
    "## find 0 and 180 degrees files"
   ]
  },
  {
   "cell_type": "code",
   "execution_count": null,
   "id": "0ddccf5e",
   "metadata": {},
   "outputs": [],
   "source": [
    "o_imars3dui.find_0_180_degrees_files()"
   ]
  },
  {
   "cell_type": "markdown",
   "id": "7e60f73f",
   "metadata": {},
   "source": [
    "## calculate tilt "
   ]
  },
  {
   "cell_type": "code",
   "execution_count": null,
   "id": "50412e6c",
   "metadata": {},
   "outputs": [],
   "source": [
    "o_imars3dui.calculate_tilt()"
   ]
  },
  {
   "cell_type": "markdown",
   "id": "eab2986d",
   "metadata": {},
   "source": [
    "## apply tilt correction"
   ]
  },
  {
   "cell_type": "code",
   "execution_count": null,
   "id": "481db90d",
   "metadata": {},
   "outputs": [],
   "source": [
    "o_imars3dui.apply_tilt_and_display()"
   ]
  },
  {
   "cell_type": "markdown",
   "id": "8167a911",
   "metadata": {},
   "source": [
    "# Strikes removal (<font size=5 type=\"bold\">Z</font><font size=4 type=\"bold\">Z</font><font size=3 type=\"bold\">Z</font>) - OPTIONAL"
   ]
  },
  {
   "cell_type": "markdown",
   "id": "ca9cb44e",
   "metadata": {},
   "source": [
    "### using imars3d - ketcham method working on 3D stack"
   ]
  },
  {
   "cell_type": "code",
   "execution_count": null,
   "id": "4d2886fe",
   "metadata": {},
   "outputs": [],
   "source": [
    "o_imars3dui.strikes_removal()"
   ]
  },
  {
   "cell_type": "markdown",
   "id": "8296c6ef",
   "metadata": {},
   "source": [
    "# Display sinogram - OPTIONAL"
   ]
  },
  {
   "cell_type": "code",
   "execution_count": null,
   "id": "98dc0b2c",
   "metadata": {},
   "outputs": [],
   "source": [
    "o_imars3dui.display_sinogram()"
   ]
  },
  {
   "cell_type": "markdown",
   "id": "82f1d191",
   "metadata": {},
   "source": [
    "# Rotation center (<font size=5 type=\"bold\">Z</font><font size=4 type=\"bold\">Z</font><font size=3 type=\"bold\">Z</font>) - MANDATORY"
   ]
  },
  {
   "cell_type": "code",
   "execution_count": null,
   "id": "e8c51ef3",
   "metadata": {},
   "outputs": [],
   "source": [
    "o_imars3dui.rotation_center()"
   ]
  },
  {
   "cell_type": "markdown",
   "id": "e39c3bd2",
   "metadata": {},
   "source": [
    "# Reconstruction - MANDATORY"
   ]
  },
  {
   "cell_type": "code",
   "execution_count": null,
   "id": "7d80e494",
   "metadata": {},
   "outputs": [],
   "source": [
    "o_imars3dui.reconstruction_and_display()"
   ]
  },
  {
   "cell_type": "markdown",
   "id": "58916e7d",
   "metadata": {},
   "source": [
    "# Export\n"
   ]
  },
  {
   "cell_type": "code",
   "execution_count": null,
   "id": "5d1647d9",
   "metadata": {},
   "outputs": [],
   "source": [
    "o_imars3dui.export()"
   ]
  },
  {
   "cell_type": "code",
   "execution_count": null,
   "id": "71386b16",
   "metadata": {},
   "outputs": [],
   "source": []
  }
 ],
 "metadata": {
  "kernelspec": {
   "display_name": "Python 3 (ipykernel)",
   "language": "python",
   "name": "python3"
  },
  "language_info": {
   "codemirror_mode": {
    "name": "ipython",
    "version": 3
   },
   "file_extension": ".py",
   "mimetype": "text/x-python",
   "name": "python",
   "nbconvert_exporter": "python",
   "pygments_lexer": "ipython3",
   "version": "3.11.8"
  }
 },
 "nbformat": 4,
 "nbformat_minor": 5
}
