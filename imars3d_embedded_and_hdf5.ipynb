{
 "cells": [
  {
   "cell_type": "markdown",
   "id": "8a094585",
   "metadata": {},
   "source": [
    "[![Notebook Tutorial](__code/__all/notebook_tutorial.png)](https://neutronimaging.ornl.gov/ct-reconstruction/)\n",
    "\n",
    "<img src='__docs/notebook_rules.png' />"
   ]
  },
  {
   "cell_type": "code",
   "execution_count": null,
   "id": "fd77f4b7",
   "metadata": {},
   "outputs": [],
   "source": [
    "import warnings\n",
    "warnings.filterwarnings('ignore')\n",
    "\n",
    "import matplotlib.pyplot as plt\n",
    "# %matplotlib notebook\n",
    "# %matplotlib ipympl\n",
    "# %matplotlib inline\n",
    "\n",
    "import imars3d\n",
    "print(f\"Using imars3d version {imars3d.__version__}\")\n",
    "\n",
    "from __code.imars3dui import Imars3dui\n",
    "from __code.roi_selection_ui import Interface\n",
    "\n",
    "from __code import system\n",
    "system.System.select_working_dir()\n",
    "from __code.__all import custom_style\n",
    "custom_style.style()"
   ]
  },
  {
   "cell_type": "markdown",
   "id": "d1c84734",
   "metadata": {},
   "source": [
    "# Select input data "
   ]
  },
  {
   "cell_type": "code",
   "execution_count": null,
   "id": "b2d71bcb-3cd1-4a51-9f5d-1ab14344f83c",
   "metadata": {},
   "outputs": [],
   "source": [
    "# from __code.imars3dui import DataType\n",
    "# import os\n",
    "\n",
    "# # TESTING\n",
    "\n",
    "# working_from_home = True\n",
    "\n",
    "# if working_from_home:\n",
    "#     top_folder = \"/Volumes/JeanHardDrive/HFIR/CG1D/IPTS-24863-test-imars3d-notebook/raw/\"\n",
    "#     raw_data = top_folder + \"ct_scans/Feb04_2020_half_set\"\n",
    "# else:\n",
    "#     top_folder = \"/Users/j35/HFIR/CG1D/IPTS-24863-test-imars3d-notebook/raw/\"\n",
    "#     raw_data = top_folder + \"ct_scans/Feb04_2020\"\n",
    "\n",
    "# assert os.path.exists(raw_data)\n",
    "# ob_data = top_folder + \"/ob/Feb04_2020\"\n",
    "# assert os.path.exists(ob_data)\n",
    "# dc_data = top_folder + \"/dc/Feb06_2020\"\n",
    "# assert os.path.exists(dc_data)"
   ]
  },
  {
   "cell_type": "markdown",
   "id": "1a9713ab",
   "metadata": {},
   "source": [
    "## raw data"
   ]
  },
  {
   "cell_type": "code",
   "execution_count": null,
   "id": "bf8e0048",
   "metadata": {},
   "outputs": [],
   "source": [
    "o_imars3dui = Imars3dui(working_dir=system.System.get_working_dir())\n",
    "o_imars3dui.select_raw()\n",
    "\n",
    "# # debugging\n",
    "# o_imars3dui.current_data_type = DataType.raw\n",
    "# o_imars3dui.data_selected(raw_data)"
   ]
  },
  {
   "cell_type": "markdown",
   "id": "be010800",
   "metadata": {},
   "source": [
    "## ob "
   ]
  },
  {
   "cell_type": "code",
   "execution_count": null,
   "id": "43d257da",
   "metadata": {},
   "outputs": [],
   "source": [
    "o_imars3dui.select_ob()\n",
    "# o_imars3dui.current_data_type = DataType.ob\n",
    "#o_imars3dui.data_selected([ob_data])"
   ]
  },
  {
   "cell_type": "markdown",
   "id": "ba6b9bff",
   "metadata": {},
   "source": [
    "## dc "
   ]
  },
  {
   "cell_type": "code",
   "execution_count": null,
   "id": "a1abeac0",
   "metadata": {},
   "outputs": [],
   "source": [
    "o_imars3dui.select_dc()\n",
    "# o_imars3dui.current_data_type = DataType.dc\n",
    "# o_imars3dui.data_selected([dc_data])"
   ]
  },
  {
   "cell_type": "markdown",
   "id": "1e53e769",
   "metadata": {},
   "source": [
    "# Load"
   ]
  },
  {
   "cell_type": "code",
   "execution_count": null,
   "id": "c924c701",
   "metadata": {},
   "outputs": [],
   "source": [
    "o_imars3dui.load_and_display_data()"
   ]
  },
  {
   "cell_type": "markdown",
   "id": "e4f52458",
   "metadata": {},
   "source": [
    "# Crop"
   ]
  },
  {
   "cell_type": "markdown",
   "id": "e28ccb6c",
   "metadata": {},
   "source": [
    "### select crop region"
   ]
  },
  {
   "cell_type": "code",
   "execution_count": null,
   "id": "e09834e8",
   "metadata": {},
   "outputs": [],
   "source": [
    "o_imars3dui.crop_embedded()"
   ]
  },
  {
   "cell_type": "markdown",
   "id": "c6e11b8e",
   "metadata": {},
   "source": [
    "### perform cropping "
   ]
  },
  {
   "cell_type": "code",
   "execution_count": null,
   "id": "53eef6a0",
   "metadata": {},
   "outputs": [],
   "source": [
    "o_imars3dui.perform_embedded_cropping()"
   ]
  },
  {
   "cell_type": "markdown",
   "id": "6df4b3ab",
   "metadata": {},
   "source": [
    "# Gamma filtering  (<font size=5 type=\"bold\">Z</font><font size=4 type=\"bold\">Z</font><font size=3 type=\"bold\">Z</font>)"
   ]
  },
  {
   "cell_type": "code",
   "execution_count": null,
   "id": "50530e3a-870b-4a10-89f3-fcdb0e96acb0",
   "metadata": {},
   "outputs": [],
   "source": [
    "o_imars3dui.gamma_filtering_options()"
   ]
  },
  {
   "cell_type": "code",
   "execution_count": null,
   "id": "5169f048",
   "metadata": {},
   "outputs": [],
   "source": [
    "o_imars3dui.gamma_filtering()"
   ]
  },
  {
   "cell_type": "markdown",
   "id": "7ad2184f",
   "metadata": {},
   "source": [
    "# Normalization (<font size=5 type=\"bold\">Z</font><font size=4 type=\"bold\">Z</font><font size=3 type=\"bold\">Z</font>)"
   ]
  },
  {
   "cell_type": "code",
   "execution_count": null,
   "id": "23e67dd6",
   "metadata": {},
   "outputs": [],
   "source": [
    "o_imars3dui.normalization_and_display()"
   ]
  },
  {
   "cell_type": "markdown",
   "id": "24f2000a",
   "metadata": {},
   "source": [
    "# Beam fluctuation correction"
   ]
  },
  {
   "cell_type": "markdown",
   "id": "a83ee7f4",
   "metadata": {},
   "source": [
    "### Select a region that does not contain the sample to improve the normalization"
   ]
  },
  {
   "cell_type": "code",
   "execution_count": null,
   "id": "f344cb43-3cce-471b-97e8-29d619bc4b70",
   "metadata": {},
   "outputs": [],
   "source": [
    "o_imars3dui.beam_fluctuation_correction_option()"
   ]
  },
  {
   "cell_type": "markdown",
   "id": "e48433c0-07b2-4414-91f4-10f0bd2e23ee",
   "metadata": {},
   "source": [
    "### select beam fluctuation region"
   ]
  },
  {
   "cell_type": "code",
   "execution_count": null,
   "id": "4975cf57",
   "metadata": {},
   "outputs": [],
   "source": [
    "o_imars3dui.apply_select_beam_fluctuation()"
   ]
  },
  {
   "cell_type": "markdown",
   "id": "410ee68b",
   "metadata": {},
   "source": [
    "### perform beam fluctuation correction"
   ]
  },
  {
   "cell_type": "code",
   "execution_count": null,
   "id": "4d779c50",
   "metadata": {},
   "outputs": [],
   "source": [
    "o_imars3dui.beam_fluctuation_correction_embedded()"
   ]
  },
  {
   "cell_type": "markdown",
   "id": "85987b79",
   "metadata": {},
   "source": [
    "# Transmission to attenuation"
   ]
  },
  {
   "cell_type": "code",
   "execution_count": null,
   "id": "df3d6315",
   "metadata": {},
   "outputs": [],
   "source": [
    "o_imars3dui.minus_log_and_display()"
   ]
  },
  {
   "cell_type": "markdown",
   "id": "0805106f",
   "metadata": {},
   "source": [
    "# Tilt correction (<font size=5 type=\"bold\">Z</font><font size=4 type=\"bold\">Z</font><font size=3 type=\"bold\">Z</font>)"
   ]
  },
  {
   "cell_type": "markdown",
   "id": "c8524d78",
   "metadata": {},
   "source": [
    "## find 0 and 180 degrees files"
   ]
  },
  {
   "cell_type": "code",
   "execution_count": null,
   "id": "0ddccf5e",
   "metadata": {},
   "outputs": [],
   "source": [
    "o_imars3dui.find_0_180_degrees_files()"
   ]
  },
  {
   "cell_type": "markdown",
   "id": "7e60f73f",
   "metadata": {},
   "source": [
    "## calculate tilt "
   ]
  },
  {
   "cell_type": "code",
   "execution_count": null,
   "id": "50412e6c",
   "metadata": {},
   "outputs": [],
   "source": [
    "o_imars3dui.calculate_tilt()"
   ]
  },
  {
   "cell_type": "markdown",
   "id": "aa1278e9-86bb-4d56-b211-c5c8a6827e3f",
   "metadata": {},
   "source": [
    "### Slices to use to test tilt calculation "
   ]
  },
  {
   "cell_type": "code",
   "execution_count": null,
   "id": "7d66c629-a8d3-41a5-8237-41d50708178f",
   "metadata": {},
   "outputs": [],
   "source": [
    "o_imars3dui.test_tilt_slices_selection()"
   ]
  },
  {
   "cell_type": "markdown",
   "id": "e2621812-7304-4d14-8a42-aaa93b6d6f41",
   "metadata": {},
   "source": [
    "### testing tilt on selected algorithms (Zzz)"
   ]
  },
  {
   "cell_type": "code",
   "execution_count": null,
   "id": "2a0c72b8-489d-4616-8701-ee297343ac60",
   "metadata": {},
   "outputs": [],
   "source": [
    "o_imars3dui.testing_tilt_on_selected_algorithms()"
   ]
  },
  {
   "cell_type": "markdown",
   "id": "eab2986d",
   "metadata": {},
   "source": [
    "## display data with tilt corrected"
   ]
  },
  {
   "cell_type": "code",
   "execution_count": null,
   "id": "481db90d",
   "metadata": {},
   "outputs": [],
   "source": [
    "o_imars3dui.display_with_tilt()"
   ]
  },
  {
   "cell_type": "markdown",
   "id": "6d06d2d9-664a-4f1b-985f-f87458a65f63",
   "metadata": {},
   "source": [
    "# Filtering\n",
    "\n",
    "* remove negative values"
   ]
  },
  {
   "cell_type": "code",
   "execution_count": null,
   "id": "94e91676-9e06-4e16-91de-eea4e9245333",
   "metadata": {},
   "outputs": [],
   "source": [
    "o_imars3dui.filter_options()"
   ]
  },
  {
   "cell_type": "code",
   "execution_count": null,
   "id": "c6cc1b6c-811a-40b8-a1a5-54d6b636e749",
   "metadata": {},
   "outputs": [],
   "source": [
    "o_imars3dui.apply_filter_options()"
   ]
  },
  {
   "cell_type": "markdown",
   "id": "e7abf1c8",
   "metadata": {},
   "source": [
    "# Display sinogram "
   ]
  },
  {
   "cell_type": "code",
   "execution_count": null,
   "id": "36465235",
   "metadata": {},
   "outputs": [],
   "source": [
    "o_imars3dui.create_and_display_sinogram()"
   ]
  },
  {
   "cell_type": "markdown",
   "id": "c9b26eba",
   "metadata": {},
   "source": [
    "# Ring removal"
   ]
  },
  {
   "cell_type": "markdown",
   "id": "10e6eaf5",
   "metadata": {},
   "source": [
    "### select"
   ]
  },
  {
   "cell_type": "code",
   "execution_count": null,
   "id": "cd239aa9",
   "metadata": {},
   "outputs": [],
   "source": [
    "o_imars3dui.ring_removal_options()"
   ]
  },
  {
   "cell_type": "markdown",
   "id": "51ad68cf",
   "metadata": {},
   "source": [
    "### apply "
   ]
  },
  {
   "cell_type": "code",
   "execution_count": null,
   "id": "b44a34f5",
   "metadata": {},
   "outputs": [],
   "source": [
    "o_imars3dui.apply_ring_removal_options()"
   ]
  },
  {
   "cell_type": "markdown",
   "id": "051ba55e",
   "metadata": {},
   "source": [
    "### check "
   ]
  },
  {
   "cell_type": "code",
   "execution_count": null,
   "id": "687076e1",
   "metadata": {},
   "outputs": [],
   "source": [
    "o_imars3dui.test_ring_removal()"
   ]
  },
  {
   "cell_type": "markdown",
   "id": "03dd0e6d",
   "metadata": {},
   "source": [
    "# Testing reconstruction on some slides"
   ]
  },
  {
   "cell_type": "markdown",
   "id": "3c897dd4-4b52-4d33-88ce-5891e68d71b6",
   "metadata": {},
   "source": [
    "### Select slices to reconstruct "
   ]
  },
  {
   "cell_type": "code",
   "execution_count": null,
   "id": "70301451",
   "metadata": {},
   "outputs": [],
   "source": [
    "o_imars3dui.define_slices_to_test_reconstruction()"
   ]
  },
  {
   "cell_type": "markdown",
   "id": "89583e0e-7105-4628-94a2-bfb282b0c27c",
   "metadata": {},
   "source": [
    "### Select and define algorithms to use "
   ]
  },
  {
   "cell_type": "code",
   "execution_count": null,
   "id": "409d0b74-2995-48d4-b1a5-d08cc5186095",
   "metadata": {},
   "outputs": [],
   "source": [
    "o_imars3dui.testing_reconstruction_algorithm()"
   ]
  },
  {
   "cell_type": "markdown",
   "id": "e0b6cf0c-7a92-4953-b757-e6409cdd6717",
   "metadata": {},
   "source": [
    "###  Test reconstruction on those slides "
   ]
  },
  {
   "cell_type": "code",
   "execution_count": null,
   "id": "11f34f48-44d9-4710-a92d-5ee24a13d65d",
   "metadata": {},
   "outputs": [],
   "source": [
    "o_imars3dui.running_reconstruction_test()"
   ]
  },
  {
   "cell_type": "markdown",
   "id": "de29c9bf",
   "metadata": {},
   "source": [
    "### Display reconstructed slices of each method "
   ]
  },
  {
   "cell_type": "code",
   "execution_count": null,
   "id": "037d8af6-b47d-4c9a-942a-1a5658eaa5c5",
   "metadata": {},
   "outputs": [],
   "source": [
    "o_imars3dui.display_reconstruction_test()"
   ]
  },
  {
   "cell_type": "code",
   "execution_count": null,
   "id": "e9fbafa5",
   "metadata": {},
   "outputs": [],
   "source": []
  },
  {
   "cell_type": "code",
   "execution_count": null,
   "id": "4bd1bfb6",
   "metadata": {},
   "outputs": [],
   "source": []
  },
  {
   "cell_type": "code",
   "execution_count": null,
   "id": "ef58e20b",
   "metadata": {},
   "outputs": [],
   "source": []
  },
  {
   "cell_type": "code",
   "execution_count": null,
   "id": "94b2ba1f",
   "metadata": {},
   "outputs": [],
   "source": []
  },
  {
   "cell_type": "code",
   "execution_count": null,
   "id": "5eea8623",
   "metadata": {},
   "outputs": [],
   "source": []
  },
  {
   "cell_type": "markdown",
   "id": "e39c3bd2",
   "metadata": {},
   "source": [
    "# Test reconstruction algorithms\n",
    "\n",
    "Select the algorithms you want to use to compare them on the slices you previously selected!"
   ]
  },
  {
   "cell_type": "code",
   "execution_count": null,
   "id": "a5a2aaab-5c66-40a7-b645-b0f1b665dcd8",
   "metadata": {},
   "outputs": [],
   "source": []
  },
  {
   "cell_type": "code",
   "execution_count": null,
   "id": "b406cd64-2303-4de4-8c6f-ef2f5ccd8d90",
   "metadata": {},
   "outputs": [],
   "source": [
    "o_imars3dui.running_reconstruction_test()"
   ]
  },
  {
   "cell_type": "code",
   "execution_count": null,
   "id": "4df935c3-ec10-4839-8917-c5b3a1ec480f",
   "metadata": {},
   "outputs": [],
   "source": [
    "=============== END OF CURRENT IMPLEMENTATION ===================="
   ]
  },
  {
   "cell_type": "code",
   "execution_count": null,
   "id": "5b6415c3-e6c3-4bcc-9273-d76ed006eac1",
   "metadata": {},
   "outputs": [],
   "source": []
  },
  {
   "cell_type": "code",
   "execution_count": null,
   "id": "82c4ea4e-7ac2-420c-9ffa-9e7b69f5af9d",
   "metadata": {},
   "outputs": [],
   "source": [
    "from imars3d.backend.reconstruction import recon\n",
    "import numpy as np\n",
    "import tomopy"
   ]
  },
  {
   "cell_type": "code",
   "execution_count": null,
   "id": "5e812938-6daa-4d52-905d-1e22161151db",
   "metadata": {},
   "outputs": [],
   "source": [
    "proj_ring_removed = o_imars3dui.proj_ring_removed\n",
    "tilt_algo_selected = o_imars3dui.o_tilt.test_tilt.result\n",
    "rot_center = o_imars3dui.o_tilt.test_tilt_reconstruction[tilt_algo_selected]['center_of_rotation'][0]\n",
    "theta = o_imars3dui.rot_angles_rad\n",
    "from __code import AstraParameters, ReconstructionAlgo\n",
    "algorithm = o_imars3dui.o_test_reco.test_reconstruction_dict[ReconstructionAlgo.astra][AstraParameters.algorithm]\n",
    "ratio = o_imars3dui.o_test_reco.test_reconstruction_dict[ReconstructionAlgo.astra][AstraParameters.ratio]\n",
    "nbr_iteration = o_imars3dui.o_test_reco.test_reconstruction_dict[ReconstructionAlgo.astra][AstraParameters.nbr_iter]\n",
    "filter = o_imars3dui.o_test_reco.test_reconstruction_dict[ReconstructionAlgo.astra][AstraParameters.filter]"
   ]
  },
  {
   "cell_type": "code",
   "execution_count": null,
   "id": "52d91074-645c-493a-ba52-9477d71ceae4",
   "metadata": {},
   "outputs": [],
   "source": [
    "theta = np.array(theta)"
   ]
  },
  {
   "cell_type": "code",
   "execution_count": null,
   "id": "c08d619b-4842-4d96-b12b-2cce7c2629ac",
   "metadata": {},
   "outputs": [],
   "source": [
    "rec_img = recon(arrays=proj_ring_removed,\n",
    "                center=rot_center,\n",
    "                theta=theta,\n",
    "                algorithm=tomopy.astra,\n",
    "                )"
   ]
  },
  {
   "cell_type": "code",
   "execution_count": null,
   "id": "b69b35d9-0ed1-48f4-9100-13351e0b30bc",
   "metadata": {},
   "outputs": [],
   "source": [
    "import matplotlib.pyplot as plt"
   ]
  },
  {
   "cell_type": "code",
   "execution_count": null,
   "id": "dd081f64-d908-4cf8-9771-414ff2505f4b",
   "metadata": {},
   "outputs": [],
   "source": [
    "fig, ax = plt.subplots()\n",
    "ax.imshow(rec_img[110])"
   ]
  },
  {
   "cell_type": "code",
   "execution_count": null,
   "id": "213bddd1-f99d-460b-a451-08d2606f4ff6",
   "metadata": {},
   "outputs": [],
   "source": []
  },
  {
   "cell_type": "code",
   "execution_count": null,
   "id": "d17525a2-67ec-48b7-90dc-e92729190540",
   "metadata": {},
   "outputs": [],
   "source": []
  },
  {
   "cell_type": "code",
   "execution_count": null,
   "id": "7d80e494",
   "metadata": {
    "jupyter": {
     "source_hidden": true
    }
   },
   "outputs": [],
   "source": [
    "o_imars3dui.reconstruction_and_display()"
   ]
  },
  {
   "cell_type": "markdown",
   "id": "58916e7d",
   "metadata": {},
   "source": [
    "# Export\n"
   ]
  },
  {
   "cell_type": "code",
   "execution_count": null,
   "id": "5d1647d9",
   "metadata": {},
   "outputs": [],
   "source": [
    "o_imars3dui.export()"
   ]
  },
  {
   "cell_type": "code",
   "execution_count": null,
   "id": "71386b16",
   "metadata": {},
   "outputs": [],
   "source": []
  }
 ],
 "metadata": {
  "kernelspec": {
   "display_name": "Python 3 (ipykernel)",
   "language": "python",
   "name": "python3"
  },
  "language_info": {
   "codemirror_mode": {
    "name": "ipython",
    "version": 3
   },
   "file_extension": ".py",
   "mimetype": "text/x-python",
   "name": "python",
   "nbconvert_exporter": "python",
   "pygments_lexer": "ipython3",
   "version": "3.11.8"
  }
 },
 "nbformat": 4,
 "nbformat_minor": 5
}
