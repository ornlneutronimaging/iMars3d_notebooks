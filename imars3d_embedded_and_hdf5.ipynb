{
 "cells": [
  {
   "cell_type": "markdown",
   "id": "8a094585",
   "metadata": {},
   "source": [
    "[![Notebook Tutorial](__code/__all/notebook_tutorial.png)](https://neutronimaging.ornl.gov/ct-reconstruction/)\n",
    "\n",
    "<img src='__docs/notebook_rules.png' />"
   ]
  },
  {
   "cell_type": "code",
   "execution_count": null,
   "id": "fd77f4b7",
   "metadata": {},
   "outputs": [],
   "source": [
    "import warnings\n",
    "warnings.filterwarnings('ignore')\n",
    "\n",
    "import matplotlib.pyplot as plt\n",
    "# %matplotlib notebook\n",
    "# %matplotlib ipympl\n",
    "%matplotlib inline\n",
    "\n",
    "import imars3d\n",
    "print(f\"Using imarsd version {imars3d.__version__}\")\n",
    "\n",
    "from __code.imars3dui import Imars3dui\n",
    "from __code.roi_selection_ui import Interface\n",
    "\n",
    "from __code import system\n",
    "system.System.select_working_dir()\n",
    "from __code.__all import custom_style\n",
    "custom_style.style()"
   ]
  },
  {
   "cell_type": "markdown",
   "id": "d1c84734",
   "metadata": {},
   "source": [
    "# Select input data "
   ]
  },
  {
   "cell_type": "code",
   "execution_count": null,
   "id": "b2d71bcb-3cd1-4a51-9f5d-1ab14344f83c",
   "metadata": {},
   "outputs": [],
   "source": [
    "from __code.imars3dui import DataType\n",
    "import os\n",
    "\n",
    "# TESTING\n",
    "top_folder = \"/Volumes/JeanHardDrive/HFIR/CG1D/IPTS-24863-test-imars3d-notebook/raw/\"\n",
    "top_folder = \"/Users/j35/HFIR/CG1D/IPTS-24863-test-imars3d-notebook/raw/\"\n",
    "raw_data = top_folder + \"ct_scans/Feb04_2020\"\n",
    "assert os.path.exists(raw_data)\n",
    "ob_data = top_folder + \"/ob/Feb04_2020\"\n",
    "assert os.path.exists(ob_data)\n",
    "dc_data = top_folder + \"/dc/Feb06_2020\"\n",
    "assert os.path.exists(dc_data)\n"
   ]
  },
  {
   "cell_type": "markdown",
   "id": "1a9713ab",
   "metadata": {},
   "source": [
    "## raw data"
   ]
  },
  {
   "cell_type": "code",
   "execution_count": null,
   "id": "bf8e0048",
   "metadata": {},
   "outputs": [],
   "source": [
    "o_imars3dui = Imars3dui(working_dir=system.System.get_working_dir())\n",
    "# o_imars3dui.select_raw()\n",
    "\n",
    "# debugging\n",
    "o_imars3dui.current_data_type = DataType.raw\n",
    "o_imars3dui.data_selected(raw_data)"
   ]
  },
  {
   "cell_type": "markdown",
   "id": "be010800",
   "metadata": {},
   "source": [
    "## ob "
   ]
  },
  {
   "cell_type": "code",
   "execution_count": null,
   "id": "43d257da",
   "metadata": {},
   "outputs": [],
   "source": [
    "# o_imars3dui.select_ob()\n",
    "o_imars3dui.current_data_type = DataType.ob\n",
    "o_imars3dui.data_selected([ob_data])"
   ]
  },
  {
   "cell_type": "markdown",
   "id": "ba6b9bff",
   "metadata": {},
   "source": [
    "## dc "
   ]
  },
  {
   "cell_type": "code",
   "execution_count": null,
   "id": "a1abeac0",
   "metadata": {},
   "outputs": [],
   "source": [
    "# o_imars3dui.select_dc()\n",
    "o_imars3dui.current_data_type = DataType.dc\n",
    "o_imars3dui.data_selected([dc_data])"
   ]
  },
  {
   "cell_type": "markdown",
   "id": "1e53e769",
   "metadata": {},
   "source": [
    "# Load"
   ]
  },
  {
   "cell_type": "code",
   "execution_count": null,
   "id": "c924c701",
   "metadata": {},
   "outputs": [],
   "source": [
    "o_imars3dui.load_and_display_data()"
   ]
  },
  {
   "cell_type": "markdown",
   "id": "e4f52458",
   "metadata": {},
   "source": [
    "# Crop"
   ]
  },
  {
   "cell_type": "markdown",
   "id": "e28ccb6c",
   "metadata": {},
   "source": [
    "### select crop region"
   ]
  },
  {
   "cell_type": "code",
   "execution_count": null,
   "id": "e09834e8",
   "metadata": {},
   "outputs": [],
   "source": [
    "o_imars3dui.crop_embedded()"
   ]
  },
  {
   "cell_type": "markdown",
   "id": "c6e11b8e",
   "metadata": {},
   "source": [
    "### perform cropping "
   ]
  },
  {
   "cell_type": "code",
   "execution_count": null,
   "id": "53eef6a0",
   "metadata": {},
   "outputs": [],
   "source": [
    "o_imars3dui.perform_embedded_cropping()"
   ]
  },
  {
   "cell_type": "markdown",
   "id": "6df4b3ab",
   "metadata": {},
   "source": [
    "# Gamma filtering  (<font size=5 type=\"bold\">Z</font><font size=4 type=\"bold\">Z</font><font size=3 type=\"bold\">Z</font>)"
   ]
  },
  {
   "cell_type": "code",
   "execution_count": null,
   "id": "50530e3a-870b-4a10-89f3-fcdb0e96acb0",
   "metadata": {},
   "outputs": [],
   "source": [
    "o_imars3dui.gamma_filtering_options()"
   ]
  },
  {
   "cell_type": "code",
   "execution_count": null,
   "id": "5169f048",
   "metadata": {},
   "outputs": [],
   "source": [
    "o_imars3dui.gamma_filtering()"
   ]
  },
  {
   "cell_type": "markdown",
   "id": "7ad2184f",
   "metadata": {},
   "source": [
    "# Normalization (<font size=5 type=\"bold\">Z</font><font size=4 type=\"bold\">Z</font><font size=3 type=\"bold\">Z</font>)"
   ]
  },
  {
   "cell_type": "code",
   "execution_count": null,
   "id": "23e67dd6",
   "metadata": {},
   "outputs": [],
   "source": [
    "o_imars3dui.normalization_and_display()"
   ]
  },
  {
   "cell_type": "markdown",
   "id": "24f2000a",
   "metadata": {},
   "source": [
    "# Beam fluctuation correction"
   ]
  },
  {
   "cell_type": "markdown",
   "id": "a83ee7f4",
   "metadata": {},
   "source": [
    "### Select a region that does not contain the sample to improve the normalization"
   ]
  },
  {
   "cell_type": "code",
   "execution_count": null,
   "id": "4975cf57",
   "metadata": {},
   "outputs": [],
   "source": [
    "o_imars3dui.select_beam_fluctuation_roi_embedded()"
   ]
  },
  {
   "cell_type": "markdown",
   "id": "410ee68b",
   "metadata": {},
   "source": [
    "### perform beam fluctuation correction"
   ]
  },
  {
   "cell_type": "code",
   "execution_count": null,
   "id": "4d779c50",
   "metadata": {},
   "outputs": [],
   "source": [
    "o_imars3dui.beam_fluctuation_correction_embedded()"
   ]
  },
  {
   "cell_type": "markdown",
   "id": "85987b79",
   "metadata": {},
   "source": [
    "# Transmission to attenuation"
   ]
  },
  {
   "cell_type": "code",
   "execution_count": null,
   "id": "df3d6315",
   "metadata": {},
   "outputs": [],
   "source": [
    "o_imars3dui.minus_log_and_display()"
   ]
  },
  {
   "cell_type": "markdown",
   "id": "0805106f",
   "metadata": {},
   "source": [
    "# Tilt correction (<font size=5 type=\"bold\">Z</font><font size=4 type=\"bold\">Z</font><font size=3 type=\"bold\">Z</font>)"
   ]
  },
  {
   "cell_type": "markdown",
   "id": "c8524d78",
   "metadata": {},
   "source": [
    "## find 0 and 180 degrees files"
   ]
  },
  {
   "cell_type": "code",
   "execution_count": null,
   "id": "0ddccf5e",
   "metadata": {},
   "outputs": [],
   "source": [
    "o_imars3dui.find_0_180_degrees_files()"
   ]
  },
  {
   "cell_type": "markdown",
   "id": "7e60f73f",
   "metadata": {},
   "source": [
    "## calculate tilt "
   ]
  },
  {
   "cell_type": "code",
   "execution_count": null,
   "id": "50412e6c",
   "metadata": {},
   "outputs": [],
   "source": [
    "o_imars3dui.calculate_tilt()"
   ]
  },
  {
   "cell_type": "markdown",
   "id": "eab2986d",
   "metadata": {},
   "source": [
    "## apply tilt correction"
   ]
  },
  {
   "cell_type": "code",
   "execution_count": null,
   "id": "481db90d",
   "metadata": {},
   "outputs": [],
   "source": [
    "o_imars3dui.apply_tilt_and_display()"
   ]
  },
  {
   "cell_type": "markdown",
   "id": "6d06d2d9-664a-4f1b-985f-f87458a65f63",
   "metadata": {},
   "source": [
    "# Filtering\n",
    "\n",
    "* strikes removal (Zzz) - using ketcham method on 3D stack\n",
    "* remove negative values"
   ]
  },
  {
   "cell_type": "code",
   "execution_count": null,
   "id": "94e91676-9e06-4e16-91de-eea4e9245333",
   "metadata": {},
   "outputs": [],
   "source": [
    "o_imars3dui.filter_options()"
   ]
  },
  {
   "cell_type": "code",
   "execution_count": null,
   "id": "c6cc1b6c-811a-40b8-a1a5-54d6b636e749",
   "metadata": {},
   "outputs": [],
   "source": [
    "o_imars3dui.apply_filter_options()"
   ]
  },
  {
   "cell_type": "markdown",
   "id": "e7abf1c8",
   "metadata": {},
   "source": [
    "# Display sinogram "
   ]
  },
  {
   "cell_type": "code",
   "execution_count": null,
   "id": "36465235",
   "metadata": {},
   "outputs": [],
   "source": [
    "o_imars3dui.display_sinogram()"
   ]
  },
  {
   "cell_type": "markdown",
   "id": "82f1d191",
   "metadata": {},
   "source": [
    "# Rotation center (<font size=5 type=\"bold\">Z</font><font size=4 type=\"bold\">Z</font><font size=3 type=\"bold\">Z</font>)"
   ]
  },
  {
   "cell_type": "code",
   "execution_count": null,
   "id": "e8c51ef3",
   "metadata": {},
   "outputs": [],
   "source": [
    "o_imars3dui.rotation_center()"
   ]
  },
  {
   "cell_type": "markdown",
   "id": "03dd0e6d",
   "metadata": {},
   "source": [
    "# Testing reconstruction on some slides"
   ]
  },
  {
   "cell_type": "code",
   "execution_count": null,
   "id": "856b5161",
   "metadata": {},
   "outputs": [],
   "source": [
    "o_imars3dui.define_slices_to_test_reconstruction()"
   ]
  },
  {
   "cell_type": "code",
   "execution_count": null,
   "id": "100bc3e1",
   "metadata": {},
   "outputs": [],
   "source": [
    "o_imars3dui.test_reconstruction()"
   ]
  },
  {
   "cell_type": "markdown",
   "id": "e39c3bd2",
   "metadata": {},
   "source": [
    "# Reconstruction "
   ]
  },
  {
   "cell_type": "code",
   "execution_count": null,
   "id": "7d80e494",
   "metadata": {},
   "outputs": [],
   "source": [
    "o_imars3dui.reconstruction_and_display()"
   ]
  },
  {
   "cell_type": "markdown",
   "id": "58916e7d",
   "metadata": {},
   "source": [
    "# Export\n"
   ]
  },
  {
   "cell_type": "code",
   "execution_count": null,
   "id": "5d1647d9",
   "metadata": {},
   "outputs": [],
   "source": [
    "o_imars3dui.export()"
   ]
  },
  {
   "cell_type": "code",
   "execution_count": null,
   "id": "71386b16",
   "metadata": {},
   "outputs": [],
   "source": []
  }
 ],
 "metadata": {
  "kernelspec": {
   "display_name": "Python 3 (ipykernel)",
   "language": "python",
   "name": "python3"
  },
  "language_info": {
   "codemirror_mode": {
    "name": "ipython",
    "version": 3
   },
   "file_extension": ".py",
   "mimetype": "text/x-python",
   "name": "python",
   "nbconvert_exporter": "python",
   "pygments_lexer": "ipython3",
   "version": "3.10.8"
  }
 },
 "nbformat": 4,
 "nbformat_minor": 5
}
