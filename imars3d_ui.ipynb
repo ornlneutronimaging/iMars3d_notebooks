{
 "cells": [
  {
   "cell_type": "code",
   "execution_count": 1,
   "id": "fd77f4b7",
   "metadata": {},
   "outputs": [
    {
     "name": "stderr",
     "output_type": "stream",
     "text": [
      "olefile module not found\n"
     ]
    },
    {
     "data": {
      "text/html": [
       "\n",
       "                       <style>\n",
       "                       .result_label {\n",
       "                          font-style: bold;\n",
       "                          color: red;\n",
       "                          font-size: 18px;\n",
       "                       }\n",
       "                       </style>\n",
       "                       "
      ],
      "text/plain": [
       "<IPython.core.display.HTML object>"
      ]
     },
     "metadata": {},
     "output_type": "display_data"
    },
    {
     "name": "stdout",
     "output_type": "stream",
     "text": [
      "** Using Debugging Mode! **\n"
     ]
    },
    {
     "data": {
      "application/vnd.jupyter.widget-view+json": {
       "model_id": "b1bc6cd7d6a04ffdb5e49fc507bd2ba3",
       "version_major": 2,
       "version_minor": 0
      },
      "text/plain": [
       "VBox(children=(HBox(children=(Label(value='Select Instrument', layout=Layout(width='20%')), Select(layout=Layo…"
      ]
     },
     "metadata": {},
     "output_type": "display_data"
    },
    {
     "data": {
      "text/html": [
       "<style>\n",
       "\n",
       "/* The following CSS has been adapted from\n",
       "   http://nbviewer.ipython.org/github/ketch/teaching-numerics-with-notebooks/blob/master/Styling_notebooks.ipynb\n",
       "   by Aron Ahmadia and David Ketcheson and has been reused under CC BY 4.0\n",
       "   */\n",
       "\n",
       "/* main background */\n",
       "#site { \n",
       "    background: #888;\n",
       "    color: #red; \n",
       "}\n",
       "\n",
       "div.container {\n",
       "    width: 100% ! important;\n",
       "}\n",
       "\n",
       "div.cell { /* set cell width to about 80 chars */\n",
       "    width: 95%;\n",
       "}\n",
       "\n",
       "div #notebook { /* centre the content */\n",
       "/*    background: #fff; /* white background for content */\n",
       "    background: blue;\n",
       "    width: 100%;\n",
       "    margin: auto;\n",
       "    padding-left: 1em;\n",
       "    padding-right: 1em;\n",
       "    background-image: url(\"tile_background.jpg\");\n",
       "}\n",
       "\n",
       "#notebook li { /* More space between bullet points */\n",
       "    margin-top:0.4em;\n",
       "}\n",
       "\n",
       "/* change background color of running cells */\n",
       "div.cell.code_cell.running {\n",
       "/*    background-color: rgba(164,188,194,.75); */\n",
       "    background-color: green;\n",
       "    border-width: 8px\n",
       "    border-style: solid\n",
       "    border-color: #111;\n",
       "}\n",
       "\n",
       "/* Put a solid color box around each cell and its output, visually linking them together */\n",
       "div.cell.code_cell {\n",
       "    background-color: rgba(164,188,194,.25); /* Continuum L Gray with alpha 0.25 */\n",
       "    border-radius: 10px; /* rounded borders */\n",
       "    padding: 1em;\n",
       "    margin-top: 1em;\n",
       "}\n",
       "\n",
       "div.text_cell_render{\n",
       "\tfont-family: Georgia, Times, 'Times New Roman', serif;\n",
       "    line-height: 110%;\n",
       "    font-size: 105%;\n",
       "    width: 95%;\n",
       "    margin-left: auto;\n",
       "    margin-right: auto;\n",
       "}\n",
       "\n",
       "\n",
       "/* Formatting for header cells */\n",
       ".text_cell_render h1 {\n",
       "\tfont-family: Arial, 'Helvetica Neue', Helvetica, sans-serif;\n",
       "    font-weight: 400;\n",
       "    font-size: 30pt;\n",
       "    line-height: 100%;\n",
       "    color: rgb(37,55,70); /* Continuum Blue*/\n",
       "    margin-bottom: 0.1em;\n",
       "    margin-top: 0.1em;\n",
       "    display: block;\n",
       "}\n",
       ".text_cell_render h2 {\n",
       "\tfont-family: Arial, 'Helvetica Neue', Helvetica, sans-serif;\n",
       "    font-weight: 700;\n",
       "    font-size: 22pt;\n",
       "    line-height: 100%;\n",
       "    color: rgb(37,55,70);\n",
       "    margin-bottom: 0.1em;\n",
       "    margin-top: 0.1em;\n",
       "    display: block;\n",
       "}\n",
       "\n",
       ".text_cell_render h3 {\n",
       "\tfont-family: Arial, 'Helvetica Neue', Helvetica, sans-serif;\n",
       "    margin-top:12px;\n",
       "    margin-bottom: 3px;\n",
       "    font-style: italic;\n",
       "    color: rgb(37, 55, 70);\n",
       "}\n",
       "\n",
       ".text_cell_render h4 {\n",
       "\tfont-family: Arial, 'Helvetica Neue', Helvetica, sans-serif;\n",
       "}\n",
       "\n",
       ".text_cell_render h5 {\n",
       "\tfont-family: Arial, 'Helvetica Neue', Helvetica, sans-serif;\n",
       "    font-weight: 300;\n",
       "    font-size: 14pt;\n",
       "    font-style: italic;\n",
       "    margin-bottom: .1em;\n",
       "    margin-top: 0.1em;\n",
       "    display: block;\n",
       "}\n",
       "\n",
       ".text_cell_render h6 {\n",
       "\tfont-family: Arial, 'Helvetica Neue', Helvetica, sans-serif;\n",
       "    font-weight: 300;\n",
       "    font-size: 10pt;\n",
       "    margin-bottom: 1px;\n",
       "    margin-top: 1px;\n",
       "}\n",
       "\n",
       ".CodeMirror{\n",
       "        font-family: \"PT Mono\", fixed;\n",
       "        font-size: 100%;\n",
       "}\n",
       "\n",
       "#notebook_panel { /* main background */\n",
       "    background-image: url(\"tile_background.jpg\");\n",
       "}\n",
       "\n",
       "\n",
       "\n",
       "\n",
       "</style>\n"
      ],
      "text/plain": [
       "<IPython.core.display.HTML object>"
      ]
     },
     "execution_count": 1,
     "metadata": {},
     "output_type": "execute_result"
    }
   ],
   "source": [
    "import os\n",
    "\n",
    "import numpy as np\n",
    "\n",
    "import ipywidgets as widgets\n",
    "from ipywidgets import interactive\n",
    "from IPython.display import display\n",
    "\n",
    "import matplotlib.pyplot as plt\n",
    "%matplotlib notebook\n",
    "\n",
    "import imars3d\n",
    "import tomopy\n",
    "import timeit\n",
    "\n",
    "from imars3d.ui.widgets import Tqdm\n",
    "import panel as pn\n",
    "\n",
    "from imars3d.backend.dataio.data import load_data, _get_filelist_by_dir\n",
    "from imars3d.backend.morph.crop import crop, detect_bounds\n",
    "from imars3d.backend.corrections.gamma_filter import gamma_filter\n",
    "from imars3d.backend.preparation.normalization import normalization\n",
    "from imars3d.backend.diagnostics import tilt\n",
    "from imars3d.backend.diagnostics.rotation import find_rotation_center\n",
    "from imars3d.backend.corrections.ring_removal import remove_ring_artifact\n",
    "from imars3d.backend.reconstruction import recon\n",
    "from imars3d.backend.dataio.data import save_data\n",
    "\n",
    "# import bm3d\n",
    "\n",
    "from __code.system import System\n",
    "System.select_working_dir()\n",
    "from __code.__all import custom_style\n",
    "custom_style.style()"
   ]
  },
  {
   "cell_type": "code",
   "execution_count": null,
   "id": "2014bbac",
   "metadata": {},
   "outputs": [],
   "source": [
    "ncore = 10"
   ]
  },
  {
   "cell_type": "markdown",
   "id": "d1c84734",
   "metadata": {},
   "source": [
    "# Select input data "
   ]
  },
  {
   "cell_type": "markdown",
   "id": "1a9713ab",
   "metadata": {},
   "source": [
    "## data"
   ]
  },
  {
   "cell_type": "code",
   "execution_count": null,
   "id": "bf8e0048",
   "metadata": {},
   "outputs": [],
   "source": []
  },
  {
   "cell_type": "markdown",
   "id": "be010800",
   "metadata": {},
   "source": [
    "## ob "
   ]
  },
  {
   "cell_type": "code",
   "execution_count": null,
   "id": "3b736682",
   "metadata": {},
   "outputs": [],
   "source": []
  },
  {
   "cell_type": "markdown",
   "id": "ba6b9bff",
   "metadata": {},
   "source": [
    "## dc "
   ]
  },
  {
   "cell_type": "code",
   "execution_count": null,
   "id": "a1abeac0",
   "metadata": {},
   "outputs": [],
   "source": []
  },
  {
   "cell_type": "code",
   "execution_count": null,
   "id": "9521f526",
   "metadata": {},
   "outputs": [],
   "source": [
    "ct_dir = \"/HFIR/CG1D/IPTS-31148/raw/ct_scans/December3_2022\"\n",
    "assert os.path.exists(ct_dir)\n",
    "\n",
    "ob_dir = \"/HFIR/CG1D/IPTS-31148/raw/ob/December3_2022\"\n",
    "assert os.path.exists(ob_dir)\n",
    "\n",
    "dc_dir = \"/HFIR/CG1D/IPTS-31148/raw/dc/2022_12_05\"\n",
    "assert os.path.exists(dc_dir)"
   ]
  },
  {
   "cell_type": "markdown",
   "id": "1e53e769",
   "metadata": {},
   "source": [
    "# Load data "
   ]
  },
  {
   "cell_type": "code",
   "execution_count": null,
   "id": "51bdc500",
   "metadata": {},
   "outputs": [],
   "source": [
    "pn.extension()\n",
    "tqdm = Tqdm()\n",
    "display(tqdm)\n",
    "proj_raw, ob_raw, dc_raw, rot_angles = load_data(ct_dir=ct_dir,\n",
    "                                   ob_dir=ob_dir,\n",
    "                                   dc_dir=dc_dir,\n",
    "                                   ct_fnmatch=\"*.tiff\",\n",
    "                                   ob_fnmatch=\"*.tiff\",\n",
    "                                   dc_fnmatch=\"*.tiff\", tqdm_class=tqdm)\n",
    "proj_min = np.min(proj_raw, axis=0)"
   ]
  },
  {
   "cell_type": "code",
   "execution_count": null,
   "id": "0680e5d7",
   "metadata": {
    "scrolled": false
   },
   "outputs": [],
   "source": [
    "fig, (ax0, ax1, ax2) = plt.subplots(nrows=3, ncols=1, figsize=(5,9))\n",
    "proj_min = np.min(proj_raw, axis=0)\n",
    "ob_min = np.min(ob_raw, axis=0)\n",
    "dc_max = np.max(dc_raw, axis=0)\n",
    "\n",
    "plt0 = ax0.imshow(proj_min)\n",
    "fig.colorbar(plt0, ax=ax0)\n",
    "ax0.set_title(\"np.min(proj_raw)\")\n",
    "\n",
    "plt1 = ax1.imshow(ob_min)\n",
    "fig.colorbar(plt1, ax=ax1)\n",
    "ax1.set_title(\"np.min(ob_raw)\")\n",
    "\n",
    "plt2 = ax2.imshow(dc_max)\n",
    "fig.colorbar(plt2, ax=ax2)\n",
    "ax2.set_title(\"np.min(dc_raw)\")\n",
    "\n",
    "fig.tight_layout()"
   ]
  },
  {
   "cell_type": "markdown",
   "id": "e4f52458",
   "metadata": {},
   "source": [
    "# Crop "
   ]
  },
  {
   "cell_type": "markdown",
   "id": "3c70325b",
   "metadata": {},
   "source": [
    "Select crop ui here"
   ]
  },
  {
   "cell_type": "code",
   "execution_count": null,
   "id": "c051231d",
   "metadata": {},
   "outputs": [],
   "source": []
  },
  {
   "cell_type": "code",
   "execution_count": null,
   "id": "beaf819b",
   "metadata": {},
   "outputs": [],
   "source": [
    "crop_region = [319, 1855, 162, 1994]    # [left, right, top, bottom]"
   ]
  },
  {
   "cell_type": "code",
   "execution_count": null,
   "id": "65d98399",
   "metadata": {},
   "outputs": [],
   "source": [
    "proj_crop = crop(arrays=proj_raw,\n",
    "         crop_limit=crop_region)\n",
    "ob_crop = crop(arrays=ob_raw,\n",
    "         crop_limit=crop_region)\n",
    "dc_crop = crop(arrays=dc_raw,\n",
    "         crop_limit=crop_region)\n",
    "proj_crop_min = crop(arrays=proj_min,\n",
    "                    crop_limit=crop_region)"
   ]
  },
  {
   "cell_type": "code",
   "execution_count": null,
   "id": "0096aca7",
   "metadata": {
    "scrolled": false
   },
   "outputs": [],
   "source": [
    "fig, (ax0, ax1) = plt.subplots(nrows=1, ncols=2, figsize=(7,5))\n",
    "\n",
    "fig1 = ax0.imshow(proj_crop_min)\n",
    "plt.colorbar(fig1, ax=ax0)\n",
    "ax0.set_title(\"min of proj\")\n",
    "\n",
    "fig2 = ax1.imshow(proj_crop[0])\n",
    "plt.colorbar(fig2, ax=ax1)\n",
    "ax1.set_title(\"proj\")\n",
    "\n",
    "plt.tight_layout()"
   ]
  },
  {
   "cell_type": "markdown",
   "id": "6df4b3ab",
   "metadata": {},
   "source": [
    "# gamma filtering "
   ]
  },
  {
   "cell_type": "code",
   "execution_count": null,
   "id": "5169f048",
   "metadata": {},
   "outputs": [],
   "source": [
    "t0 = timeit.default_timer()\n",
    "proj_gamma = gamma_filter(arrays=proj_crop, \n",
    "                        selective_median_filter=False, \n",
    "                        diff_tomopy=20, \n",
    "                        max_workers=48, \n",
    "                        median_kernel=3)\n",
    "ob_gamma = ob_crop\n",
    "dc_gamma = dc_crop\n",
    "t1 = timeit.default_timer()\n",
    "print(f\"time: {t1-t0} s\")"
   ]
  },
  {
   "cell_type": "code",
   "execution_count": null,
   "id": "d6b31862",
   "metadata": {
    "scrolled": false
   },
   "outputs": [],
   "source": [
    "proj_gamma_min = np.min(proj_gamma, axis=0)\n",
    "plt.figure(num=\"Gamma filtering\")\n",
    "plt.imshow(proj_gamma_min)\n",
    "plt.colorbar()"
   ]
  },
  {
   "cell_type": "markdown",
   "id": "7ad2184f",
   "metadata": {},
   "source": [
    "# normalization "
   ]
  },
  {
   "cell_type": "code",
   "execution_count": null,
   "id": "23e67dd6",
   "metadata": {},
   "outputs": [],
   "source": [
    "t0 = timeit.default_timer()\n",
    "proj_norm = normalization(arrays=proj_gamma,\n",
    "                          flats=ob_gamma,\n",
    "                          darks=dc_gamma)\n",
    "t1 = timeit.default_timer()\n",
    "print(f\"time: {t1-t0} s\")"
   ]
  },
  {
   "cell_type": "code",
   "execution_count": null,
   "id": "9cfd60ae",
   "metadata": {},
   "outputs": [],
   "source": [
    "plt.figure()\n",
    "proj_norm_min = np.min(proj_norm, axis=0)\n",
    "plt.imshow(proj_norm_min)\n",
    "plt.colorbar()"
   ]
  },
  {
   "cell_type": "code",
   "execution_count": null,
   "id": "633b42a6",
   "metadata": {},
   "outputs": [],
   "source": [
    "# my_ob = np.median(ob_gamma, axis=0)\n",
    "# my_dc = np.median(dc_gamma, axis=0)\n",
    "\n",
    "# proj_norm = []\n",
    "# for ct in proj_gamma:\n",
    "#     proj_norm.append(np.true_divide(ct-my_dc, my_ob-my_dc))\n",
    "\n",
    "# proj_norm = np.asarray(proj_norm)"
   ]
  },
  {
   "cell_type": "code",
   "execution_count": null,
   "id": "e476cfd8",
   "metadata": {},
   "outputs": [],
   "source": [
    "# fig, (ax0, ax1) = plt.subplots(nrows=1, ncols=2, figsize=(10,5))\n",
    "\n",
    "# proj_norm_min = np.min(proj_norm, axis=0)\n",
    "# fig1 = ax0.imshow(proj_norm_min)\n",
    "# plt.colorbar(fig1, ax=ax0)\n",
    "\n",
    "# proj_norm1_min = np.min(proj_norm1, axis=0)\n",
    "# fig2 = ax1.imshow(proj_norm1_min)\n",
    "# plt.colorbar(fig2, ax=ax1)"
   ]
  },
  {
   "cell_type": "markdown",
   "id": "24f2000a",
   "metadata": {},
   "source": [
    "# beam fluctuation "
   ]
  },
  {
   "cell_type": "markdown",
   "id": "40e16989",
   "metadata": {},
   "source": [
    "Select background roi"
   ]
  },
  {
   "cell_type": "code",
   "execution_count": null,
   "id": "4436e53f",
   "metadata": {},
   "outputs": [],
   "source": []
  },
  {
   "cell_type": "markdown",
   "id": "6dfb965a",
   "metadata": {},
   "source": [
    "Using normalize_roi because part of the rotation stage is in the way and does not allow to use normalize_bg"
   ]
  },
  {
   "cell_type": "code",
   "execution_count": null,
   "id": "9253bd08",
   "metadata": {},
   "outputs": [],
   "source": [
    "bg_region = [0, 250, 0, 1100]  #  [left, right, top, bottom]"
   ]
  },
  {
   "cell_type": "code",
   "execution_count": null,
   "id": "8090de11",
   "metadata": {
    "scrolled": false
   },
   "outputs": [],
   "source": [
    "proj_norm_bg = proj_norm[:, bg_region[2]: bg_region[3],\n",
    "                            bg_region[0]: bg_region[1]]\n",
    "proj_norm_bg_min = np.min(proj_norm_bg, axis=0)\n",
    "plt.figure()\n",
    "plt.imshow(proj_norm_bg_min)\n",
    "plt.colorbar()"
   ]
  },
  {
   "cell_type": "code",
   "execution_count": null,
   "id": "f1f2641a",
   "metadata": {},
   "outputs": [],
   "source": [
    "roi = [bg_region[2], bg_region[0],\n",
    "       bg_region[3], bg_region[1]]"
   ]
  },
  {
   "cell_type": "code",
   "execution_count": null,
   "id": "fa80e60b",
   "metadata": {},
   "outputs": [],
   "source": [
    "t0 = timeit.default_timer()\n",
    "proj_norm_beam_fluctuation = tomopy.prep.normalize.normalize_roi(proj_norm,\n",
    "                                               roi=roi,\n",
    "                                               ncore=ncore)\n",
    "t1 = timeit.default_timer()\n",
    "print(f\"time: {t1-t0} s\")"
   ]
  },
  {
   "cell_type": "code",
   "execution_count": null,
   "id": "c75580db",
   "metadata": {},
   "outputs": [],
   "source": [
    "fig, (ax0, ax1) = plt.subplots(nrows=2, ncols=1,\n",
    "                               num=\"Beam fluctuation\",\n",
    "                               figsize=(5,10))\n",
    "\n",
    "# before beam fluctuation\n",
    "#proj_norm_min = np.min(proj_norm, axis=0)\n",
    "#fig0 = ax0.imshow(proj_norm_min)\n",
    "fig0 = ax0.imshow(proj_norm[0])\n",
    "ax0.set_title(\"before\")\n",
    "plt.colorbar(fig0, ax=ax0)\n",
    "\n",
    "# after beam fluctuation\n",
    "# proj_norm_beam_fluctuation_min = np.min(proj_norm_beam_fluctuation, axis=0)\n",
    "# fig1 = ax1.imshow(proj_norm_beam_fluctuation_min)\n",
    "fig1 = ax1.imshow(proj_norm_beam_fluctuation[0])\n",
    "ax1.set_title(\"after\")\n",
    "plt.colorbar(fig1, ax=ax1)\n"
   ]
  },
  {
   "cell_type": "markdown",
   "id": "85987b79",
   "metadata": {},
   "source": [
    "# attenuation to transmission"
   ]
  },
  {
   "cell_type": "code",
   "execution_count": null,
   "id": "4907f3a4",
   "metadata": {},
   "outputs": [],
   "source": [
    "proj_mlog = tomopy.minus_log(proj_norm_beam_fluctuation)"
   ]
  },
  {
   "cell_type": "code",
   "execution_count": null,
   "id": "2ac51308",
   "metadata": {},
   "outputs": [],
   "source": [
    "# proj_mlog_min = np.min(proj_mlog, axis=0)\n",
    "plt.figure()\n",
    "plt.imshow(proj_mlog[0])\n",
    "plt.colorbar()"
   ]
  },
  {
   "cell_type": "markdown",
   "id": "0805106f",
   "metadata": {},
   "source": [
    "# Tilt correction (zzz)"
   ]
  },
  {
   "cell_type": "markdown",
   "id": "3f0b3c2e",
   "metadata": {},
   "source": [
    "Manually calculating the `atol` parameter"
   ]
  },
  {
   "cell_type": "code",
   "execution_count": null,
   "id": "d93a3b4d",
   "metadata": {},
   "outputs": [],
   "source": [
    "delta_angle = rot_angles[1] - rot_angles[0]\n",
    "mean_delta_angle = np.mean([y-x for (x,y) in zip(rot_angles[:-1], rot_angles[1:])])\n",
    "\n",
    "list_180_deg_pairs_idx = tilt.find_180_deg_pairs_idx(angles=rot_angles,\n",
    "                                                    atol=mean_delta_angle)"
   ]
  },
  {
   "cell_type": "markdown",
   "id": "741c54b1",
   "metadata": {},
   "source": [
    "checking that the 180degrees file found is correct"
   ]
  },
  {
   "cell_type": "code",
   "execution_count": null,
   "id": "c3c69dd6",
   "metadata": {},
   "outputs": [],
   "source": [
    "from imars3d.backend.dataio.data import _get_filelist_by_dir"
   ]
  },
  {
   "cell_type": "code",
   "execution_count": null,
   "id": "56f69cf6",
   "metadata": {},
   "outputs": [],
   "source": [
    "index_0_degree = list_180_deg_pairs_idx[0][0]\n",
    "index_180_degree = list_180_deg_pairs_idx[1][0]\n",
    "\n",
    "\n",
    "list_ct_files, list_ob_files, list_dc_files = _get_filelist_by_dir(ct_dir=ct_dir,\n",
    "                                                                  ob_dir=ob_dir)\n",
    "\n",
    "file_0_degree = list_ct_files[index_0_degree]\n",
    "file_180_degree = list_ct_files[index_180_degree]\n",
    "file_180_next_degree = list_ct_files[index_180_degree+1]\n",
    "\n",
    "print(f\"{index_0_degree =}\")\n",
    "print(f\"{index_180_degree =}\")\n",
    "\n",
    "print(f\"file 0 degrees: {os.path.basename(file_0_degree)}\")\n",
    "print(f\"file 180 degrees: {os.path.basename(file_180_degree)}\")\n",
    "print(f\"next file is: {os.path.basename(file_180_next_degree)}\")"
   ]
  },
  {
   "cell_type": "markdown",
   "id": "59de1ef3",
   "metadata": {},
   "source": [
    "Calculate tilt correction value"
   ]
  },
  {
   "cell_type": "code",
   "execution_count": null,
   "id": "f60f08f9",
   "metadata": {},
   "outputs": [],
   "source": [
    "t0 = timeit.default_timer()\n",
    "tilt_angle = tilt.calculate_tilt(image0=proj_mlog[index_0_degree],\n",
    "                                image180=proj_mlog[index_180_degree])\n",
    "print(f\"tilt_angle: {tilt_angle}\")\n",
    "t1 = timeit.default_timer()\n",
    "print(f\"time: {t1-t0} s\")"
   ]
  },
  {
   "cell_type": "markdown",
   "id": "85dc6fd2",
   "metadata": {},
   "source": [
    "apply the tilt correction"
   ]
  },
  {
   "cell_type": "code",
   "execution_count": null,
   "id": "720483ae",
   "metadata": {},
   "outputs": [],
   "source": [
    "t0 = timeit.default_timer()\n",
    "\n",
    "pn.extension()\n",
    "tqdm = Tqdm()\n",
    "display(tqdm)\n",
    "\n",
    "proj_tilt_corrected = tilt.apply_tilt_correction(arrays=proj_mlog,\n",
    "                                                tilt=tilt_angle.x,\n",
    "                                                tqdm_class=tqdm)\n",
    "t1 = timeit.default_timer()\n",
    "print(f\"time: {t1-t0} s\")"
   ]
  },
  {
   "cell_type": "markdown",
   "id": "a8209282",
   "metadata": {},
   "source": [
    "### checking if tilt applied worked"
   ]
  },
  {
   "cell_type": "code",
   "execution_count": null,
   "id": "a4ae5868",
   "metadata": {},
   "outputs": [],
   "source": [
    "fig, (ax0, ax1) = plt.subplots(nrows=2, ncols=1,\n",
    "                               num=\"Tilt correction\",\n",
    "                               figsize=(5,10))\n",
    "\n",
    "# before beam fluctuation\n",
    "#proj_norm_min = np.min(proj_norm, axis=0)\n",
    "#fig0 = ax0.imshow(proj_norm_min)\n",
    "fig0 = ax0.imshow(proj_tilt_corrected[index_0_degree])\n",
    "ax0.set_title(\"0 degree\")\n",
    "plt.colorbar(fig0, ax=ax0)\n",
    "\n",
    "# after beam fluctuation\n",
    "# proj_norm_beam_fluctuation_min = np.min(proj_norm_beam_fluctuation, axis=0)\n",
    "# fig1 = ax1.imshow(proj_norm_beam_fluctuation_min)\n",
    "fig1 = ax1.imshow(np.fliplr(proj_tilt_corrected[index_180_degree]))\n",
    "ax1.set_title(\"180 degree (flipped)\")\n",
    "plt.colorbar(fig1, ax=ax1)"
   ]
  },
  {
   "cell_type": "markdown",
   "id": "82f1d191",
   "metadata": {},
   "source": [
    "# Rotation center (zzz)"
   ]
  },
  {
   "cell_type": "code",
   "execution_count": null,
   "id": "9339dac2",
   "metadata": {
    "scrolled": true
   },
   "outputs": [],
   "source": [
    "t0 = timeit.default_timer()\n",
    "\n",
    "pn.extension()\n",
    "tqdm = Tqdm()\n",
    "display(tqdm)\n",
    "\n",
    "rot_center = find_rotation_center(arrays=proj_tilt_corrected,\n",
    "                                 angles=rot_angles,\n",
    "                                 in_degrees=True,\n",
    "                                 atol_deg=mean_delta_angle,\n",
    "                                 tqdm_class=tqdm\n",
    "                                 )\n",
    "t1 = timeit.default_timer()\n",
    "print(f\"time: {t1-t0} s\")"
   ]
  },
  {
   "cell_type": "code",
   "execution_count": null,
   "id": "534418db",
   "metadata": {},
   "outputs": [],
   "source": [
    "print(f\"{rot_center=}\")"
   ]
  },
  {
   "cell_type": "markdown",
   "id": "8167a911",
   "metadata": {},
   "source": [
    "# Strikes removal"
   ]
  },
  {
   "cell_type": "markdown",
   "id": "ca9cb44e",
   "metadata": {},
   "source": [
    "### using imars3d - ketcham method working on 3D stack"
   ]
  },
  {
   "cell_type": "code",
   "execution_count": null,
   "id": "d8341d03",
   "metadata": {},
   "outputs": [],
   "source": [
    "t0 = timeit.default_timer()\n",
    "\n",
    "pn.extension()\n",
    "tqdm = Tqdm()\n",
    "display(tqdm)\n",
    "\n",
    "proj_strikes_removed = remove_ring_artifact(arrays=proj_tilt_corrected,\n",
    "                                           kernel_size=5,\n",
    "                                           max_workers=ncore,\n",
    "                                           tqdm_class=tqdm)\n",
    "\n",
    "\n",
    "t1 = timeit.default_timer()\n",
    "print(f\"time= {t1-t0} s\")"
   ]
  },
  {
   "cell_type": "code",
   "execution_count": null,
   "id": "ea314794",
   "metadata": {
    "scrolled": false
   },
   "outputs": [],
   "source": [
    "# fig, (ax0, ax1) = plt.subplots(nrows=2, ncols=1,\n",
    "#                                num=\"imars3d ketcham \",\n",
    "#                                figsize=(5,10))\n",
    "\n",
    "# # before beam fluctuation\n",
    "# #proj_norm_min = np.min(proj_norm, axis=0)\n",
    "# #fig0 = ax0.imshow(proj_norm_min)\n",
    "# fig0 = ax0.imshow(proj_tilt_corrected[0])\n",
    "# ax0.set_title(\"before\")\n",
    "# plt.colorbar(fig0, ax=ax0)\n",
    "\n",
    "# # after beam fluctuation\n",
    "# # proj_norm_beam_fluctuation_min = np.min(proj_norm_beam_fluctuation, axis=0)\n",
    "# # fig1 = ax1.imshow(proj_norm_beam_fluctuation_min)\n",
    "# fig1 = ax1.imshow(proj_strikes_removed[0])\n",
    "# ax1.set_title(\"after\")\n",
    "# plt.colorbar(fig1, ax=ax1)"
   ]
  },
  {
   "cell_type": "markdown",
   "id": "a5a1f5be",
   "metadata": {},
   "source": [
    "### using tomopy (Vo)"
   ]
  },
  {
   "cell_type": "code",
   "execution_count": null,
   "id": "38c356c6",
   "metadata": {},
   "outputs": [],
   "source": [
    "# nchunk = int(proj_tilt_corrected.shape[0]/ncore) + 1\n",
    "# print(f\"chunk size: {nchunk}\")\n",
    "\n",
    "# t0 = timeit.default_timer()\n",
    "# proj_strikes_removed = tomopy.remove_all_stripe(proj_tilt_corrected,\n",
    "#                                                ncore=ncore,\n",
    "#                                                nchunk=nchunk)\n",
    "\n",
    "# t1 = timeit.default_timer()\n",
    "# print(f\"time= {t1-t0:.2f} s\")"
   ]
  },
  {
   "cell_type": "code",
   "execution_count": null,
   "id": "8ff1e2a1",
   "metadata": {},
   "outputs": [],
   "source": [
    "# fig, (ax0, ax1) = plt.subplots(nrows=2, ncols=1,\n",
    "#                                num=\"tomopy Vo \",\n",
    "#                                figsize=(5,10))\n",
    "\n",
    "# # before beam fluctuation\n",
    "# #proj_norm_min = np.min(proj_norm, axis=0)\n",
    "# #fig0 = ax0.imshow(proj_norm_min)\n",
    "# fig0 = ax0.imshow(proj_tilt_corrected[0])\n",
    "# ax0.set_title(\"before\")\n",
    "# plt.colorbar(fig0, ax=ax0)\n",
    "\n",
    "# # after beam fluctuation\n",
    "# # proj_norm_beam_fluctuation_min = np.min(proj_norm_beam_fluctuation, axis=0)\n",
    "# # fig1 = ax1.imshow(proj_norm_beam_fluctuation_min)\n",
    "# fig1 = ax1.imshow(proj_strikes_removed[0])\n",
    "# ax1.set_title(\"after\")\n",
    "# plt.colorbar(fig1, ax=ax1)"
   ]
  },
  {
   "cell_type": "markdown",
   "id": "cb14b508",
   "metadata": {},
   "source": [
    "### bm3d"
   ]
  },
  {
   "cell_type": "code",
   "execution_count": null,
   "id": "bee9130a",
   "metadata": {},
   "outputs": [],
   "source": [
    "# import bm3d_streak_removal as bm3d"
   ]
  },
  {
   "cell_type": "code",
   "execution_count": null,
   "id": "9129efc1",
   "metadata": {},
   "outputs": [],
   "source": [
    "# t0 = timeit.default_timer()\n",
    "# proj_mlog = \n",
    "\n",
    "\n",
    "\n",
    "\n",
    "# t1 = timeit.default_timer()\n",
    "# print(f\"time: {t1-t0: .2f} s\")"
   ]
  },
  {
   "cell_type": "markdown",
   "id": "e39c3bd2",
   "metadata": {},
   "source": [
    "# Reconstruction "
   ]
  },
  {
   "cell_type": "code",
   "execution_count": null,
   "id": "fd53b397",
   "metadata": {},
   "outputs": [],
   "source": [
    "t0 = timeit.default_timer()\n",
    "\n",
    "# converting angles from deg to radians\n",
    "rot_ang_rad = np.radians(rot_angles)\n",
    "\n",
    "reconstruction = recon(arrays=proj_strikes_removed,\n",
    "             center=rot_center[0],\n",
    "             theta=rot_ang_rad,\n",
    "             )\n",
    "\n",
    "t1 = timeit.default_timer()\n",
    "print(f\"time: {t1-t0:.2f} s\")"
   ]
  },
  {
   "cell_type": "code",
   "execution_count": null,
   "id": "603e2f6c",
   "metadata": {},
   "outputs": [],
   "source": [
    "plt.figure()\n",
    "plt.imshow(reconstruction[1000], vmin=0, vmax=0.004)\n",
    "plt.colorbar()\n"
   ]
  },
  {
   "cell_type": "markdown",
   "id": "58916e7d",
   "metadata": {},
   "source": [
    "# Export\n"
   ]
  },
  {
   "cell_type": "code",
   "execution_count": null,
   "id": "3639ccce",
   "metadata": {},
   "outputs": [],
   "source": [
    "output_folder = \"/HFIR/CG1D/IPTS-31148/shared/processed_data\"\n",
    "save_data(data=np.asarray(reconstruction),\n",
    "         outputbase=output_folder,\n",
    "         name=\"small_turbine\")\n"
   ]
  },
  {
   "cell_type": "code",
   "execution_count": null,
   "id": "71386b16",
   "metadata": {},
   "outputs": [],
   "source": []
  }
 ],
 "metadata": {
  "kernelspec": {
   "display_name": "Python 3 (ipykernel)",
   "language": "python",
   "name": "python3"
  },
  "language_info": {
   "codemirror_mode": {
    "name": "ipython",
    "version": 3
   },
   "file_extension": ".py",
   "mimetype": "text/x-python",
   "name": "python",
   "nbconvert_exporter": "python",
   "pygments_lexer": "ipython3",
   "version": "3.10.8"
  }
 },
 "nbformat": 4,
 "nbformat_minor": 5
}
